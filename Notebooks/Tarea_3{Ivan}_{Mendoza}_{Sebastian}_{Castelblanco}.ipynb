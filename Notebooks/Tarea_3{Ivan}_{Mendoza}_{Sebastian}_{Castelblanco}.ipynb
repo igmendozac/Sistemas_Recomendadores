{
 "cells": [
  {
   "cell_type": "markdown",
   "metadata": {
    "id": "NC-ceGb8LRLT"
   },
   "source": [
    "# Tarea 3 - MAN3160"
   ]
  },
  {
   "cell_type": "markdown",
   "metadata": {
    "id": "mACJbcW8T35p"
   },
   "source": [
    "\n",
    "\n",
    "**Profesor**: Denis Parra\n",
    "\n",
    "**Ayudante**: Álvaro Labarca.\n"
   ]
  },
  {
   "cell_type": "markdown",
   "metadata": {
    "id": "lcqqkI9yZ2tL"
   },
   "source": [
    "En esta tarea, se utilizará la biblioteca DeepCTR-Torch para generar un sistema recomendador que utiliza información de contenido y contexto."
   ]
  },
  {
   "cell_type": "markdown",
   "metadata": {},
   "source": [
    "## Descarga del dataset"
   ]
  },
  {
   "cell_type": "markdown",
   "metadata": {
    "id": "GSEH7nJw6ecN"
   },
   "source": [
    "Nuevamente, se utilizará el dataset MovieLens-100k para esta tarea."
   ]
  },
  {
   "cell_type": "code",
   "execution_count": 4,
   "metadata": {
    "colab": {
     "base_uri": "https://localhost:8080/"
    },
    "id": "mPCUqeZNb2-D",
    "outputId": "55d2ce6a-4951-44c7-b592-206030b24efe",
    "scrolled": true
   },
   "outputs": [],
   "source": [
    "# !pip install wget\n",
    "# !pip install zipfile36\n",
    "# !pip3 install implicit --upgrade\n",
    "# !python -m wget http://files.grouplens.org/datasets/movielens/ml-100k.zip\n",
    "# !pip install deepctr-torch\n",
    "# !pip install tensorflow"
   ]
  },
  {
   "cell_type": "code",
   "execution_count": 2,
   "metadata": {},
   "outputs": [],
   "source": [
    "import zipfile\n",
    "with zipfile.ZipFile(\"ml-100k.zip\", 'r') as zip_ref:\n",
    "    zip_ref.extractall(\".\")"
   ]
  },
  {
   "cell_type": "code",
   "execution_count": 114,
   "metadata": {},
   "outputs": [],
   "source": [
    "# Pueden importar más librerías si es necesario\n",
    "\n",
    "import pandas as pd\n",
    "import matplotlib.pyplot as plt\n",
    "import zipfile\n",
    "import numpy as np\n",
    "import implicit\n",
    "import scipy.sparse as sparse\n",
    "import time\n",
    "import numpy as np\n",
    "import pandas as pd\n",
    "import torch\n",
    "from sklearn.preprocessing import LabelEncoder\n",
    "from tensorflow.keras.preprocessing.sequence import pad_sequences\n",
    "from sklearn.model_selection import train_test_split\n",
    "from sklearn.metrics import mean_squared_error\n",
    "\n",
    "from deepctr_torch.inputs import SparseFeat, VarLenSparseFeat, get_feature_names\n",
    "from deepctr_torch.models import DeepFM"
   ]
  },
  {
   "cell_type": "code",
   "execution_count": 115,
   "metadata": {
    "id": "ZjGe47htbMmF"
   },
   "outputs": [],
   "source": [
    "def split(x):\n",
    "    key_ans = x.split('|')\n",
    "    for key in key_ans:\n",
    "        if key not in key2index:\n",
    "            # Notice : input value 0 is a special \"padding\",so we do not use 0 to encode valid feature for sequence input\n",
    "            key2index[key] = len(key2index) + 1\n",
    "    return list(map(lambda x: key2index[x], key_ans))"
   ]
  },
  {
   "cell_type": "code",
   "execution_count": 116,
   "metadata": {},
   "outputs": [],
   "source": [
    "dir_train = 'ml-100k'\n",
    "\n",
    "# Generamos los títulos de las columnas del archivo items.\n",
    "\n",
    "columns = ['itemid', 'title', 'release_date', 'video_release_date', \\\n",
    "           'IMDb_URL', 'unknown', 'Action', 'Adventure', 'Animation', \\\n",
    "           'Children', 'Comedy', 'Crime', 'Documentary', 'Drama', 'Fantasy', \\\n",
    "           'Film-Noir', 'Horror', 'Musical', 'Mystery', 'Romance', 'Sci-Fi', \\\n",
    "           'Thriller', 'War', 'Western']"
   ]
  },
  {
   "cell_type": "code",
   "execution_count": 117,
   "metadata": {
    "colab": {
     "base_uri": "https://localhost:8080/",
     "height": 206
    },
    "id": "10N9GHcw5AeV",
    "outputId": "323f55a2-7cb4-470e-dcf3-ce14747f88a3"
   },
   "outputs": [],
   "source": [
    "df = pd.read_csv(f'{dir_train}/u.data',\n",
    "                         sep='\\t',\n",
    "                         names=['userid', 'itemid', 'rating', 'timestamp'],\n",
    "                         header=None)"
   ]
  },
  {
   "cell_type": "code",
   "execution_count": 118,
   "metadata": {},
   "outputs": [],
   "source": [
    "df_items = pd.read_csv(f'{dir_train}/u.item',\n",
    "                        sep='|',\n",
    "                        index_col=0,\n",
    "                        names = columns,\n",
    "                        header=None,\n",
    "                        encoding='latin-1')"
   ]
  },
  {
   "cell_type": "code",
   "execution_count": 119,
   "metadata": {},
   "outputs": [],
   "source": [
    "columns_user = ['userid', 'age', 'gender', 'occupation', 'zip_code']"
   ]
  },
  {
   "cell_type": "code",
   "execution_count": 120,
   "metadata": {},
   "outputs": [],
   "source": [
    "df_users = pd.read_csv(f'{dir_train}/u.user',\n",
    "                        sep='|',\n",
    "                        index_col=0,\n",
    "                        names = columns_user,\n",
    "                        header=None,\n",
    "                        encoding='latin-1')\n",
    "\n",
    "df_users = df_users.reset_index()\n",
    "df_items = df_items.reset_index()"
   ]
  },
  {
   "cell_type": "code",
   "execution_count": 121,
   "metadata": {},
   "outputs": [],
   "source": [
    "df_total = pd.merge(df, df_users, on='userid')\n",
    "df_total = pd.merge(df_total, df_items, on='itemid')"
   ]
  },
  {
   "cell_type": "code",
   "execution_count": 122,
   "metadata": {},
   "outputs": [],
   "source": [
    "def combine_genres(row):\n",
    "    genres = ['Action', 'Adventure', 'Animation', 'Children', 'Comedy', 'Crime', 'Documentary', 'Drama', 'Fantasy', \\\n",
    "              'Film-Noir', 'Horror', 'Musical', 'Mystery', 'Romance', 'Sci-Fi', 'Thriller', 'War', 'Western']\n",
    "    return '|'.join([col for col, val in row.items() if val == 1 and col in genres])"
   ]
  },
  {
   "cell_type": "code",
   "execution_count": 123,
   "metadata": {},
   "outputs": [],
   "source": [
    "df_total['genres'] = df_total.apply(combine_genres, axis=1)"
   ]
  },
  {
   "cell_type": "code",
   "execution_count": 124,
   "metadata": {},
   "outputs": [],
   "source": [
    "genres = ['Action', 'Adventure', 'Animation', 'Children', 'Comedy', 'Crime', 'Documentary', 'Drama', 'Fantasy', \\\n",
    "              'Film-Noir', 'Horror', 'Musical', 'Mystery', 'Romance', 'Sci-Fi', 'Thriller', 'War', 'Western']\n",
    "df_total = df_total.drop(genres, axis=1)"
   ]
  },
  {
   "cell_type": "code",
   "execution_count": 125,
   "metadata": {},
   "outputs": [
    {
     "data": {
      "text/html": [
       "<div>\n",
       "<style scoped>\n",
       "    .dataframe tbody tr th:only-of-type {\n",
       "        vertical-align: middle;\n",
       "    }\n",
       "\n",
       "    .dataframe tbody tr th {\n",
       "        vertical-align: top;\n",
       "    }\n",
       "\n",
       "    .dataframe thead th {\n",
       "        text-align: right;\n",
       "    }\n",
       "</style>\n",
       "<table border=\"1\" class=\"dataframe\">\n",
       "  <thead>\n",
       "    <tr style=\"text-align: right;\">\n",
       "      <th></th>\n",
       "      <th>userid</th>\n",
       "      <th>itemid</th>\n",
       "      <th>rating</th>\n",
       "      <th>timestamp</th>\n",
       "      <th>age</th>\n",
       "      <th>gender</th>\n",
       "      <th>occupation</th>\n",
       "      <th>zip_code</th>\n",
       "      <th>title</th>\n",
       "      <th>release_date</th>\n",
       "      <th>video_release_date</th>\n",
       "      <th>IMDb_URL</th>\n",
       "      <th>unknown</th>\n",
       "      <th>genres</th>\n",
       "    </tr>\n",
       "  </thead>\n",
       "  <tbody>\n",
       "    <tr>\n",
       "      <th>43056</th>\n",
       "      <td>259</td>\n",
       "      <td>255</td>\n",
       "      <td>4</td>\n",
       "      <td>874724710</td>\n",
       "      <td>21</td>\n",
       "      <td>M</td>\n",
       "      <td>student</td>\n",
       "      <td>48823</td>\n",
       "      <td>My Best Friend's Wedding (1997)</td>\n",
       "      <td>20-Jun-1997</td>\n",
       "      <td>NaN</td>\n",
       "      <td>http://us.imdb.com/M/title-exact?My+Best+Frien...</td>\n",
       "      <td>0</td>\n",
       "      <td>Comedy|Romance</td>\n",
       "    </tr>\n",
       "    <tr>\n",
       "      <th>1899</th>\n",
       "      <td>259</td>\n",
       "      <td>286</td>\n",
       "      <td>4</td>\n",
       "      <td>874724727</td>\n",
       "      <td>21</td>\n",
       "      <td>M</td>\n",
       "      <td>student</td>\n",
       "      <td>48823</td>\n",
       "      <td>English Patient, The (1996)</td>\n",
       "      <td>15-Nov-1996</td>\n",
       "      <td>NaN</td>\n",
       "      <td>http://us.imdb.com/M/title-exact?English%20Pat...</td>\n",
       "      <td>0</td>\n",
       "      <td>Drama|Romance|War</td>\n",
       "    </tr>\n",
       "    <tr>\n",
       "      <th>17880</th>\n",
       "      <td>259</td>\n",
       "      <td>298</td>\n",
       "      <td>4</td>\n",
       "      <td>874724754</td>\n",
       "      <td>21</td>\n",
       "      <td>M</td>\n",
       "      <td>student</td>\n",
       "      <td>48823</td>\n",
       "      <td>Face/Off (1997)</td>\n",
       "      <td>27-Jun-1997</td>\n",
       "      <td>NaN</td>\n",
       "      <td>http://us.imdb.com/M/title-exact?Face/Off+(1997)</td>\n",
       "      <td>0</td>\n",
       "      <td>Action|Sci-Fi|Thriller</td>\n",
       "    </tr>\n",
       "    <tr>\n",
       "      <th>58719</th>\n",
       "      <td>259</td>\n",
       "      <td>185</td>\n",
       "      <td>4</td>\n",
       "      <td>874724781</td>\n",
       "      <td>21</td>\n",
       "      <td>M</td>\n",
       "      <td>student</td>\n",
       "      <td>48823</td>\n",
       "      <td>Psycho (1960)</td>\n",
       "      <td>01-Jan-1960</td>\n",
       "      <td>NaN</td>\n",
       "      <td>http://us.imdb.com/M/title-exact?Psycho%20(1960)</td>\n",
       "      <td>0</td>\n",
       "      <td>Horror|Romance|Thriller</td>\n",
       "    </tr>\n",
       "    <tr>\n",
       "      <th>5563</th>\n",
       "      <td>259</td>\n",
       "      <td>173</td>\n",
       "      <td>4</td>\n",
       "      <td>874724843</td>\n",
       "      <td>21</td>\n",
       "      <td>M</td>\n",
       "      <td>student</td>\n",
       "      <td>48823</td>\n",
       "      <td>Princess Bride, The (1987)</td>\n",
       "      <td>01-Jan-1987</td>\n",
       "      <td>NaN</td>\n",
       "      <td>http://us.imdb.com/M/title-exact?Princess%20Br...</td>\n",
       "      <td>0</td>\n",
       "      <td>Action|Adventure|Comedy|Romance</td>\n",
       "    </tr>\n",
       "    <tr>\n",
       "      <th>48244</th>\n",
       "      <td>259</td>\n",
       "      <td>772</td>\n",
       "      <td>4</td>\n",
       "      <td>874724882</td>\n",
       "      <td>21</td>\n",
       "      <td>M</td>\n",
       "      <td>student</td>\n",
       "      <td>48823</td>\n",
       "      <td>Kids (1995)</td>\n",
       "      <td>01-Jan-1995</td>\n",
       "      <td>NaN</td>\n",
       "      <td>http://us.imdb.com/M/title-exact?Kids%20(1995)</td>\n",
       "      <td>0</td>\n",
       "      <td>Drama</td>\n",
       "    </tr>\n",
       "    <tr>\n",
       "      <th>3747</th>\n",
       "      <td>259</td>\n",
       "      <td>108</td>\n",
       "      <td>4</td>\n",
       "      <td>874724882</td>\n",
       "      <td>21</td>\n",
       "      <td>M</td>\n",
       "      <td>student</td>\n",
       "      <td>48823</td>\n",
       "      <td>Kids in the Hall: Brain Candy (1996)</td>\n",
       "      <td>12-Apr-1996</td>\n",
       "      <td>NaN</td>\n",
       "      <td>http://us.imdb.com/M/title-exact?Kids%20in%20t...</td>\n",
       "      <td>0</td>\n",
       "      <td>Comedy</td>\n",
       "    </tr>\n",
       "    <tr>\n",
       "      <th>10683</th>\n",
       "      <td>259</td>\n",
       "      <td>288</td>\n",
       "      <td>3</td>\n",
       "      <td>874724905</td>\n",
       "      <td>21</td>\n",
       "      <td>M</td>\n",
       "      <td>student</td>\n",
       "      <td>48823</td>\n",
       "      <td>Scream (1996)</td>\n",
       "      <td>20-Dec-1996</td>\n",
       "      <td>NaN</td>\n",
       "      <td>http://us.imdb.com/M/title-exact?Scream%20(1996)</td>\n",
       "      <td>0</td>\n",
       "      <td>Horror|Thriller</td>\n",
       "    </tr>\n",
       "    <tr>\n",
       "      <th>88373</th>\n",
       "      <td>259</td>\n",
       "      <td>928</td>\n",
       "      <td>4</td>\n",
       "      <td>874724937</td>\n",
       "      <td>21</td>\n",
       "      <td>M</td>\n",
       "      <td>student</td>\n",
       "      <td>48823</td>\n",
       "      <td>Craft, The (1996)</td>\n",
       "      <td>26-Apr-1996</td>\n",
       "      <td>NaN</td>\n",
       "      <td>http://us.imdb.com/M/title-exact?Craft,%20The%...</td>\n",
       "      <td>0</td>\n",
       "      <td>Drama|Horror</td>\n",
       "    </tr>\n",
       "    <tr>\n",
       "      <th>10132</th>\n",
       "      <td>259</td>\n",
       "      <td>117</td>\n",
       "      <td>4</td>\n",
       "      <td>874724988</td>\n",
       "      <td>21</td>\n",
       "      <td>M</td>\n",
       "      <td>student</td>\n",
       "      <td>48823</td>\n",
       "      <td>Rock, The (1996)</td>\n",
       "      <td>07-Jun-1996</td>\n",
       "      <td>NaN</td>\n",
       "      <td>http://us.imdb.com/M/title-exact?Rock,%20The%2...</td>\n",
       "      <td>0</td>\n",
       "      <td>Action|Adventure|Thriller</td>\n",
       "    </tr>\n",
       "  </tbody>\n",
       "</table>\n",
       "</div>"
      ],
      "text/plain": [
       "       userid  itemid  rating  timestamp  age gender occupation zip_code  \\\n",
       "43056     259     255       4  874724710   21      M    student    48823   \n",
       "1899      259     286       4  874724727   21      M    student    48823   \n",
       "17880     259     298       4  874724754   21      M    student    48823   \n",
       "58719     259     185       4  874724781   21      M    student    48823   \n",
       "5563      259     173       4  874724843   21      M    student    48823   \n",
       "48244     259     772       4  874724882   21      M    student    48823   \n",
       "3747      259     108       4  874724882   21      M    student    48823   \n",
       "10683     259     288       3  874724905   21      M    student    48823   \n",
       "88373     259     928       4  874724937   21      M    student    48823   \n",
       "10132     259     117       4  874724988   21      M    student    48823   \n",
       "\n",
       "                                      title release_date  video_release_date  \\\n",
       "43056       My Best Friend's Wedding (1997)  20-Jun-1997                 NaN   \n",
       "1899            English Patient, The (1996)  15-Nov-1996                 NaN   \n",
       "17880                       Face/Off (1997)  27-Jun-1997                 NaN   \n",
       "58719                         Psycho (1960)  01-Jan-1960                 NaN   \n",
       "5563             Princess Bride, The (1987)  01-Jan-1987                 NaN   \n",
       "48244                           Kids (1995)  01-Jan-1995                 NaN   \n",
       "3747   Kids in the Hall: Brain Candy (1996)  12-Apr-1996                 NaN   \n",
       "10683                         Scream (1996)  20-Dec-1996                 NaN   \n",
       "88373                     Craft, The (1996)  26-Apr-1996                 NaN   \n",
       "10132                      Rock, The (1996)  07-Jun-1996                 NaN   \n",
       "\n",
       "                                                IMDb_URL  unknown  \\\n",
       "43056  http://us.imdb.com/M/title-exact?My+Best+Frien...        0   \n",
       "1899   http://us.imdb.com/M/title-exact?English%20Pat...        0   \n",
       "17880   http://us.imdb.com/M/title-exact?Face/Off+(1997)        0   \n",
       "58719   http://us.imdb.com/M/title-exact?Psycho%20(1960)        0   \n",
       "5563   http://us.imdb.com/M/title-exact?Princess%20Br...        0   \n",
       "48244     http://us.imdb.com/M/title-exact?Kids%20(1995)        0   \n",
       "3747   http://us.imdb.com/M/title-exact?Kids%20in%20t...        0   \n",
       "10683   http://us.imdb.com/M/title-exact?Scream%20(1996)        0   \n",
       "88373  http://us.imdb.com/M/title-exact?Craft,%20The%...        0   \n",
       "10132  http://us.imdb.com/M/title-exact?Rock,%20The%2...        0   \n",
       "\n",
       "                                genres  \n",
       "43056                   Comedy|Romance  \n",
       "1899                 Drama|Romance|War  \n",
       "17880           Action|Sci-Fi|Thriller  \n",
       "58719          Horror|Romance|Thriller  \n",
       "5563   Action|Adventure|Comedy|Romance  \n",
       "48244                            Drama  \n",
       "3747                            Comedy  \n",
       "10683                  Horror|Thriller  \n",
       "88373                     Drama|Horror  \n",
       "10132        Action|Adventure|Thriller  "
      ]
     },
     "execution_count": 125,
     "metadata": {},
     "output_type": "execute_result"
    }
   ],
   "source": [
    "df_total.sort_values(by='timestamp').head(10)"
   ]
  },
  {
   "cell_type": "markdown",
   "metadata": {},
   "source": [
    "# Actividades"
   ]
  },
  {
   "cell_type": "markdown",
   "metadata": {
    "id": "ylqxKuF6tsX2"
   },
   "source": [
    "### Actividad 1: Análisis de características de contenido.\n",
    "\n",
    "En el tutorial de DeepCTR-torch, se dio un ejemplo del entrenamiento de un modelo con DeepCTR-torch que combinó data de contexto y de contenido. En esta tarea, se realizará un procedimiento similar. Se les proporcionó el código para generar el dataframe df_total, el cual contiene todo los metadatos de contenido para cada interacción. Esta primera actividad se tratará de seleccionar los datos de contenido que usarán y realicen un análisis de ello. Lo que deben hacer es:\n",
    "\n",
    "* Seleccionar las columnas de contenido que creen que proporcionan información que puede ser aprovechada por un algoritmo recomendador. Deben elegir al menos dos características del usuario y dos características de los ítems. Se debe indicar explícitamente la información seleccionada y entregar una breve justificación de por qué esta información podría ser útil al realizar una recomendación.\n",
    "* Elija dos de las características que seleccionó en el paso anterior (pueden ser de usuario y/o ítem) y grafique sus distribuciones. Por ejemplo, si eligió la edad, grafique un histograma con la distribución de edad de los usuarios. Comente acerca de esta distribución. Calcule y entregue además el promedio y desviación estándar de esta distribución si es una característica no discreta o bien, el valor más popular y menos popular si es una característica discreta."
   ]
  },
  {
   "cell_type": "markdown",
   "metadata": {
    "id": "G14TbCAeuk3G"
   },
   "source": [
    "#### Respuesta:\n",
    "\n",
    "Ingrese su respuesta continuación. Recuerde terminar su respuesta con una celda de texto con sus conclusiones y respuestas."
   ]
  },
  {
   "cell_type": "markdown",
   "metadata": {},
   "source": [
    "Ahora, graficaremos la distribución de las características seleccionadas: la edad de los usuarios y año de lanzamiento de la película."
   ]
  },
  {
   "cell_type": "code",
   "execution_count": 126,
   "metadata": {},
   "outputs": [
    {
     "data": {
      "image/png": "[encoded data removed]",
      "text/plain": [
       "<Figure size 800x500 with 1 Axes>"
      ]
     },
     "metadata": {},
     "output_type": "display_data"
    },
    {
     "data": {
      "image/png": "[encoded data removed]",
      "text/plain": [
       "<Figure size 2000x600 with 1 Axes>"
      ]
     },
     "metadata": {},
     "output_type": "display_data"
    }
   ],
   "source": [
    "# Distribución de la Edad de los Usuarios\n",
    "plt.figure(figsize=(8, 5))\n",
    "plt.hist(df_total['age'], bins=20, edgecolor='k', alpha=0.7, color='skyblue')\n",
    "plt.xlabel('Edad del Usuario')\n",
    "plt.ylabel('Frecuencia')\n",
    "plt.title('Distribución de Edad de los Usuarios')\n",
    "plt.show()\n",
    "\n",
    "# Distribución del año de lazamiento de las Películas vistas por los Usuarios\n",
    "plt.figure(figsize=(20, 6))\n",
    "df_release = pd.to_datetime( df_total['release_date']).dt.year.value_counts().reset_index() \n",
    "df_release[\"release_date\"] = df_release[\"release_date\"].astype(int)\n",
    "df_release = df_release.sort_values(by = \"release_date\")\n",
    "plt.bar(df_release[\"release_date\"], df_release[\"count\"], color='skyblue', alpha=0.7)\n",
    "plt.xlabel('Año de Lanzamiento de las Películas')\n",
    "plt.ylabel('Frecuencia')\n",
    "plt.title('Distribución de año de Lanzamientos de las Películas vistas ordenadas por año de lanzamiento')\n",
    "plt.xticks(rotation=45)\n",
    "plt.show()"
   ]
  },
  {
   "cell_type": "code",
   "execution_count": 127,
   "metadata": {},
   "outputs": [
    {
     "data": {
      "text/plain": [
       "1998"
      ]
     },
     "execution_count": 127,
     "metadata": {},
     "output_type": "execute_result"
    }
   ],
   "source": [
    "df_release.release_date.max()"
   ]
  },
  {
   "cell_type": "code",
   "execution_count": 128,
   "metadata": {},
   "outputs": [],
   "source": [
    "edad_popular = df_total[\"age\"].value_counts().reset_index().iloc[0,:1][0]\n",
    "cantidad_edad_popular = df_total[\"age\"].value_counts().reset_index().iloc[0,1:][0]\n",
    "\n",
    "edad_popular_menos = df_total[\"age\"].value_counts().reset_index().iloc[-1,:1][0]\n",
    "cantidad_edad_popular_menos = df_total[\"age\"].value_counts().reset_index().iloc[-1,1:][0]"
   ]
  },
  {
   "cell_type": "code",
   "execution_count": 129,
   "metadata": {},
   "outputs": [],
   "source": [
    "release_popular = df_release.sort_values(by=\"count\" , ascending = False).iloc[0,:1][0]\n",
    "cantidad_release_popular = df_release.sort_values(by=\"count\" , ascending = False).iloc[0,1:][0]\n",
    "\n",
    "release_popular_menos = df_release.sort_values(by=\"count\" , ascending = False).iloc[-1,:1][0]\n",
    "cantidad_release_popular_menos = df_release.sort_values(by=\"count\" , ascending = False).iloc[-1,1:][0]"
   ]
  },
  {
   "cell_type": "code",
   "execution_count": 130,
   "metadata": {},
   "outputs": [
    {
     "name": "stdout",
     "output_type": "stream",
     "text": [
      "Valor más popular en la edad es de: 27 años con 6423 apariciones.\n",
      "Valor menos popular en la edad es de: 11 años con 27 apariciones.\n"
     ]
    }
   ],
   "source": [
    "print(f'Valor más popular en la edad es de: {edad_popular} años con {cantidad_edad_popular} apariciones.')\n",
    "print(f'Valor menos popular en la edad es de: {edad_popular_menos} años con {cantidad_edad_popular_menos} apariciones.')"
   ]
  },
  {
   "cell_type": "code",
   "execution_count": 131,
   "metadata": {},
   "outputs": [
    {
     "name": "stdout",
     "output_type": "stream",
     "text": [
      "Valor más popular en año de lanzamiento es: 1996 con 19708 apariciones.\n",
      "Valor menos popular en año de lanzamiento es: 1926 con 2 apariciones.\n"
     ]
    }
   ],
   "source": [
    "print(f'Valor más popular en año de lanzamiento es: {release_popular} con {cantidad_release_popular} apariciones.')\n",
    "print(f'Valor menos popular en año de lanzamiento es: {release_popular_menos} con {cantidad_release_popular_menos} apariciones.')"
   ]
  },
  {
   "cell_type": "markdown",
   "metadata": {},
   "source": [
    "##### Características de Usuario:\n",
    "\n",
    "**Género del Usuario:** La información sobre el género del usuario podría ser útil para recomendar contenido que se ajuste a las preferencias de género del usuario.\n",
    "\n",
    "**Edad del Usuario:** La edad del usuario podría ser relevante para recomendar contenido adecuado para diferentes grupos de edad.\n",
    "\n",
    "##### Características de Ítem:\n",
    "\n",
    "**Género de la Película:** El género de la película podría ser relevante para recomendar películas similares en términos de género.\n",
    "\n",
    "**Año de Lanzamiento de la Película:** El año de lanzamiento podría ser importante para recomendar películas recientes o clásicas según las preferencias del usuario.\n",
    "\n",
    "##### Análisis de la grafica de dispersión de edad \n",
    "La distribución de la edad de los usuarios muestra que la mayoría de los usuarios se encuentran en el rango de edades de 20 a 40 años, lo que sugiere que el conjunto de datos se centra en usuarios jóvenes y de mediana edad. Esta información es útil para comprender la demografía de los usuarios y puede ser relevante al recomendar contenido que se ajuste a diferentes grupos de edad. Además, se ve que el valor más popular en la edad es de: 27 años con 6.423 apariciones y  menos popular de: 11 años con 27 apariciones.\r\n",
    "##### Análisis de la grafica de dispersión del año de lanzamiento ordenado \n",
    "\r\n",
    "La distribución del año de lanzamiento de las películas revela que la mayoría de las películas en el conjunto de datos se lanzaron entre los años 1993 y 1997, con un pico en la frecuencia de lanzamiento en ese período. Esto indica que el conjunto de datos incluye principalmente películas lanzadas en ese intervalo de tiempo. Es importante tener en cuenta este rango de años al realizar recomendaciones, ya que las preferencias de los usuarios pueden estar influenciadas por la época en la que se lanzaron las películ Además, se ve que el valor más popular en los años de lanzamiento es 1996 con 19.708 apariciones y menos popular es 1926  con 2 apariciones.\n",
    "\n",
    "res. La comprensión de la edad de los usuarios y la distribución de años de lanzamiento de las películas puede ayudar a mejorar la precisión de las recomendaciones al considerar las preferencias y la relevancia temporal del contenido."
   ]
  },
  {
   "cell_type": "markdown",
   "metadata": {
    "id": "qKHFLAfIusZm"
   },
   "source": [
    "### Actividad 2: Generación de característica de contexto.\n",
    "\n",
    "En el ejemplo del tutorial, se generó a partir del timestamp una característica discreta que indicaba si una calificación fue ingresada en la mañana, tarde o noche.\n",
    "\n",
    "* A partir del timestamp (ya que este es la única característica contextual del dataset), capture otra característica contextual que pueda ser utilizada en el entrenamiento (que no sea una división de mañana/tarde/noche). Justifique su elección explicando por qué se podría aprovechar esa información de contexto para generar mejores recomendaciones. Puede asumir que el timestamp indica la hora en que fue vista la película (en lugar de la hora en la que fue ingresada la calificación) y que todos los usuarios están en la zona horaria entregada por la conversión a dataframe mostrada por la ayudantía.\n",
    "* Genere una hipótesis de cómo podría influir la variable contextual en la recomendación. (Por ejemplo, una hipótesis podría ser que en la noche, se deberían recomendar una mayor cantidad de películas de terror)."
   ]
  },
  {
   "cell_type": "markdown",
   "metadata": {},
   "source": [
    "#### Respuesta:\n",
    "\n",
    "Ingrese su respuesta continuación. Recuerde terminar su respuesta con una celda de texto con sus conclusiones y respuestas."
   ]
  },
  {
   "cell_type": "code",
   "execution_count": 132,
   "metadata": {},
   "outputs": [
    {
     "data": {
      "text/html": [
       "<div>\n",
       "<style scoped>\n",
       "    .dataframe tbody tr th:only-of-type {\n",
       "        vertical-align: middle;\n",
       "    }\n",
       "\n",
       "    .dataframe tbody tr th {\n",
       "        vertical-align: top;\n",
       "    }\n",
       "\n",
       "    .dataframe thead th {\n",
       "        text-align: right;\n",
       "    }\n",
       "</style>\n",
       "<table border=\"1\" class=\"dataframe\">\n",
       "  <thead>\n",
       "    <tr style=\"text-align: right;\">\n",
       "      <th></th>\n",
       "      <th>userid</th>\n",
       "      <th>itemid</th>\n",
       "      <th>rating</th>\n",
       "      <th>timestamp</th>\n",
       "      <th>age</th>\n",
       "      <th>gender</th>\n",
       "      <th>occupation</th>\n",
       "      <th>zip_code</th>\n",
       "      <th>title</th>\n",
       "      <th>release_date</th>\n",
       "      <th>video_release_date</th>\n",
       "      <th>IMDb_URL</th>\n",
       "      <th>unknown</th>\n",
       "      <th>genres</th>\n",
       "      <th>datetime</th>\n",
       "      <th>Month</th>\n",
       "    </tr>\n",
       "  </thead>\n",
       "  <tbody>\n",
       "    <tr>\n",
       "      <th>0</th>\n",
       "      <td>196</td>\n",
       "      <td>242</td>\n",
       "      <td>3</td>\n",
       "      <td>881250949</td>\n",
       "      <td>49</td>\n",
       "      <td>M</td>\n",
       "      <td>writer</td>\n",
       "      <td>55105</td>\n",
       "      <td>Kolya (1996)</td>\n",
       "      <td>24-Jan-1997</td>\n",
       "      <td>NaN</td>\n",
       "      <td>http://us.imdb.com/M/title-exact?Kolya%20(1996)</td>\n",
       "      <td>0</td>\n",
       "      <td>Comedy</td>\n",
       "      <td>1997-12-04 15:55:49</td>\n",
       "      <td>12</td>\n",
       "    </tr>\n",
       "    <tr>\n",
       "      <th>1</th>\n",
       "      <td>305</td>\n",
       "      <td>242</td>\n",
       "      <td>5</td>\n",
       "      <td>886307828</td>\n",
       "      <td>23</td>\n",
       "      <td>M</td>\n",
       "      <td>programmer</td>\n",
       "      <td>94086</td>\n",
       "      <td>Kolya (1996)</td>\n",
       "      <td>24-Jan-1997</td>\n",
       "      <td>NaN</td>\n",
       "      <td>http://us.imdb.com/M/title-exact?Kolya%20(1996)</td>\n",
       "      <td>0</td>\n",
       "      <td>Comedy</td>\n",
       "      <td>1998-02-01 04:37:08</td>\n",
       "      <td>2</td>\n",
       "    </tr>\n",
       "    <tr>\n",
       "      <th>2</th>\n",
       "      <td>6</td>\n",
       "      <td>242</td>\n",
       "      <td>4</td>\n",
       "      <td>883268170</td>\n",
       "      <td>42</td>\n",
       "      <td>M</td>\n",
       "      <td>executive</td>\n",
       "      <td>98101</td>\n",
       "      <td>Kolya (1996)</td>\n",
       "      <td>24-Jan-1997</td>\n",
       "      <td>NaN</td>\n",
       "      <td>http://us.imdb.com/M/title-exact?Kolya%20(1996)</td>\n",
       "      <td>0</td>\n",
       "      <td>Comedy</td>\n",
       "      <td>1997-12-28 00:16:10</td>\n",
       "      <td>12</td>\n",
       "    </tr>\n",
       "    <tr>\n",
       "      <th>3</th>\n",
       "      <td>234</td>\n",
       "      <td>242</td>\n",
       "      <td>4</td>\n",
       "      <td>891033261</td>\n",
       "      <td>60</td>\n",
       "      <td>M</td>\n",
       "      <td>retired</td>\n",
       "      <td>94702</td>\n",
       "      <td>Kolya (1996)</td>\n",
       "      <td>24-Jan-1997</td>\n",
       "      <td>NaN</td>\n",
       "      <td>http://us.imdb.com/M/title-exact?Kolya%20(1996)</td>\n",
       "      <td>0</td>\n",
       "      <td>Comedy</td>\n",
       "      <td>1998-03-27 21:14:21</td>\n",
       "      <td>3</td>\n",
       "    </tr>\n",
       "    <tr>\n",
       "      <th>4</th>\n",
       "      <td>63</td>\n",
       "      <td>242</td>\n",
       "      <td>3</td>\n",
       "      <td>875747190</td>\n",
       "      <td>31</td>\n",
       "      <td>M</td>\n",
       "      <td>marketing</td>\n",
       "      <td>75240</td>\n",
       "      <td>Kolya (1996)</td>\n",
       "      <td>24-Jan-1997</td>\n",
       "      <td>NaN</td>\n",
       "      <td>http://us.imdb.com/M/title-exact?Kolya%20(1996)</td>\n",
       "      <td>0</td>\n",
       "      <td>Comedy</td>\n",
       "      <td>1997-10-01 23:06:30</td>\n",
       "      <td>10</td>\n",
       "    </tr>\n",
       "  </tbody>\n",
       "</table>\n",
       "</div>"
      ],
      "text/plain": [
       "   userid  itemid  rating  timestamp  age gender  occupation zip_code  \\\n",
       "0     196     242       3  881250949   49      M      writer    55105   \n",
       "1     305     242       5  886307828   23      M  programmer    94086   \n",
       "2       6     242       4  883268170   42      M   executive    98101   \n",
       "3     234     242       4  891033261   60      M     retired    94702   \n",
       "4      63     242       3  875747190   31      M   marketing    75240   \n",
       "\n",
       "          title release_date  video_release_date  \\\n",
       "0  Kolya (1996)  24-Jan-1997                 NaN   \n",
       "1  Kolya (1996)  24-Jan-1997                 NaN   \n",
       "2  Kolya (1996)  24-Jan-1997                 NaN   \n",
       "3  Kolya (1996)  24-Jan-1997                 NaN   \n",
       "4  Kolya (1996)  24-Jan-1997                 NaN   \n",
       "\n",
       "                                          IMDb_URL  unknown  genres  \\\n",
       "0  http://us.imdb.com/M/title-exact?Kolya%20(1996)        0  Comedy   \n",
       "1  http://us.imdb.com/M/title-exact?Kolya%20(1996)        0  Comedy   \n",
       "2  http://us.imdb.com/M/title-exact?Kolya%20(1996)        0  Comedy   \n",
       "3  http://us.imdb.com/M/title-exact?Kolya%20(1996)        0  Comedy   \n",
       "4  http://us.imdb.com/M/title-exact?Kolya%20(1996)        0  Comedy   \n",
       "\n",
       "             datetime  Month  \n",
       "0 1997-12-04 15:55:49     12  \n",
       "1 1998-02-01 04:37:08      2  \n",
       "2 1997-12-28 00:16:10     12  \n",
       "3 1998-03-27 21:14:21      3  \n",
       "4 1997-10-01 23:06:30     10  "
      ]
     },
     "execution_count": 132,
     "metadata": {},
     "output_type": "execute_result"
    }
   ],
   "source": [
    "df_total['datetime'] = pd.to_datetime(df_total['timestamp'], unit='s')  # Convert the column to datetime format if it's not\n",
    "\n",
    "# Create new columns\n",
    "df_total['Month'] = df_total['datetime'].dt.month\n",
    "df_total.head()"
   ]
  },
  {
   "cell_type": "code",
   "execution_count": 133,
   "metadata": {},
   "outputs": [],
   "source": [
    "def definir_bloque_estacion(mes):\n",
    "    if 3 <= mes < 6:\n",
    "        return 'Primavera'\n",
    "    elif 6 <= mes < 10:\n",
    "        return 'Verano'\n",
    "    elif 10 <= mes < 12:\n",
    "        return 'Otoño'\n",
    "    else:\n",
    "        return 'Invierno'"
   ]
  },
  {
   "cell_type": "code",
   "execution_count": 134,
   "metadata": {},
   "outputs": [
    {
     "data": {
      "text/html": [
       "<div>\n",
       "<style scoped>\n",
       "    .dataframe tbody tr th:only-of-type {\n",
       "        vertical-align: middle;\n",
       "    }\n",
       "\n",
       "    .dataframe tbody tr th {\n",
       "        vertical-align: top;\n",
       "    }\n",
       "\n",
       "    .dataframe thead th {\n",
       "        text-align: right;\n",
       "    }\n",
       "</style>\n",
       "<table border=\"1\" class=\"dataframe\">\n",
       "  <thead>\n",
       "    <tr style=\"text-align: right;\">\n",
       "      <th></th>\n",
       "      <th>userid</th>\n",
       "      <th>itemid</th>\n",
       "      <th>rating</th>\n",
       "      <th>timestamp</th>\n",
       "      <th>age</th>\n",
       "      <th>gender</th>\n",
       "      <th>occupation</th>\n",
       "      <th>zip_code</th>\n",
       "      <th>title</th>\n",
       "      <th>release_date</th>\n",
       "      <th>video_release_date</th>\n",
       "      <th>IMDb_URL</th>\n",
       "      <th>unknown</th>\n",
       "      <th>genres</th>\n",
       "      <th>datetime</th>\n",
       "      <th>Month</th>\n",
       "      <th>Estacion</th>\n",
       "    </tr>\n",
       "  </thead>\n",
       "  <tbody>\n",
       "    <tr>\n",
       "      <th>0</th>\n",
       "      <td>196</td>\n",
       "      <td>242</td>\n",
       "      <td>3</td>\n",
       "      <td>881250949</td>\n",
       "      <td>49</td>\n",
       "      <td>M</td>\n",
       "      <td>writer</td>\n",
       "      <td>55105</td>\n",
       "      <td>Kolya (1996)</td>\n",
       "      <td>24-Jan-1997</td>\n",
       "      <td>NaN</td>\n",
       "      <td>http://us.imdb.com/M/title-exact?Kolya%20(1996)</td>\n",
       "      <td>0</td>\n",
       "      <td>Comedy</td>\n",
       "      <td>1997-12-04 15:55:49</td>\n",
       "      <td>12</td>\n",
       "      <td>Invierno</td>\n",
       "    </tr>\n",
       "    <tr>\n",
       "      <th>1</th>\n",
       "      <td>305</td>\n",
       "      <td>242</td>\n",
       "      <td>5</td>\n",
       "      <td>886307828</td>\n",
       "      <td>23</td>\n",
       "      <td>M</td>\n",
       "      <td>programmer</td>\n",
       "      <td>94086</td>\n",
       "      <td>Kolya (1996)</td>\n",
       "      <td>24-Jan-1997</td>\n",
       "      <td>NaN</td>\n",
       "      <td>http://us.imdb.com/M/title-exact?Kolya%20(1996)</td>\n",
       "      <td>0</td>\n",
       "      <td>Comedy</td>\n",
       "      <td>1998-02-01 04:37:08</td>\n",
       "      <td>2</td>\n",
       "      <td>Invierno</td>\n",
       "    </tr>\n",
       "    <tr>\n",
       "      <th>2</th>\n",
       "      <td>6</td>\n",
       "      <td>242</td>\n",
       "      <td>4</td>\n",
       "      <td>883268170</td>\n",
       "      <td>42</td>\n",
       "      <td>M</td>\n",
       "      <td>executive</td>\n",
       "      <td>98101</td>\n",
       "      <td>Kolya (1996)</td>\n",
       "      <td>24-Jan-1997</td>\n",
       "      <td>NaN</td>\n",
       "      <td>http://us.imdb.com/M/title-exact?Kolya%20(1996)</td>\n",
       "      <td>0</td>\n",
       "      <td>Comedy</td>\n",
       "      <td>1997-12-28 00:16:10</td>\n",
       "      <td>12</td>\n",
       "      <td>Invierno</td>\n",
       "    </tr>\n",
       "    <tr>\n",
       "      <th>3</th>\n",
       "      <td>234</td>\n",
       "      <td>242</td>\n",
       "      <td>4</td>\n",
       "      <td>891033261</td>\n",
       "      <td>60</td>\n",
       "      <td>M</td>\n",
       "      <td>retired</td>\n",
       "      <td>94702</td>\n",
       "      <td>Kolya (1996)</td>\n",
       "      <td>24-Jan-1997</td>\n",
       "      <td>NaN</td>\n",
       "      <td>http://us.imdb.com/M/title-exact?Kolya%20(1996)</td>\n",
       "      <td>0</td>\n",
       "      <td>Comedy</td>\n",
       "      <td>1998-03-27 21:14:21</td>\n",
       "      <td>3</td>\n",
       "      <td>Primavera</td>\n",
       "    </tr>\n",
       "    <tr>\n",
       "      <th>4</th>\n",
       "      <td>63</td>\n",
       "      <td>242</td>\n",
       "      <td>3</td>\n",
       "      <td>875747190</td>\n",
       "      <td>31</td>\n",
       "      <td>M</td>\n",
       "      <td>marketing</td>\n",
       "      <td>75240</td>\n",
       "      <td>Kolya (1996)</td>\n",
       "      <td>24-Jan-1997</td>\n",
       "      <td>NaN</td>\n",
       "      <td>http://us.imdb.com/M/title-exact?Kolya%20(1996)</td>\n",
       "      <td>0</td>\n",
       "      <td>Comedy</td>\n",
       "      <td>1997-10-01 23:06:30</td>\n",
       "      <td>10</td>\n",
       "      <td>Otoño</td>\n",
       "    </tr>\n",
       "  </tbody>\n",
       "</table>\n",
       "</div>"
      ],
      "text/plain": [
       "   userid  itemid  rating  timestamp  age gender  occupation zip_code  \\\n",
       "0     196     242       3  881250949   49      M      writer    55105   \n",
       "1     305     242       5  886307828   23      M  programmer    94086   \n",
       "2       6     242       4  883268170   42      M   executive    98101   \n",
       "3     234     242       4  891033261   60      M     retired    94702   \n",
       "4      63     242       3  875747190   31      M   marketing    75240   \n",
       "\n",
       "          title release_date  video_release_date  \\\n",
       "0  Kolya (1996)  24-Jan-1997                 NaN   \n",
       "1  Kolya (1996)  24-Jan-1997                 NaN   \n",
       "2  Kolya (1996)  24-Jan-1997                 NaN   \n",
       "3  Kolya (1996)  24-Jan-1997                 NaN   \n",
       "4  Kolya (1996)  24-Jan-1997                 NaN   \n",
       "\n",
       "                                          IMDb_URL  unknown  genres  \\\n",
       "0  http://us.imdb.com/M/title-exact?Kolya%20(1996)        0  Comedy   \n",
       "1  http://us.imdb.com/M/title-exact?Kolya%20(1996)        0  Comedy   \n",
       "2  http://us.imdb.com/M/title-exact?Kolya%20(1996)        0  Comedy   \n",
       "3  http://us.imdb.com/M/title-exact?Kolya%20(1996)        0  Comedy   \n",
       "4  http://us.imdb.com/M/title-exact?Kolya%20(1996)        0  Comedy   \n",
       "\n",
       "             datetime  Month   Estacion  \n",
       "0 1997-12-04 15:55:49     12   Invierno  \n",
       "1 1998-02-01 04:37:08      2   Invierno  \n",
       "2 1997-12-28 00:16:10     12   Invierno  \n",
       "3 1998-03-27 21:14:21      3  Primavera  \n",
       "4 1997-10-01 23:06:30     10      Otoño  "
      ]
     },
     "execution_count": 134,
     "metadata": {},
     "output_type": "execute_result"
    }
   ],
   "source": [
    "df_total['Estacion'] = df_total['Month'].apply(definir_bloque_estacion)\n",
    "df_total.head()"
   ]
  },
  {
   "cell_type": "markdown",
   "metadata": {},
   "source": [
    "#### Contexto por estaciones del año"
   ]
  },
  {
   "cell_type": "code",
   "execution_count": 137,
   "metadata": {},
   "outputs": [
    {
     "data": {
      "text/plain": [
       "genres\n",
       "Drama                                4898\n",
       "Comedy                               3663\n",
       "Comedy|Romance                       1828\n",
       "Drama|Romance                        1696\n",
       "Action|Thriller                      1359\n",
       "                                     ... \n",
       "Comedy|Mystery|Romance                  3\n",
       "Action|Adventure|Children|Fantasy       2\n",
       "Action|Comedy|Crime|Drama               1\n",
       "Action|Adventure|Children               1\n",
       "Fantasy                                 1\n",
       "Name: count, Length: 211, dtype: int64"
      ]
     },
     "execution_count": 137,
     "metadata": {},
     "output_type": "execute_result"
    }
   ],
   "source": [
    "df_total[df_total[\"Estacion\"]==\"Invierno\"].genres.value_counts()\t"
   ]
  },
  {
   "cell_type": "markdown",
   "metadata": {},
   "source": [
    "Supondremos que la información es información de Europeos, por lo cual van a tener las siguientes estaciones del año que afectarían la recomendación debido a los efectos del estado del animo de las personas a razón del clima que tendría cada estación:\n",
    "\n",
    "* La primavera comprende marzo, abril y mayo.\n",
    "* El verano, por su parte, está formado por los mesese de junio, julio, agosto y septiembre.\n",
    "* El otoño se compone octubre y noviembre.\n",
    "* Por último, la estación del invierno comprende diciembre, enero y febrero.\n",
    "\n",
    "Nuestra hipotesis plantea que en  invierno los usuarios vendría más peliculas de Comedia para subirse el animo."
   ]
  },
  {
   "cell_type": "markdown",
   "metadata": {},
   "source": [
    "### Actividad 3: Entrenamiento Modelos.\n",
    "\n",
    "Entrene modelos de recomendación utilizando la librería DeepCTR-torch.\n",
    "\n",
    "* El primer modelo debe contener solo la información de las interacciones, es decir, usuario, item y rating.\n",
    "* Al segundo modelo se le deben agregar las caracterísitcas de contenido.\n",
    "* El tercer modelo debe tener la característica contextual.\n",
    "\n",
    "Recuerde que antes de entrenar, se debe generar la división train-test del dataset.\n",
    "\n",
    "Recuerde variar los hiperparámetros para obtener mejores resultados y entrene por al menos 12 épocas cada modelo."
   ]
  },
  {
   "cell_type": "markdown",
   "metadata": {},
   "source": [
    "#### Respuesta:\n",
    "\n",
    "Ingrese su respuesta continuación. Recuerde terminar su respuesta con una celda de texto con sus conclusiones y respuestas."
   ]
  },
  {
   "cell_type": "markdown",
   "metadata": {},
   "source": [
    "### Actividad 4: Evaluación de rendimiento.\n",
    "\n",
    "Genere una tabla comparando el rendimiento de los tres modelos generados. Evalúe con la métrica AUC y MSE. Comente qué método obtuvo el mejor resultado."
   ]
  },
  {
   "cell_type": "markdown",
   "metadata": {},
   "source": [
    "#### Respuesta:\n",
    "\n",
    "Ingrese su respuesta continuación. Recuerde terminar su respuesta con una celda de texto con sus conclusiones y respuestas."
   ]
  },
  {
   "cell_type": "markdown",
   "metadata": {},
   "source": [
    "### Actividad 5: Evaluación de hipótesis.\n",
    "\n",
    "Realice una evaluación de la hipótesis que generó en la Actividad 2 en base a las recomendaciones que entrega su modelo contextual. Por ejemplo, para evaluar la hipótesis dada de ejemplo en la Actividad 2, se podrían analizar las recomendaciones dadas a usuarios en distintos bloques horarios y analizar si en el bloque nocturno existe una mayor densidad de películas de terror.\n",
    "\n",
    "Comente respecto al resultado de su evaluación. Recuerde que la hipótesis no necesariamente debe estar correcta, en especial debido a los supuestos realizados en el entrenamiento. Sugiera una posible mejoría al diseño experimental para poder obtener un mejor análisis de su hipótesis."
   ]
  },
  {
   "cell_type": "markdown",
   "metadata": {},
   "source": [
    "#### Respuesta:\n",
    "\n",
    "Ingrese su respuesta continuación. Recuerde terminar su respuesta con una celda de texto con sus conclusiones y respuestas."
   ]
  }
 ],
 "metadata": {
  "accelerator": "GPU",
  "colab": {
   "provenance": []
  },
  "kernelspec": {
   "display_name": "Python 3 (ipykernel)",
   "language": "python",
   "name": "python3"
  },
  "language_info": {
   "codemirror_mode": {
    "name": "ipython",
    "version": 3
   },
   "file_extension": ".py",
   "mimetype": "text/x-python",
   "name": "python",
   "nbconvert_exporter": "python",
   "pygments_lexer": "ipython3",
   "version": "3.11.4"
  },
  "varInspector": {
   "cols": {
    "lenName": 16,
    "lenType": 16,
    "lenVar": 40
   },
   "kernels_config": {
    "python": {
     "delete_cmd_postfix": "",
     "delete_cmd_prefix": "del ",
     "library": "var_list.py",
     "varRefreshCmd": "print(var_dic_list())"
    },
    "r": {
     "delete_cmd_postfix": ") ",
     "delete_cmd_prefix": "rm(",
     "library": "var_list.r",
     "varRefreshCmd": "cat(var_dic_list()) "
    }
   },
   "types_to_exclude": [
    "module",
    "function",
    "builtin_function_or_method",
    "instance",
    "_Feature"
   ],
   "window_display": false
  }
 },
 "nbformat": 4,
 "nbformat_minor": 4
}
