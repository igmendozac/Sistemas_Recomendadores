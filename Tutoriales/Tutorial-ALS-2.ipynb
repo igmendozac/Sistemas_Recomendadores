{
 "cells": [
  {
   "cell_type": "markdown",
   "metadata": {
    "id": "-xFADzCKvytx"
   },
   "source": [
    "# Tutorial ALS con Implicit II\n",
    "\n",
    "MAN 3160 - Sistemas Recomendadores\n",
    "\n",
    "En este tutorial vamos explorar cómo podemos evaluar el método de ALS y cómo afectan los valores de los hiperparámetros en el rendimiento del agente.\n"
   ]
  },
  {
   "cell_type": "markdown",
   "metadata": {},
   "source": [
    "## Importar Librerías"
   ]
  },
  {
   "cell_type": "code",
   "execution_count": 1,
   "metadata": {},
   "outputs": [
    {
     "name": "stdout",
     "output_type": "stream",
     "text": [
      "Requirement already satisfied: wget in /opt/conda/lib/python3.11/site-packages (3.2)\n",
      "Requirement already satisfied: zipfile36 in /opt/conda/lib/python3.11/site-packages (0.1.3)\n",
      "Requirement already satisfied: implicit in /opt/conda/lib/python3.11/site-packages (0.7.1)\n",
      "Requirement already satisfied: numpy in /opt/conda/lib/python3.11/site-packages (from implicit) (1.24.4)\n",
      "Requirement already satisfied: scipy>=0.16 in /opt/conda/lib/python3.11/site-packages (from implicit) (1.11.1)\n",
      "Requirement already satisfied: tqdm>=4.27 in /opt/conda/lib/python3.11/site-packages (from implicit) (4.66.1)\n"
     ]
    }
   ],
   "source": [
    "# Instalamos librerías para descarcar y descomprimir archivos.\n",
    "\n",
    "!pip install wget\n",
    "!pip install zipfile36\n",
    "!pip3 install implicit --upgrade"
   ]
  },
  {
   "cell_type": "code",
   "execution_count": 2,
   "metadata": {},
   "outputs": [],
   "source": [
    "import pandas as pd\n",
    "import matplotlib.pyplot as plt\n",
    "import zipfile\n",
    "import numpy as np\n",
    "import implicit\n",
    "import scipy.sparse as sparse"
   ]
  },
  {
   "cell_type": "markdown",
   "metadata": {},
   "source": [
    "## Entrenamiento de agente ALS"
   ]
  },
  {
   "cell_type": "code",
   "execution_count": 3,
   "metadata": {},
   "outputs": [
    {
     "name": "stdout",
     "output_type": "stream",
     "text": [
      "100% [......................................................] 4924029 / 4924029\n",
      "Saved under ml-100k (1).zip\n"
     ]
    }
   ],
   "source": [
    "!python -m wget http://files.grouplens.org/datasets/movielens/ml-100k.zip"
   ]
  },
  {
   "cell_type": "code",
   "execution_count": 4,
   "metadata": {},
   "outputs": [],
   "source": [
    "with zipfile.ZipFile(\"ml-100k.zip\", 'r') as zip_ref:\n",
    "    zip_ref.extractall(\".\")"
   ]
  },
  {
   "cell_type": "code",
   "execution_count": 5,
   "metadata": {},
   "outputs": [],
   "source": [
    "dir_train = 'ml-100k'\n",
    "\n",
    "# Generamos los títulos de las columnas del archivo items.\n",
    "\n",
    "columns = ['movieid', 'title', 'release_date', 'video_release_date', \\\n",
    "           'IMDb_URL', 'unknown', 'Action', 'Adventure', 'Animation', \\\n",
    "           'Children', 'Comedy', 'Crime', 'Documentary', 'Drama', 'Fantasy', \\\n",
    "           'Film-Noir', 'Horror', 'Musical', 'Mystery', 'Romance', 'Sci-Fi', \\\n",
    "           'Thriller', 'War', 'Western']"
   ]
  },
  {
   "cell_type": "code",
   "execution_count": 6,
   "metadata": {},
   "outputs": [],
   "source": [
    "# Primero creamos el dataframe con los datos\n",
    "df_train = pd.read_csv(f'{dir_train}/u2.base',\n",
    "                         sep='\\t',\n",
    "                         names=['userid', 'itemid', 'rating', 'timestamp'],\n",
    "                         header=None)"
   ]
  },
  {
   "cell_type": "code",
   "execution_count": 7,
   "metadata": {},
   "outputs": [],
   "source": [
    "# rating >= 3 , relevante (1) y rating menor a 3 es no relevante (0)\n",
    "df_train.rating = [1 if x >=3 else 0 for x in df_train.rating ]"
   ]
  },
  {
   "cell_type": "code",
   "execution_count": 8,
   "metadata": {},
   "outputs": [],
   "source": [
    "# Cargamos el dataset con los items\n",
    "df_items = pd.read_csv(f'{dir_train}/u.item',\n",
    "                        sep='|',\n",
    "                        index_col=0,\n",
    "                        names = columns,\n",
    "                        header=None,\n",
    "                        encoding='latin-1')"
   ]
  },
  {
   "cell_type": "code",
   "execution_count": 9,
   "metadata": {},
   "outputs": [],
   "source": [
    "# Cargamos el dataset de testing\n",
    "df_test = pd.read_csv(f'{dir_train}/u2.test',\n",
    "                      sep='\\t',\n",
    "                      names=['userid', 'itemid', 'rating', 'timestamp'],\n",
    "                      header=None)\n",
    "\n",
    "\n",
    "# rating >= 3 es relevante (1) y rating menor a 3 es no relevante (0)\n",
    "df_test.rating = [1 if x >=3 else 0 for x in df_test.rating ]\n",
    "\n",
    "\n",
    "user_items_test = {}\n",
    "\n",
    "for row in df_test.itertuples():\n",
    "    if row[1] not in user_items_test:\n",
    "        user_items_test[row[1]] = []\n",
    "\n",
    "    user_items_test[row[1]].append(row[2])"
   ]
  },
  {
   "cell_type": "markdown",
   "metadata": {},
   "source": [
    "### Ejemplo de diferencia train-test"
   ]
  },
  {
   "cell_type": "code",
   "execution_count": 10,
   "metadata": {},
   "outputs": [
    {
     "data": {
      "text/html": [
       "<div>\n",
       "<style scoped>\n",
       "    .dataframe tbody tr th:only-of-type {\n",
       "        vertical-align: middle;\n",
       "    }\n",
       "\n",
       "    .dataframe tbody tr th {\n",
       "        vertical-align: top;\n",
       "    }\n",
       "\n",
       "    .dataframe thead th {\n",
       "        text-align: right;\n",
       "    }\n",
       "</style>\n",
       "<table border=\"1\" class=\"dataframe\">\n",
       "  <thead>\n",
       "    <tr style=\"text-align: right;\">\n",
       "      <th></th>\n",
       "      <th>userid</th>\n",
       "      <th>itemid</th>\n",
       "      <th>rating</th>\n",
       "      <th>timestamp</th>\n",
       "    </tr>\n",
       "  </thead>\n",
       "  <tbody>\n",
       "    <tr>\n",
       "      <th>11620</th>\n",
       "      <td>157</td>\n",
       "      <td>1</td>\n",
       "      <td>1</td>\n",
       "      <td>874813703</td>\n",
       "    </tr>\n",
       "    <tr>\n",
       "      <th>11621</th>\n",
       "      <td>157</td>\n",
       "      <td>3</td>\n",
       "      <td>1</td>\n",
       "      <td>886890734</td>\n",
       "    </tr>\n",
       "    <tr>\n",
       "      <th>11622</th>\n",
       "      <td>157</td>\n",
       "      <td>25</td>\n",
       "      <td>1</td>\n",
       "      <td>886890787</td>\n",
       "    </tr>\n",
       "    <tr>\n",
       "      <th>11623</th>\n",
       "      <td>157</td>\n",
       "      <td>93</td>\n",
       "      <td>1</td>\n",
       "      <td>886890692</td>\n",
       "    </tr>\n",
       "    <tr>\n",
       "      <th>11624</th>\n",
       "      <td>157</td>\n",
       "      <td>111</td>\n",
       "      <td>1</td>\n",
       "      <td>886889876</td>\n",
       "    </tr>\n",
       "    <tr>\n",
       "      <th>11625</th>\n",
       "      <td>157</td>\n",
       "      <td>118</td>\n",
       "      <td>0</td>\n",
       "      <td>886890439</td>\n",
       "    </tr>\n",
       "    <tr>\n",
       "      <th>11626</th>\n",
       "      <td>157</td>\n",
       "      <td>120</td>\n",
       "      <td>0</td>\n",
       "      <td>886891243</td>\n",
       "    </tr>\n",
       "    <tr>\n",
       "      <th>11627</th>\n",
       "      <td>157</td>\n",
       "      <td>127</td>\n",
       "      <td>1</td>\n",
       "      <td>886890541</td>\n",
       "    </tr>\n",
       "    <tr>\n",
       "      <th>11628</th>\n",
       "      <td>157</td>\n",
       "      <td>137</td>\n",
       "      <td>1</td>\n",
       "      <td>886889876</td>\n",
       "    </tr>\n",
       "    <tr>\n",
       "      <th>11629</th>\n",
       "      <td>157</td>\n",
       "      <td>147</td>\n",
       "      <td>1</td>\n",
       "      <td>886890342</td>\n",
       "    </tr>\n",
       "    <tr>\n",
       "      <th>11630</th>\n",
       "      <td>157</td>\n",
       "      <td>150</td>\n",
       "      <td>1</td>\n",
       "      <td>874813703</td>\n",
       "    </tr>\n",
       "    <tr>\n",
       "      <th>11631</th>\n",
       "      <td>157</td>\n",
       "      <td>235</td>\n",
       "      <td>1</td>\n",
       "      <td>874813703</td>\n",
       "    </tr>\n",
       "    <tr>\n",
       "      <th>11632</th>\n",
       "      <td>157</td>\n",
       "      <td>244</td>\n",
       "      <td>1</td>\n",
       "      <td>886890406</td>\n",
       "    </tr>\n",
       "    <tr>\n",
       "      <th>11633</th>\n",
       "      <td>157</td>\n",
       "      <td>250</td>\n",
       "      <td>0</td>\n",
       "      <td>886890296</td>\n",
       "    </tr>\n",
       "    <tr>\n",
       "      <th>11634</th>\n",
       "      <td>157</td>\n",
       "      <td>258</td>\n",
       "      <td>1</td>\n",
       "      <td>886890296</td>\n",
       "    </tr>\n",
       "    <tr>\n",
       "      <th>11635</th>\n",
       "      <td>157</td>\n",
       "      <td>268</td>\n",
       "      <td>1</td>\n",
       "      <td>886889729</td>\n",
       "    </tr>\n",
       "    <tr>\n",
       "      <th>11636</th>\n",
       "      <td>157</td>\n",
       "      <td>273</td>\n",
       "      <td>1</td>\n",
       "      <td>886889876</td>\n",
       "    </tr>\n",
       "    <tr>\n",
       "      <th>11637</th>\n",
       "      <td>157</td>\n",
       "      <td>274</td>\n",
       "      <td>1</td>\n",
       "      <td>886890835</td>\n",
       "    </tr>\n",
       "    <tr>\n",
       "      <th>11638</th>\n",
       "      <td>157</td>\n",
       "      <td>276</td>\n",
       "      <td>1</td>\n",
       "      <td>886889876</td>\n",
       "    </tr>\n",
       "    <tr>\n",
       "      <th>11639</th>\n",
       "      <td>157</td>\n",
       "      <td>283</td>\n",
       "      <td>1</td>\n",
       "      <td>886890692</td>\n",
       "    </tr>\n",
       "    <tr>\n",
       "      <th>11640</th>\n",
       "      <td>157</td>\n",
       "      <td>293</td>\n",
       "      <td>1</td>\n",
       "      <td>874813703</td>\n",
       "    </tr>\n",
       "    <tr>\n",
       "      <th>11641</th>\n",
       "      <td>157</td>\n",
       "      <td>298</td>\n",
       "      <td>1</td>\n",
       "      <td>886889876</td>\n",
       "    </tr>\n",
       "    <tr>\n",
       "      <th>11642</th>\n",
       "      <td>157</td>\n",
       "      <td>405</td>\n",
       "      <td>1</td>\n",
       "      <td>886890342</td>\n",
       "    </tr>\n",
       "    <tr>\n",
       "      <th>11643</th>\n",
       "      <td>157</td>\n",
       "      <td>407</td>\n",
       "      <td>1</td>\n",
       "      <td>886891218</td>\n",
       "    </tr>\n",
       "    <tr>\n",
       "      <th>11644</th>\n",
       "      <td>157</td>\n",
       "      <td>475</td>\n",
       "      <td>1</td>\n",
       "      <td>886890650</td>\n",
       "    </tr>\n",
       "    <tr>\n",
       "      <th>11645</th>\n",
       "      <td>157</td>\n",
       "      <td>508</td>\n",
       "      <td>1</td>\n",
       "      <td>886890712</td>\n",
       "    </tr>\n",
       "    <tr>\n",
       "      <th>11646</th>\n",
       "      <td>157</td>\n",
       "      <td>597</td>\n",
       "      <td>1</td>\n",
       "      <td>886890406</td>\n",
       "    </tr>\n",
       "    <tr>\n",
       "      <th>11647</th>\n",
       "      <td>157</td>\n",
       "      <td>740</td>\n",
       "      <td>0</td>\n",
       "      <td>886889876</td>\n",
       "    </tr>\n",
       "    <tr>\n",
       "      <th>11648</th>\n",
       "      <td>157</td>\n",
       "      <td>748</td>\n",
       "      <td>0</td>\n",
       "      <td>886890015</td>\n",
       "    </tr>\n",
       "    <tr>\n",
       "      <th>11649</th>\n",
       "      <td>157</td>\n",
       "      <td>1016</td>\n",
       "      <td>1</td>\n",
       "      <td>886890341</td>\n",
       "    </tr>\n",
       "    <tr>\n",
       "      <th>11650</th>\n",
       "      <td>157</td>\n",
       "      <td>1132</td>\n",
       "      <td>1</td>\n",
       "      <td>886891132</td>\n",
       "    </tr>\n",
       "    <tr>\n",
       "      <th>11651</th>\n",
       "      <td>157</td>\n",
       "      <td>1258</td>\n",
       "      <td>1</td>\n",
       "      <td>886891132</td>\n",
       "    </tr>\n",
       "    <tr>\n",
       "      <th>11652</th>\n",
       "      <td>157</td>\n",
       "      <td>1283</td>\n",
       "      <td>0</td>\n",
       "      <td>886891173</td>\n",
       "    </tr>\n",
       "    <tr>\n",
       "      <th>11653</th>\n",
       "      <td>157</td>\n",
       "      <td>1302</td>\n",
       "      <td>1</td>\n",
       "      <td>874813703</td>\n",
       "    </tr>\n",
       "  </tbody>\n",
       "</table>\n",
       "</div>"
      ],
      "text/plain": [
       "       userid  itemid  rating  timestamp\n",
       "11620     157       1       1  874813703\n",
       "11621     157       3       1  886890734\n",
       "11622     157      25       1  886890787\n",
       "11623     157      93       1  886890692\n",
       "11624     157     111       1  886889876\n",
       "11625     157     118       0  886890439\n",
       "11626     157     120       0  886891243\n",
       "11627     157     127       1  886890541\n",
       "11628     157     137       1  886889876\n",
       "11629     157     147       1  886890342\n",
       "11630     157     150       1  874813703\n",
       "11631     157     235       1  874813703\n",
       "11632     157     244       1  886890406\n",
       "11633     157     250       0  886890296\n",
       "11634     157     258       1  886890296\n",
       "11635     157     268       1  886889729\n",
       "11636     157     273       1  886889876\n",
       "11637     157     274       1  886890835\n",
       "11638     157     276       1  886889876\n",
       "11639     157     283       1  886890692\n",
       "11640     157     293       1  874813703\n",
       "11641     157     298       1  886889876\n",
       "11642     157     405       1  886890342\n",
       "11643     157     407       1  886891218\n",
       "11644     157     475       1  886890650\n",
       "11645     157     508       1  886890712\n",
       "11646     157     597       1  886890406\n",
       "11647     157     740       0  886889876\n",
       "11648     157     748       0  886890015\n",
       "11649     157    1016       1  886890341\n",
       "11650     157    1132       1  886891132\n",
       "11651     157    1258       1  886891132\n",
       "11652     157    1283       0  886891173\n",
       "11653     157    1302       1  874813703"
      ]
     },
     "execution_count": 10,
     "metadata": {},
     "output_type": "execute_result"
    }
   ],
   "source": [
    "df_train[df_train['userid'] == 157]"
   ]
  },
  {
   "cell_type": "code",
   "execution_count": 11,
   "metadata": {},
   "outputs": [
    {
     "data": {
      "text/html": [
       "<div>\n",
       "<style scoped>\n",
       "    .dataframe tbody tr th:only-of-type {\n",
       "        vertical-align: middle;\n",
       "    }\n",
       "\n",
       "    .dataframe tbody tr th {\n",
       "        vertical-align: top;\n",
       "    }\n",
       "\n",
       "    .dataframe thead th {\n",
       "        text-align: right;\n",
       "    }\n",
       "</style>\n",
       "<table border=\"1\" class=\"dataframe\">\n",
       "  <thead>\n",
       "    <tr style=\"text-align: right;\">\n",
       "      <th></th>\n",
       "      <th>userid</th>\n",
       "      <th>itemid</th>\n",
       "      <th>rating</th>\n",
       "      <th>timestamp</th>\n",
       "    </tr>\n",
       "  </thead>\n",
       "  <tbody>\n",
       "    <tr>\n",
       "      <th>3875</th>\n",
       "      <td>157</td>\n",
       "      <td>50</td>\n",
       "      <td>1</td>\n",
       "      <td>886890541</td>\n",
       "    </tr>\n",
       "    <tr>\n",
       "      <th>3876</th>\n",
       "      <td>157</td>\n",
       "      <td>100</td>\n",
       "      <td>1</td>\n",
       "      <td>886890650</td>\n",
       "    </tr>\n",
       "    <tr>\n",
       "      <th>3877</th>\n",
       "      <td>157</td>\n",
       "      <td>117</td>\n",
       "      <td>1</td>\n",
       "      <td>886890296</td>\n",
       "    </tr>\n",
       "    <tr>\n",
       "      <th>3878</th>\n",
       "      <td>157</td>\n",
       "      <td>255</td>\n",
       "      <td>1</td>\n",
       "      <td>886889876</td>\n",
       "    </tr>\n",
       "    <tr>\n",
       "      <th>3879</th>\n",
       "      <td>157</td>\n",
       "      <td>269</td>\n",
       "      <td>1</td>\n",
       "      <td>886889876</td>\n",
       "    </tr>\n",
       "    <tr>\n",
       "      <th>3880</th>\n",
       "      <td>157</td>\n",
       "      <td>286</td>\n",
       "      <td>1</td>\n",
       "      <td>874813268</td>\n",
       "    </tr>\n",
       "    <tr>\n",
       "      <th>3881</th>\n",
       "      <td>157</td>\n",
       "      <td>289</td>\n",
       "      <td>1</td>\n",
       "      <td>886889876</td>\n",
       "    </tr>\n",
       "    <tr>\n",
       "      <th>3882</th>\n",
       "      <td>157</td>\n",
       "      <td>290</td>\n",
       "      <td>1</td>\n",
       "      <td>886890787</td>\n",
       "    </tr>\n",
       "    <tr>\n",
       "      <th>3883</th>\n",
       "      <td>157</td>\n",
       "      <td>313</td>\n",
       "      <td>1</td>\n",
       "      <td>886889616</td>\n",
       "    </tr>\n",
       "    <tr>\n",
       "      <th>3884</th>\n",
       "      <td>157</td>\n",
       "      <td>340</td>\n",
       "      <td>1</td>\n",
       "      <td>886889616</td>\n",
       "    </tr>\n",
       "    <tr>\n",
       "      <th>3885</th>\n",
       "      <td>157</td>\n",
       "      <td>410</td>\n",
       "      <td>1</td>\n",
       "      <td>886890855</td>\n",
       "    </tr>\n",
       "    <tr>\n",
       "      <th>3886</th>\n",
       "      <td>157</td>\n",
       "      <td>476</td>\n",
       "      <td>0</td>\n",
       "      <td>886891173</td>\n",
       "    </tr>\n",
       "    <tr>\n",
       "      <th>3887</th>\n",
       "      <td>157</td>\n",
       "      <td>515</td>\n",
       "      <td>1</td>\n",
       "      <td>874813477</td>\n",
       "    </tr>\n",
       "    <tr>\n",
       "      <th>3888</th>\n",
       "      <td>157</td>\n",
       "      <td>685</td>\n",
       "      <td>1</td>\n",
       "      <td>886890372</td>\n",
       "    </tr>\n",
       "    <tr>\n",
       "      <th>3889</th>\n",
       "      <td>157</td>\n",
       "      <td>934</td>\n",
       "      <td>0</td>\n",
       "      <td>886890878</td>\n",
       "    </tr>\n",
       "    <tr>\n",
       "      <th>3890</th>\n",
       "      <td>157</td>\n",
       "      <td>1051</td>\n",
       "      <td>1</td>\n",
       "      <td>886890835</td>\n",
       "    </tr>\n",
       "    <tr>\n",
       "      <th>3891</th>\n",
       "      <td>157</td>\n",
       "      <td>1244</td>\n",
       "      <td>1</td>\n",
       "      <td>886891194</td>\n",
       "    </tr>\n",
       "  </tbody>\n",
       "</table>\n",
       "</div>"
      ],
      "text/plain": [
       "      userid  itemid  rating  timestamp\n",
       "3875     157      50       1  886890541\n",
       "3876     157     100       1  886890650\n",
       "3877     157     117       1  886890296\n",
       "3878     157     255       1  886889876\n",
       "3879     157     269       1  886889876\n",
       "3880     157     286       1  874813268\n",
       "3881     157     289       1  886889876\n",
       "3882     157     290       1  886890787\n",
       "3883     157     313       1  886889616\n",
       "3884     157     340       1  886889616\n",
       "3885     157     410       1  886890855\n",
       "3886     157     476       0  886891173\n",
       "3887     157     515       1  874813477\n",
       "3888     157     685       1  886890372\n",
       "3889     157     934       0  886890878\n",
       "3890     157    1051       1  886890835\n",
       "3891     157    1244       1  886891194"
      ]
     },
     "execution_count": 11,
     "metadata": {},
     "output_type": "execute_result"
    }
   ],
   "source": [
    "df_test[df_test['userid'] == 157]"
   ]
  },
  {
   "cell_type": "code",
   "execution_count": 12,
   "metadata": {},
   "outputs": [],
   "source": [
    "user_items = {}\n",
    "itemset = set()\n",
    "\n",
    "for row in df_train.itertuples():\n",
    "    if row[1] not in user_items:\n",
    "        user_items[row[1]] = []\n",
    "\n",
    "    user_items[row[1]].append(row[2])\n",
    "    itemset.add(row[2])\n",
    "\n",
    "itemset = np.sort(list(itemset))\n",
    "\n",
    "sparse_matrix = np.zeros((len(user_items), len(itemset)))\n",
    "\n",
    "for i, items in enumerate(user_items.values()):\n",
    "    sparse_matrix[i] = np.isin(itemset, items, assume_unique=True).astype(int)\n",
    "\n",
    "user_item_matrix = sparse.csr_matrix(sparse_matrix)\n",
    "\n",
    "user_ids = {key: i for i, key in enumerate(user_items.keys())}\n",
    "items_ids = {key: i for i, key in enumerate(itemset)}"
   ]
  },
  {
   "cell_type": "code",
   "execution_count": 13,
   "metadata": {},
   "outputs": [
    {
     "data": {
      "application/vnd.jupyter.widget-view+json": {
       "model_id": "f4606b4f5b564804bfef980640964ca8",
       "version_major": 2,
       "version_minor": 0
      },
      "text/plain": [
       "  0%|          | 0/15 [00:00<?, ?it/s]"
      ]
     },
     "metadata": {},
     "output_type": "display_data"
    }
   ],
   "source": [
    "# Definimos y entrenamos el modelo con optimización ALS\n",
    "model_als = implicit.als.AlternatingLeastSquares()\n",
    "model_als.fit(user_item_matrix)"
   ]
  },
  {
   "cell_type": "markdown",
   "metadata": {
    "id": "vjqFGDdzOJGc"
   },
   "source": [
    "### Métricas"
   ]
  },
  {
   "cell_type": "code",
   "execution_count": 14,
   "metadata": {
    "id": "fESMjaBBA8mx"
   },
   "outputs": [],
   "source": [
    "# Definicion de métricas (No editar)\n",
    "# Obtenido de https://gist.github.com/bwhite/3726239\n",
    "\n",
    "def precision_at_k(r, k):\n",
    "    assert k >= 1\n",
    "    r = np.asarray(r)[:k] != 0\n",
    "    if r.size != k:\n",
    "        raise ValueError('Relevance score length < k')\n",
    "    return np.mean(r)\n",
    "\n",
    "def average_precision(r):\n",
    "    r = np.asarray(r) != 0\n",
    "    out = [precision_at_k(r, k + 1) for k in range(r.size) if r[k]]\n",
    "    if not out:\n",
    "        return 0.\n",
    "    return np.mean(out)\n",
    "\n",
    "def mean_average_precision(rs):\n",
    "    return np.mean([average_precision(r) for r in rs])\n",
    "\n",
    "def dcg_at_k(r, k):\n",
    "    r = np.asfarray(r)[:k]\n",
    "    if r.size:\n",
    "        return np.sum(np.subtract(np.power(2, r), 1) / np.log2(np.arange(2, r.size + 2)))\n",
    "    return 0.\n",
    "\n",
    "\n",
    "def ndcg_at_k(r, k):\n",
    "    idcg = dcg_at_k(sorted(r, reverse=True), k)\n",
    "\n",
    "    if not idcg:\n",
    "        return 0.\n",
    "    return dcg_at_k(r, k) / idcg"
   ]
  },
  {
   "cell_type": "code",
   "execution_count": 15,
   "metadata": {
    "id": "VvM6ecOVrp7R"
   },
   "outputs": [],
   "source": [
    "def evaluate_model(model, n):\n",
    "    mean_map = 0.\n",
    "    mean_ndcg = 0.\n",
    "    for u in user_items_test.keys():\n",
    "        rec = model.recommend(user_ids[u], user_item_matrix[user_ids[u]], n)[0]\n",
    "        rec = [itemset[r] for r in rec]\n",
    "        rel_vector = [np.isin(rec, user_items_test[u], assume_unique=True).astype(int)]\n",
    "        mean_map += mean_average_precision(rel_vector)\n",
    "        mean_ndcg += ndcg_at_k(rel_vector, n)\n",
    "\n",
    "    mean_map /= len(user_items_test)\n",
    "    mean_ndcg /= len(user_items_test)\n",
    "\n",
    "    return mean_map, mean_ndcg"
   ]
  },
  {
   "cell_type": "code",
   "execution_count": 16,
   "metadata": {
    "id": "LevzqwMhteNA"
   },
   "outputs": [],
   "source": [
    "def show_recommendations(model, user, n):\n",
    "    recommendations = model.recommend(userid=user_ids[user], user_items=user_item_matrix[user_ids[user]], N=n)\n",
    "    return df_items.loc[recommendations[0]]['title']"
   ]
  },
  {
   "cell_type": "markdown",
   "metadata": {},
   "source": [
    "## Evaluación del modelo"
   ]
  },
  {
   "cell_type": "code",
   "execution_count": 17,
   "metadata": {},
   "outputs": [
    {
     "name": "stdout",
     "output_type": "stream",
     "text": [
      "map@5: 0.5502871362940265 \n",
      "ndcg@5: 0.8024502297090352\n",
      "map@10: 0.5106267794395843 \n",
      "ndcg@10: 0.900459418070444\n",
      "map@15: 0.47670375219108163 \n",
      "ndcg@15: 0.9356814701378254\n",
      "map@20: 0.45012677385745875 \n",
      "ndcg@20: 0.9479326186830015\n"
     ]
    }
   ],
   "source": [
    "for n in [5, 10, 15, 20]:\n",
    "    mmap, ndcg = evaluate_model(model_als, n)\n",
    "    print(f'map@{n}: {mmap} \\nndcg@{n}: {ndcg}')"
   ]
  },
  {
   "cell_type": "markdown",
   "metadata": {},
   "source": [
    "## Ajuste de hiperparámetros"
   ]
  },
  {
   "cell_type": "code",
   "execution_count": 18,
   "metadata": {},
   "outputs": [
    {
     "data": {
      "application/vnd.jupyter.widget-view+json": {
       "model_id": "7834eaea9b884537b65c1fd9eb8fb75d",
       "version_major": 2,
       "version_minor": 0
      },
      "text/plain": [
       "  0%|          | 0/15 [00:00<?, ?it/s]"
      ]
     },
     "metadata": {},
     "output_type": "display_data"
    },
    {
     "data": {
      "application/vnd.jupyter.widget-view+json": {
       "model_id": "75207ac94cda43a19f2c6274cac8082c",
       "version_major": 2,
       "version_minor": 0
      },
      "text/plain": [
       "  0%|          | 0/15 [00:00<?, ?it/s]"
      ]
     },
     "metadata": {},
     "output_type": "display_data"
    },
    {
     "data": {
      "application/vnd.jupyter.widget-view+json": {
       "model_id": "115937b5527d4e0c9d5dfd6b311773f9",
       "version_major": 2,
       "version_minor": 0
      },
      "text/plain": [
       "  0%|          | 0/15 [00:00<?, ?it/s]"
      ]
     },
     "metadata": {},
     "output_type": "display_data"
    },
    {
     "data": {
      "application/vnd.jupyter.widget-view+json": {
       "model_id": "065f272b92504fd1ad70baab2bc5b528",
       "version_major": 2,
       "version_minor": 0
      },
      "text/plain": [
       "  0%|          | 0/15 [00:00<?, ?it/s]"
      ]
     },
     "metadata": {},
     "output_type": "display_data"
    },
    {
     "data": {
      "application/vnd.jupyter.widget-view+json": {
       "model_id": "6f0becdce8a14ada9f82a82292b3762f",
       "version_major": 2,
       "version_minor": 0
      },
      "text/plain": [
       "  0%|          | 0/15 [00:00<?, ?it/s]"
      ]
     },
     "metadata": {},
     "output_type": "display_data"
    },
    {
     "data": {
      "application/vnd.jupyter.widget-view+json": {
       "model_id": "5f552dd4d1df49a79458df4d33704890",
       "version_major": 2,
       "version_minor": 0
      },
      "text/plain": [
       "  0%|          | 0/15 [00:00<?, ?it/s]"
      ]
     },
     "metadata": {},
     "output_type": "display_data"
    },
    {
     "data": {
      "application/vnd.jupyter.widget-view+json": {
       "model_id": "0ca4e9f87dd3427492b717ca96f90069",
       "version_major": 2,
       "version_minor": 0
      },
      "text/plain": [
       "  0%|          | 0/15 [00:00<?, ?it/s]"
      ]
     },
     "metadata": {},
     "output_type": "display_data"
    },
    {
     "data": {
      "application/vnd.jupyter.widget-view+json": {
       "model_id": "b0a86c8bf3cd4923a283041cefda7d47",
       "version_major": 2,
       "version_minor": 0
      },
      "text/plain": [
       "  0%|          | 0/15 [00:00<?, ?it/s]"
      ]
     },
     "metadata": {},
     "output_type": "display_data"
    },
    {
     "data": {
      "application/vnd.jupyter.widget-view+json": {
       "model_id": "1bfdbc53dbcc4165a9536016f26c6016",
       "version_major": 2,
       "version_minor": 0
      },
      "text/plain": [
       "  0%|          | 0/15 [00:00<?, ?it/s]"
      ]
     },
     "metadata": {},
     "output_type": "display_data"
    },
    {
     "data": {
      "application/vnd.jupyter.widget-view+json": {
       "model_id": "17abeb304f6b4699ae3555b38b3035cd",
       "version_major": 2,
       "version_minor": 0
      },
      "text/plain": [
       "  0%|          | 0/15 [00:00<?, ?it/s]"
      ]
     },
     "metadata": {},
     "output_type": "display_data"
    },
    {
     "data": {
      "application/vnd.jupyter.widget-view+json": {
       "model_id": "9ea9cacbc87f4bf7940aeedc9daf3f2d",
       "version_major": 2,
       "version_minor": 0
      },
      "text/plain": [
       "  0%|          | 0/15 [00:00<?, ?it/s]"
      ]
     },
     "metadata": {},
     "output_type": "display_data"
    },
    {
     "data": {
      "application/vnd.jupyter.widget-view+json": {
       "model_id": "76d5d7c79c67428bbc6b6d21a83c10cf",
       "version_major": 2,
       "version_minor": 0
      },
      "text/plain": [
       "  0%|          | 0/15 [00:00<?, ?it/s]"
      ]
     },
     "metadata": {},
     "output_type": "display_data"
    },
    {
     "data": {
      "application/vnd.jupyter.widget-view+json": {
       "model_id": "871f51816ecf41d89f74cd00a53e32ed",
       "version_major": 2,
       "version_minor": 0
      },
      "text/plain": [
       "  0%|          | 0/15 [00:00<?, ?it/s]"
      ]
     },
     "metadata": {},
     "output_type": "display_data"
    },
    {
     "data": {
      "application/vnd.jupyter.widget-view+json": {
       "model_id": "7ac7e2a4cda3464bba27cfc63df13cf1",
       "version_major": 2,
       "version_minor": 0
      },
      "text/plain": [
       "  0%|          | 0/15 [00:00<?, ?it/s]"
      ]
     },
     "metadata": {},
     "output_type": "display_data"
    },
    {
     "data": {
      "application/vnd.jupyter.widget-view+json": {
       "model_id": "a2fa7e518074453d9aa79c165406b00c",
       "version_major": 2,
       "version_minor": 0
      },
      "text/plain": [
       "  0%|          | 0/15 [00:00<?, ?it/s]"
      ]
     },
     "metadata": {},
     "output_type": "display_data"
    },
    {
     "data": {
      "application/vnd.jupyter.widget-view+json": {
       "model_id": "8fce43526b0a473bac99eeb442619916",
       "version_major": 2,
       "version_minor": 0
      },
      "text/plain": [
       "  0%|          | 0/15 [00:00<?, ?it/s]"
      ]
     },
     "metadata": {},
     "output_type": "display_data"
    },
    {
     "data": {
      "application/vnd.jupyter.widget-view+json": {
       "model_id": "d420c5ee84534bd4afd62513829965de",
       "version_major": 2,
       "version_minor": 0
      },
      "text/plain": [
       "  0%|          | 0/15 [00:00<?, ?it/s]"
      ]
     },
     "metadata": {},
     "output_type": "display_data"
    }
   ],
   "source": [
    "factores = [i*5 for i in range(1, 15)]\n",
    "reg_fac = [0.001, 0.01, 0.1]\n",
    "\n",
    "map_f = []\n",
    "ndcg_f = []\n",
    "\n",
    "map_rg = []\n",
    "ndcg_rg = []\n",
    "\n",
    "for f in factores:\n",
    "    model_als = implicit.als.AlternatingLeastSquares(factors=f)\n",
    "    model_als.fit(user_item_matrix)\n",
    "    mmap, ndcg = evaluate_model(model_als, 10)\n",
    "    map_f.append(mmap)\n",
    "    ndcg_f.append(ndcg)\n",
    "    \n",
    "for rg in reg_fac:\n",
    "    model_als = implicit.als.AlternatingLeastSquares(regularization=rg)\n",
    "    model_als.fit(user_item_matrix)\n",
    "    mmap, ndcg = evaluate_model(model_als, 10)\n",
    "    map_rg.append(mmap)\n",
    "    ndcg_rg.append(ndcg)\n"
   ]
  },
  {
   "cell_type": "code",
   "execution_count": 19,
   "metadata": {},
   "outputs": [
    {
     "data": {
      "image/png": "[encoded data removed]",
      "text/plain": [
       "<Figure size 640x480 with 1 Axes>"
      ]
     },
     "metadata": {},
     "output_type": "display_data"
    }
   ],
   "source": [
    "plt.plot(factores, map_f, 'r-')\n",
    "plt.plot(factores, map_f, 'bo')\n",
    "plt.show()"
   ]
  },
  {
   "cell_type": "code",
   "execution_count": 20,
   "metadata": {},
   "outputs": [
    {
     "data": {
      "image/png": "[encoded data removed]",
      "text/plain": [
       "<Figure size 640x480 with 1 Axes>"
      ]
     },
     "metadata": {},
     "output_type": "display_data"
    }
   ],
   "source": [
    "plt.plot(factores, ndcg_f, 'r-')\n",
    "plt.plot(factores, ndcg_f, 'bo')\n",
    "plt.show()"
   ]
  },
  {
   "cell_type": "code",
   "execution_count": 21,
   "metadata": {},
   "outputs": [
    {
     "data": {
      "image/png": "[encoded data removed]",
      "text/plain": [
       "<Figure size 640x480 with 1 Axes>"
      ]
     },
     "metadata": {},
     "output_type": "display_data"
    }
   ],
   "source": [
    "plt.plot(reg_fac, map_rg, 'r-')\n",
    "plt.plot(reg_fac, map_rg, 'bo')\n",
    "plt.show()"
   ]
  }
 ],
 "metadata": {
  "colab": {
   "provenance": []
  },
  "kernelspec": {
   "display_name": "Python 3 (ipykernel)",
   "language": "python",
   "name": "python3"
  },
  "language_info": {
   "codemirror_mode": {
    "name": "ipython",
    "version": 3
   },
   "file_extension": ".py",
   "mimetype": "text/x-python",
   "name": "python",
   "nbconvert_exporter": "python",
   "pygments_lexer": "ipython3",
   "version": "3.11.4"
  },
  "toc": {
   "base_numbering": 1,
   "nav_menu": {},
   "number_sections": true,
   "sideBar": true,
   "skip_h1_title": false,
   "title_cell": "Table of Contents",
   "title_sidebar": "Contents",
   "toc_cell": false,
   "toc_position": {},
   "toc_section_display": true,
   "toc_window_display": false
  },
  "widgets": {
   "application/vnd.jupyter.widget-state+json": {
    "065bb3bef4a34bbab8ef2f3c3832a4a2": {
     "model_module": "@jupyter-widgets/base",
     "model_module_version": "1.2.0",
     "model_name": "LayoutModel",
     "state": {
      "_model_module": "@jupyter-widgets/base",
      "_model_module_version": "1.2.0",
      "_model_name": "LayoutModel",
      "_view_count": null,
      "_view_module": "@jupyter-widgets/base",
      "_view_module_version": "1.2.0",
      "_view_name": "LayoutView",
      "align_content": null,
      "align_items": null,
      "align_self": null,
      "border": null,
      "bottom": null,
      "display": null,
      "flex": null,
      "flex_flow": null,
      "grid_area": null,
      "grid_auto_columns": null,
      "grid_auto_flow": null,
      "grid_auto_rows": null,
      "grid_column": null,
      "grid_gap": null,
      "grid_row": null,
      "grid_template_areas": null,
      "grid_template_columns": null,
      "grid_template_rows": null,
      "height": null,
      "justify_content": null,
      "justify_items": null,
      "left": null,
      "margin": null,
      "max_height": null,
      "max_width": null,
      "min_height": null,
      "min_width": null,
      "object_fit": null,
      "object_position": null,
      "order": null,
      "overflow": null,
      "overflow_x": null,
      "overflow_y": null,
      "padding": null,
      "right": null,
      "top": null,
      "visibility": null,
      "width": null
     }
    },
    "08694115d4e049109ca63c0aeb21166e": {
     "model_module": "@jupyter-widgets/controls",
     "model_module_version": "1.5.0",
     "model_name": "ProgressStyleModel",
     "state": {
      "_model_module": "@jupyter-widgets/controls",
      "_model_module_version": "1.5.0",
      "_model_name": "ProgressStyleModel",
      "_view_count": null,
      "_view_module": "@jupyter-widgets/base",
      "_view_module_version": "1.2.0",
      "_view_name": "StyleView",
      "bar_color": null,
      "description_width": ""
     }
    },
    "15a3f8c0e12a4983a0dd4d4d1d261d6e": {
     "model_module": "@jupyter-widgets/controls",
     "model_module_version": "1.5.0",
     "model_name": "DescriptionStyleModel",
     "state": {
      "_model_module": "@jupyter-widgets/controls",
      "_model_module_version": "1.5.0",
      "_model_name": "DescriptionStyleModel",
      "_view_count": null,
      "_view_module": "@jupyter-widgets/base",
      "_view_module_version": "1.2.0",
      "_view_name": "StyleView",
      "description_width": ""
     }
    },
    "22ce478e3e814c98a3f769e87cb36d53": {
     "model_module": "@jupyter-widgets/controls",
     "model_module_version": "1.5.0",
     "model_name": "HTMLModel",
     "state": {
      "_dom_classes": [],
      "_model_module": "@jupyter-widgets/controls",
      "_model_module_version": "1.5.0",
      "_model_name": "HTMLModel",
      "_view_count": null,
      "_view_module": "@jupyter-widgets/controls",
      "_view_module_version": "1.5.0",
      "_view_name": "HTMLView",
      "description": "",
      "description_tooltip": null,
      "layout": "IPY_MODEL_30cd6b03c29443f085137d385791dad6",
      "placeholder": "​",
      "style": "IPY_MODEL_15a3f8c0e12a4983a0dd4d4d1d261d6e",
      "value": " 40/40 [00:03&lt;00:00, 13.27it/s, train_auc=75.85%, skipped=24.49%]"
     }
    },
    "2bedab3b4c6242669116632eed1b2923": {
     "model_module": "@jupyter-widgets/controls",
     "model_module_version": "1.5.0",
     "model_name": "FloatProgressModel",
     "state": {
      "_dom_classes": [],
      "_model_module": "@jupyter-widgets/controls",
      "_model_module_version": "1.5.0",
      "_model_name": "FloatProgressModel",
      "_view_count": null,
      "_view_module": "@jupyter-widgets/controls",
      "_view_module_version": "1.5.0",
      "_view_name": "ProgressView",
      "bar_style": "success",
      "description": "",
      "description_tooltip": null,
      "layout": "IPY_MODEL_dcb7692a641f40908a63f2d42bd827f6",
      "max": 40,
      "min": 0,
      "orientation": "horizontal",
      "style": "IPY_MODEL_08694115d4e049109ca63c0aeb21166e",
      "value": 40
     }
    },
    "30cd6b03c29443f085137d385791dad6": {
     "model_module": "@jupyter-widgets/base",
     "model_module_version": "1.2.0",
     "model_name": "LayoutModel",
     "state": {
      "_model_module": "@jupyter-widgets/base",
      "_model_module_version": "1.2.0",
      "_model_name": "LayoutModel",
      "_view_count": null,
      "_view_module": "@jupyter-widgets/base",
      "_view_module_version": "1.2.0",
      "_view_name": "LayoutView",
      "align_content": null,
      "align_items": null,
      "align_self": null,
      "border": null,
      "bottom": null,
      "display": null,
      "flex": null,
      "flex_flow": null,
      "grid_area": null,
      "grid_auto_columns": null,
      "grid_auto_flow": null,
      "grid_auto_rows": null,
      "grid_column": null,
      "grid_gap": null,
      "grid_row": null,
      "grid_template_areas": null,
      "grid_template_columns": null,
      "grid_template_rows": null,
      "height": null,
      "justify_content": null,
      "justify_items": null,
      "left": null,
      "margin": null,
      "max_height": null,
      "max_width": null,
      "min_height": null,
      "min_width": null,
      "object_fit": null,
      "object_position": null,
      "order": null,
      "overflow": null,
      "overflow_x": null,
      "overflow_y": null,
      "padding": null,
      "right": null,
      "top": null,
      "visibility": null,
      "width": null
     }
    },
    "31682b08b4f24a22a67f765ce781eb63": {
     "model_module": "@jupyter-widgets/controls",
     "model_module_version": "1.5.0",
     "model_name": "HBoxModel",
     "state": {
      "_dom_classes": [],
      "_model_module": "@jupyter-widgets/controls",
      "_model_module_version": "1.5.0",
      "_model_name": "HBoxModel",
      "_view_count": null,
      "_view_module": "@jupyter-widgets/controls",
      "_view_module_version": "1.5.0",
      "_view_name": "HBoxView",
      "box_style": "",
      "children": [
       "IPY_MODEL_6cffd6817fad442a8c6055865a7a3ca3",
       "IPY_MODEL_5290262101ba4cafbbdc96ca69cb4dff",
       "IPY_MODEL_f050a1f323bf4ca3a21c7ff8b0f56f01"
      ],
      "layout": "IPY_MODEL_b47972aa90e34d619db1d0433ded96fe"
     }
    },
    "4030a4d1f8884bf395d7b7ca8002c3a2": {
     "model_module": "@jupyter-widgets/controls",
     "model_module_version": "1.5.0",
     "model_name": "HBoxModel",
     "state": {
      "_dom_classes": [],
      "_model_module": "@jupyter-widgets/controls",
      "_model_module_version": "1.5.0",
      "_model_name": "HBoxModel",
      "_view_count": null,
      "_view_module": "@jupyter-widgets/controls",
      "_view_module_version": "1.5.0",
      "_view_name": "HBoxView",
      "box_style": "",
      "children": [
       "IPY_MODEL_b443712c165c4c4b816967685fcdad7d",
       "IPY_MODEL_2bedab3b4c6242669116632eed1b2923",
       "IPY_MODEL_22ce478e3e814c98a3f769e87cb36d53"
      ],
      "layout": "IPY_MODEL_5fddbca398bc45a4ae5241611c89b221"
     }
    },
    "5290262101ba4cafbbdc96ca69cb4dff": {
     "model_module": "@jupyter-widgets/controls",
     "model_module_version": "1.5.0",
     "model_name": "FloatProgressModel",
     "state": {
      "_dom_classes": [],
      "_model_module": "@jupyter-widgets/controls",
      "_model_module_version": "1.5.0",
      "_model_name": "FloatProgressModel",
      "_view_count": null,
      "_view_module": "@jupyter-widgets/controls",
      "_view_module_version": "1.5.0",
      "_view_name": "ProgressView",
      "bar_style": "success",
      "description": "",
      "description_tooltip": null,
      "layout": "IPY_MODEL_065bb3bef4a34bbab8ef2f3c3832a4a2",
      "max": 10,
      "min": 0,
      "orientation": "horizontal",
      "style": "IPY_MODEL_7e03ed65a9aa4f85a4928f350f9d07e4",
      "value": 10
     }
    },
    "5fddbca398bc45a4ae5241611c89b221": {
     "model_module": "@jupyter-widgets/base",
     "model_module_version": "1.2.0",
     "model_name": "LayoutModel",
     "state": {
      "_model_module": "@jupyter-widgets/base",
      "_model_module_version": "1.2.0",
      "_model_name": "LayoutModel",
      "_view_count": null,
      "_view_module": "@jupyter-widgets/base",
      "_view_module_version": "1.2.0",
      "_view_name": "LayoutView",
      "align_content": null,
      "align_items": null,
      "align_self": null,
      "border": null,
      "bottom": null,
      "display": null,
      "flex": null,
      "flex_flow": null,
      "grid_area": null,
      "grid_auto_columns": null,
      "grid_auto_flow": null,
      "grid_auto_rows": null,
      "grid_column": null,
      "grid_gap": null,
      "grid_row": null,
      "grid_template_areas": null,
      "grid_template_columns": null,
      "grid_template_rows": null,
      "height": null,
      "justify_content": null,
      "justify_items": null,
      "left": null,
      "margin": null,
      "max_height": null,
      "max_width": null,
      "min_height": null,
      "min_width": null,
      "object_fit": null,
      "object_position": null,
      "order": null,
      "overflow": null,
      "overflow_x": null,
      "overflow_y": null,
      "padding": null,
      "right": null,
      "top": null,
      "visibility": null,
      "width": null
     }
    },
    "66ed84b7702f4e3a9fc1b264213638b1": {
     "model_module": "@jupyter-widgets/base",
     "model_module_version": "1.2.0",
     "model_name": "LayoutModel",
     "state": {
      "_model_module": "@jupyter-widgets/base",
      "_model_module_version": "1.2.0",
      "_model_name": "LayoutModel",
      "_view_count": null,
      "_view_module": "@jupyter-widgets/base",
      "_view_module_version": "1.2.0",
      "_view_name": "LayoutView",
      "align_content": null,
      "align_items": null,
      "align_self": null,
      "border": null,
      "bottom": null,
      "display": null,
      "flex": null,
      "flex_flow": null,
      "grid_area": null,
      "grid_auto_columns": null,
      "grid_auto_flow": null,
      "grid_auto_rows": null,
      "grid_column": null,
      "grid_gap": null,
      "grid_row": null,
      "grid_template_areas": null,
      "grid_template_columns": null,
      "grid_template_rows": null,
      "height": null,
      "justify_content": null,
      "justify_items": null,
      "left": null,
      "margin": null,
      "max_height": null,
      "max_width": null,
      "min_height": null,
      "min_width": null,
      "object_fit": null,
      "object_position": null,
      "order": null,
      "overflow": null,
      "overflow_x": null,
      "overflow_y": null,
      "padding": null,
      "right": null,
      "top": null,
      "visibility": null,
      "width": null
     }
    },
    "6cffd6817fad442a8c6055865a7a3ca3": {
     "model_module": "@jupyter-widgets/controls",
     "model_module_version": "1.5.0",
     "model_name": "HTMLModel",
     "state": {
      "_dom_classes": [],
      "_model_module": "@jupyter-widgets/controls",
      "_model_module_version": "1.5.0",
      "_model_name": "HTMLModel",
      "_view_count": null,
      "_view_module": "@jupyter-widgets/controls",
      "_view_module_version": "1.5.0",
      "_view_name": "HTMLView",
      "description": "",
      "description_tooltip": null,
      "layout": "IPY_MODEL_dbc96b10461e447e9e1f166f19848ce4",
      "placeholder": "​",
      "style": "IPY_MODEL_6fbc59bbb7da4a1a8fc90552383031e6",
      "value": "100%"
     }
    },
    "6fbc59bbb7da4a1a8fc90552383031e6": {
     "model_module": "@jupyter-widgets/controls",
     "model_module_version": "1.5.0",
     "model_name": "DescriptionStyleModel",
     "state": {
      "_model_module": "@jupyter-widgets/controls",
      "_model_module_version": "1.5.0",
      "_model_name": "DescriptionStyleModel",
      "_view_count": null,
      "_view_module": "@jupyter-widgets/base",
      "_view_module_version": "1.2.0",
      "_view_name": "StyleView",
      "description_width": ""
     }
    },
    "7e03ed65a9aa4f85a4928f350f9d07e4": {
     "model_module": "@jupyter-widgets/controls",
     "model_module_version": "1.5.0",
     "model_name": "ProgressStyleModel",
     "state": {
      "_model_module": "@jupyter-widgets/controls",
      "_model_module_version": "1.5.0",
      "_model_name": "ProgressStyleModel",
      "_view_count": null,
      "_view_module": "@jupyter-widgets/base",
      "_view_module_version": "1.2.0",
      "_view_name": "StyleView",
      "bar_color": null,
      "description_width": ""
     }
    },
    "b443712c165c4c4b816967685fcdad7d": {
     "model_module": "@jupyter-widgets/controls",
     "model_module_version": "1.5.0",
     "model_name": "HTMLModel",
     "state": {
      "_dom_classes": [],
      "_model_module": "@jupyter-widgets/controls",
      "_model_module_version": "1.5.0",
      "_model_name": "HTMLModel",
      "_view_count": null,
      "_view_module": "@jupyter-widgets/controls",
      "_view_module_version": "1.5.0",
      "_view_name": "HTMLView",
      "description": "",
      "description_tooltip": null,
      "layout": "IPY_MODEL_bd3f817134474d859695c1300e3f3d3f",
      "placeholder": "​",
      "style": "IPY_MODEL_d57aa26ad8a74612ae8c2a002e10dd95",
      "value": "100%"
     }
    },
    "b47972aa90e34d619db1d0433ded96fe": {
     "model_module": "@jupyter-widgets/base",
     "model_module_version": "1.2.0",
     "model_name": "LayoutModel",
     "state": {
      "_model_module": "@jupyter-widgets/base",
      "_model_module_version": "1.2.0",
      "_model_name": "LayoutModel",
      "_view_count": null,
      "_view_module": "@jupyter-widgets/base",
      "_view_module_version": "1.2.0",
      "_view_name": "LayoutView",
      "align_content": null,
      "align_items": null,
      "align_self": null,
      "border": null,
      "bottom": null,
      "display": null,
      "flex": null,
      "flex_flow": null,
      "grid_area": null,
      "grid_auto_columns": null,
      "grid_auto_flow": null,
      "grid_auto_rows": null,
      "grid_column": null,
      "grid_gap": null,
      "grid_row": null,
      "grid_template_areas": null,
      "grid_template_columns": null,
      "grid_template_rows": null,
      "height": null,
      "justify_content": null,
      "justify_items": null,
      "left": null,
      "margin": null,
      "max_height": null,
      "max_width": null,
      "min_height": null,
      "min_width": null,
      "object_fit": null,
      "object_position": null,
      "order": null,
      "overflow": null,
      "overflow_x": null,
      "overflow_y": null,
      "padding": null,
      "right": null,
      "top": null,
      "visibility": null,
      "width": null
     }
    },
    "bd3f817134474d859695c1300e3f3d3f": {
     "model_module": "@jupyter-widgets/base",
     "model_module_version": "1.2.0",
     "model_name": "LayoutModel",
     "state": {
      "_model_module": "@jupyter-widgets/base",
      "_model_module_version": "1.2.0",
      "_model_name": "LayoutModel",
      "_view_count": null,
      "_view_module": "@jupyter-widgets/base",
      "_view_module_version": "1.2.0",
      "_view_name": "LayoutView",
      "align_content": null,
      "align_items": null,
      "align_self": null,
      "border": null,
      "bottom": null,
      "display": null,
      "flex": null,
      "flex_flow": null,
      "grid_area": null,
      "grid_auto_columns": null,
      "grid_auto_flow": null,
      "grid_auto_rows": null,
      "grid_column": null,
      "grid_gap": null,
      "grid_row": null,
      "grid_template_areas": null,
      "grid_template_columns": null,
      "grid_template_rows": null,
      "height": null,
      "justify_content": null,
      "justify_items": null,
      "left": null,
      "margin": null,
      "max_height": null,
      "max_width": null,
      "min_height": null,
      "min_width": null,
      "object_fit": null,
      "object_position": null,
      "order": null,
      "overflow": null,
      "overflow_x": null,
      "overflow_y": null,
      "padding": null,
      "right": null,
      "top": null,
      "visibility": null,
      "width": null
     }
    },
    "d57aa26ad8a74612ae8c2a002e10dd95": {
     "model_module": "@jupyter-widgets/controls",
     "model_module_version": "1.5.0",
     "model_name": "DescriptionStyleModel",
     "state": {
      "_model_module": "@jupyter-widgets/controls",
      "_model_module_version": "1.5.0",
      "_model_name": "DescriptionStyleModel",
      "_view_count": null,
      "_view_module": "@jupyter-widgets/base",
      "_view_module_version": "1.2.0",
      "_view_name": "StyleView",
      "description_width": ""
     }
    },
    "dbc96b10461e447e9e1f166f19848ce4": {
     "model_module": "@jupyter-widgets/base",
     "model_module_version": "1.2.0",
     "model_name": "LayoutModel",
     "state": {
      "_model_module": "@jupyter-widgets/base",
      "_model_module_version": "1.2.0",
      "_model_name": "LayoutModel",
      "_view_count": null,
      "_view_module": "@jupyter-widgets/base",
      "_view_module_version": "1.2.0",
      "_view_name": "LayoutView",
      "align_content": null,
      "align_items": null,
      "align_self": null,
      "border": null,
      "bottom": null,
      "display": null,
      "flex": null,
      "flex_flow": null,
      "grid_area": null,
      "grid_auto_columns": null,
      "grid_auto_flow": null,
      "grid_auto_rows": null,
      "grid_column": null,
      "grid_gap": null,
      "grid_row": null,
      "grid_template_areas": null,
      "grid_template_columns": null,
      "grid_template_rows": null,
      "height": null,
      "justify_content": null,
      "justify_items": null,
      "left": null,
      "margin": null,
      "max_height": null,
      "max_width": null,
      "min_height": null,
      "min_width": null,
      "object_fit": null,
      "object_position": null,
      "order": null,
      "overflow": null,
      "overflow_x": null,
      "overflow_y": null,
      "padding": null,
      "right": null,
      "top": null,
      "visibility": null,
      "width": null
     }
    },
    "dcb7692a641f40908a63f2d42bd827f6": {
     "model_module": "@jupyter-widgets/base",
     "model_module_version": "1.2.0",
     "model_name": "LayoutModel",
     "state": {
      "_model_module": "@jupyter-widgets/base",
      "_model_module_version": "1.2.0",
      "_model_name": "LayoutModel",
      "_view_count": null,
      "_view_module": "@jupyter-widgets/base",
      "_view_module_version": "1.2.0",
      "_view_name": "LayoutView",
      "align_content": null,
      "align_items": null,
      "align_self": null,
      "border": null,
      "bottom": null,
      "display": null,
      "flex": null,
      "flex_flow": null,
      "grid_area": null,
      "grid_auto_columns": null,
      "grid_auto_flow": null,
      "grid_auto_rows": null,
      "grid_column": null,
      "grid_gap": null,
      "grid_row": null,
      "grid_template_areas": null,
      "grid_template_columns": null,
      "grid_template_rows": null,
      "height": null,
      "justify_content": null,
      "justify_items": null,
      "left": null,
      "margin": null,
      "max_height": null,
      "max_width": null,
      "min_height": null,
      "min_width": null,
      "object_fit": null,
      "object_position": null,
      "order": null,
      "overflow": null,
      "overflow_x": null,
      "overflow_y": null,
      "padding": null,
      "right": null,
      "top": null,
      "visibility": null,
      "width": null
     }
    },
    "e9688991c7db4e77a6c2e758bded7fcb": {
     "model_module": "@jupyter-widgets/controls",
     "model_module_version": "1.5.0",
     "model_name": "DescriptionStyleModel",
     "state": {
      "_model_module": "@jupyter-widgets/controls",
      "_model_module_version": "1.5.0",
      "_model_name": "DescriptionStyleModel",
      "_view_count": null,
      "_view_module": "@jupyter-widgets/base",
      "_view_module_version": "1.2.0",
      "_view_name": "StyleView",
      "description_width": ""
     }
    },
    "f050a1f323bf4ca3a21c7ff8b0f56f01": {
     "model_module": "@jupyter-widgets/controls",
     "model_module_version": "1.5.0",
     "model_name": "HTMLModel",
     "state": {
      "_dom_classes": [],
      "_model_module": "@jupyter-widgets/controls",
      "_model_module_version": "1.5.0",
      "_model_name": "HTMLModel",
      "_view_count": null,
      "_view_module": "@jupyter-widgets/controls",
      "_view_module_version": "1.5.0",
      "_view_name": "HTMLView",
      "description": "",
      "description_tooltip": null,
      "layout": "IPY_MODEL_66ed84b7702f4e3a9fc1b264213638b1",
      "placeholder": "​",
      "style": "IPY_MODEL_e9688991c7db4e77a6c2e758bded7fcb",
      "value": " 10/10 [00:03&lt;00:00,  3.51it/s]"
     }
    }
   }
  }
 },
 "nbformat": 4,
 "nbformat_minor": 4
}
