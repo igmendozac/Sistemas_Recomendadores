{
 "cells": [
  {
   "cell_type": "markdown",
   "metadata": {
    "id": "NC-ceGb8LRLT"
   },
   "source": [
    "# Tarea 1 - MAN3160"
   ]
  },
  {
   "cell_type": "markdown",
   "metadata": {
    "id": "mACJbcW8T35p"
   },
   "source": [
    "\n",
    "\n",
    "**Profesor**: Denis Parra\n",
    "\n",
    "**Ayudante**: Álvaro Labarca.\n"
   ]
  },
  {
   "cell_type": "markdown",
   "metadata": {
    "id": "lcqqkI9yZ2tL"
   },
   "source": [
    "En esta tarea, aplicaremos los conocimientos aprendidos en el curso para evaluar el funcionamiento de distintos algoritmos de recomendación sobre el dataset de películas MovieLens. Para realizar la tarea, deberán leer y ejecutar todas las celdas del notebook y completar/responder las actividades que serán dadas."
   ]
  },
  {
   "cell_type": "markdown",
   "metadata": {
    "id": "bkU4OWMGbKb3"
   },
   "source": [
    "# Setup inicial"
   ]
  },
  {
   "cell_type": "markdown",
   "metadata": {},
   "source": [
    "## Instalación Visual C++ Build Tools (Windows)"
   ]
  },
  {
   "cell_type": "markdown",
   "metadata": {},
   "source": [
    "Para poder instalar la librería Surprise que será utilzada en la tarea en un sistema operativo Windows, se necesitan tener instaladas las Visual C++ Build Tools.\n",
    "\n",
    "Estas pueden ser descargadas a través de [este link](https://visualstudio.microsoft.com/es/visual-cpp-build-tools/). Una vez que hayan descargado el ejecutable, asegúrense de marcar la opción **Desarrollo para el escritorio con C++** y reiniciar su equipo una vez finalice la descarga"
   ]
  },
  {
   "cell_type": "markdown",
   "metadata": {},
   "source": [
    "## Descarga del dataset"
   ]
  },
  {
   "cell_type": "markdown",
   "metadata": {
    "id": "GSEH7nJw6ecN"
   },
   "source": [
    "Vamos a descargar el dataset MovieLens-100k proporcionado de manera abierta por [GroupLens de la Universidad de Minnesota](https://grouplens.org/). Este dataset consiste en $100.000$ *ratings* de $943$ usuarios de la plataforma [MovieLens](https://movielens.org/home) en $1.682$ películas.\n",
    "\n",
    "Podemos descargar el dataset directamente con el comando wget."
   ]
  },
  {
   "cell_type": "code",
   "execution_count": 1,
   "metadata": {
    "colab": {
     "base_uri": "https://localhost:8080/"
    },
    "id": "mPCUqeZNb2-D",
    "outputId": "55d2ce6a-4951-44c7-b592-206030b24efe"
   },
   "outputs": [
    {
     "name": "stdout",
     "output_type": "stream",
     "text": [
      "Requirement already satisfied: wget in /opt/conda/lib/python3.11/site-packages (3.2)\n",
      "Requirement already satisfied: zipfile36 in /opt/conda/lib/python3.11/site-packages (0.1.3)\n",
      "100% [......................................................] 4924029 / 4924029\n",
      "Saved under ml-100k (1).zip\n"
     ]
    }
   ],
   "source": [
    "!pip install wget\n",
    "!pip install zipfile36\n",
    "!python -m wget http://files.grouplens.org/datasets/movielens/ml-100k.zip"
   ]
  },
  {
   "cell_type": "code",
   "execution_count": 2,
   "metadata": {},
   "outputs": [],
   "source": [
    "import zipfile\n",
    "with zipfile.ZipFile(\"ml-100k.zip\", 'r') as zip_ref:\n",
    "    zip_ref.extractall(\".\")"
   ]
  },
  {
   "cell_type": "markdown",
   "metadata": {
    "id": "snkyT9qv9sQz"
   },
   "source": [
    "El archivo *u.data* contiene los $100.000$ ratings. Además, el dataset contiene divisiones de entrenamiento y testeo en los archivos *.base* y *.test*. Los archivos desde u1 hasta u5 corresponden a *splits* del 80% / 20% del dataset original.\n",
    "\n",
    "Para efectos de esta tarea, solo trabajaremos con los archivos *u1.base* y *u1.test*, por lo que guardaremos su ruta."
   ]
  },
  {
   "cell_type": "code",
   "execution_count": 3,
   "metadata": {
    "id": "ZjGe47htbMmF"
   },
   "outputs": [],
   "source": [
    "train_dir = \"ml-100k/u1.base\"\n",
    "test_dir = \"ml-100k/u1.test\""
   ]
  },
  {
   "cell_type": "markdown",
   "metadata": {
    "id": "9qKTQ2V5VKSX"
   },
   "source": [
    "# Dataset\n",
    "\n",
    "Las siguientes celdas les permitirá descargar el dataset MovieLens 100k de manera local."
   ]
  },
  {
   "cell_type": "markdown",
   "metadata": {
    "id": "liJ3L2kl4g1o"
   },
   "source": [
    "Los archivos **u1.base** y **u1.test** tienen tuplas {usuario, item, rating, timestamp}, que es la información de preferencias de usuarios sobre películas en una muestra del dataset [MovieLens](https://grouplens.org/datasets/movielens/).\n",
    "\n",
    "## Revisar archivos descargados\n",
    "\n",
    "Revisemos la información contenida en el set de entrenamiento. Para esto, usaremos la librería Pandas, que nos permite manejar bases de datos."
   ]
  },
  {
   "cell_type": "code",
   "execution_count": 4,
   "metadata": {
    "colab": {
     "base_uri": "https://localhost:8080/",
     "height": 206
    },
    "id": "10N9GHcw5AeV",
    "outputId": "323f55a2-7cb4-470e-dcf3-ce14747f88a3"
   },
   "outputs": [
    {
     "data": {
      "text/html": [
       "<div>\n",
       "<style scoped>\n",
       "    .dataframe tbody tr th:only-of-type {\n",
       "        vertical-align: middle;\n",
       "    }\n",
       "\n",
       "    .dataframe tbody tr th {\n",
       "        vertical-align: top;\n",
       "    }\n",
       "\n",
       "    .dataframe thead th {\n",
       "        text-align: right;\n",
       "    }\n",
       "</style>\n",
       "<table border=\"1\" class=\"dataframe\">\n",
       "  <thead>\n",
       "    <tr style=\"text-align: right;\">\n",
       "      <th></th>\n",
       "      <th>userid</th>\n",
       "      <th>itemid</th>\n",
       "      <th>rating</th>\n",
       "      <th>timestamp</th>\n",
       "    </tr>\n",
       "  </thead>\n",
       "  <tbody>\n",
       "    <tr>\n",
       "      <th>0</th>\n",
       "      <td>1</td>\n",
       "      <td>1</td>\n",
       "      <td>5</td>\n",
       "      <td>874965758</td>\n",
       "    </tr>\n",
       "    <tr>\n",
       "      <th>1</th>\n",
       "      <td>1</td>\n",
       "      <td>2</td>\n",
       "      <td>3</td>\n",
       "      <td>876893171</td>\n",
       "    </tr>\n",
       "    <tr>\n",
       "      <th>2</th>\n",
       "      <td>1</td>\n",
       "      <td>3</td>\n",
       "      <td>4</td>\n",
       "      <td>878542960</td>\n",
       "    </tr>\n",
       "    <tr>\n",
       "      <th>3</th>\n",
       "      <td>1</td>\n",
       "      <td>4</td>\n",
       "      <td>3</td>\n",
       "      <td>876893119</td>\n",
       "    </tr>\n",
       "    <tr>\n",
       "      <th>4</th>\n",
       "      <td>1</td>\n",
       "      <td>5</td>\n",
       "      <td>3</td>\n",
       "      <td>889751712</td>\n",
       "    </tr>\n",
       "  </tbody>\n",
       "</table>\n",
       "</div>"
      ],
      "text/plain": [
       "   userid  itemid  rating  timestamp\n",
       "0       1       1       5  874965758\n",
       "1       1       2       3  876893171\n",
       "2       1       3       4  878542960\n",
       "3       1       4       3  876893119\n",
       "4       1       5       3  889751712"
      ]
     },
     "execution_count": 4,
     "metadata": {},
     "output_type": "execute_result"
    }
   ],
   "source": [
    "import pandas as pd\n",
    "\n",
    "train_file = pd.read_csv(train_dir, sep='\\t', names = ['userid', 'itemid', 'rating', 'timestamp'], header=None)\n",
    "\n",
    "train_file.head()"
   ]
  },
  {
   "cell_type": "markdown",
   "metadata": {
    "id": "ylqxKuF6tsX2"
   },
   "source": [
    "### Pregunta 1 (6 puntos):\n",
    "\n",
    "Podemos ver que los archivos *u.base* contienen información del usuario, el item, el rating y el timestamp. ¿A qué tipo de información corresponde esto? (Por ejemplo, feedback implícito/explícito, contextual, de contenido, etc).\n",
    "\n",
    "En base a esto, ¿Qué método de recomendación visto en clase sugiere usar para recomendar películas nuevas a los usuarios?"
   ]
  },
  {
   "cell_type": "markdown",
   "metadata": {
    "id": "G14TbCAeuk3G"
   },
   "source": [
    "#### Respuesta:\n",
    "\n",
    "La información contenida en los archivos u1.base y u1.test del dataset MovieLens corresponde a información de feedback explícito. Esto se debe a que se proporciona directamente el rating (calificación) que los usuarios han otorgado a las películas.\r\n",
    "\r\n",
    "Dado que estamos tratando con feedback explícito en forma de calificaciones, un método de recomendación adecuado para recomendar películas nuevas a los usuarios podría ser el Filtrado Colaborativo. El filtrado colaborativo se basa en las interacciones pasadas de los usuarios con elementos (en este caso, películas) y busca encontrar patrones y similitudes entre usuarios o entre ítems para realizar recomendaciones."
   ]
  },
  {
   "cell_type": "markdown",
   "metadata": {
    "id": "qKHFLAfIusZm"
   },
   "source": [
    "### Pregunta 2 (6 puntos):\n",
    "\n",
    "Observemos ahora cómo se distribuyen la cantidad de interacciones por usuario y la cantidad de interacciones por ítem."
   ]
  },
  {
   "cell_type": "code",
   "execution_count": 7,
   "metadata": {
    "colab": {
     "base_uri": "https://localhost:8080/",
     "height": 524
    },
    "id": "OIFM4kyLwroC",
    "outputId": "4731a1ff-2dc0-433a-b90c-9df4eeee0963"
   },
   "outputs": [
    {
     "data": {
      "text/plain": [
       "[Text(0.5, 1.0, 'Número de interacciones por usuario'),\n",
       " Text(0.5, 0, 'Cantidad de items'),\n",
       " Text(0, 0.5, 'Cantidad de usuarios')]"
      ]
     },
     "execution_count": 7,
     "metadata": {},
     "output_type": "execute_result"
    },
    {
     "data": {
      "image/png": "[encoded data removed]",
      "text/plain": [
       "<Figure size 640x480 with 1 Axes>"
      ]
     },
     "metadata": {},
     "output_type": "display_data"
    }
   ],
   "source": [
    "import matplotlib.pyplot as plt\n",
    "\n",
    "distrib = train_file.groupby(['userid']).count().sort_values(by=['itemid'], ascending=False)\n",
    "x = distrib['itemid']\n",
    "plt.hist(x)\n",
    "plt.gca().set(title='Número de interacciones por usuario', xlabel='Cantidad de items', ylabel='Cantidad de usuarios')"
   ]
  },
  {
   "cell_type": "code",
   "execution_count": 8,
   "metadata": {
    "colab": {
     "base_uri": "https://localhost:8080/",
     "height": 524
    },
    "id": "yOrxo9dFxEM8",
    "outputId": "3e2e128c-ee04-4609-f0a6-e6e62a5c1861"
   },
   "outputs": [
    {
     "data": {
      "text/plain": [
       "[Text(0.5, 1.0, 'Número de interacciones por item'),\n",
       " Text(0.5, 0, 'Cantidad de interacciones'),\n",
       " Text(0, 0.5, 'Numero de items')]"
      ]
     },
     "execution_count": 8,
     "metadata": {},
     "output_type": "execute_result"
    },
    {
     "data": {
      "image/png": "[encoded data removed]",
      "text/plain": [
       "<Figure size 640x480 with 1 Axes>"
      ]
     },
     "metadata": {},
     "output_type": "display_data"
    }
   ],
   "source": [
    "distrib_item = train_file.groupby(['itemid']).count().sort_values(by=['userid'], ascending=False)\n",
    "x = distrib_item['userid']\n",
    "plt.hist(x)\n",
    "plt.gca().set(title='Número de interacciones por item', xlabel='Cantidad de interacciones', ylabel='Numero de items')"
   ]
  },
  {
   "cell_type": "markdown",
   "metadata": {
    "id": "nIVYK0cJyP4v"
   },
   "source": [
    "Representando la data como histogramas, podemos observar la distribución de las interacciones. Por ejemplo, la primera barra del primer histograma nos indica cuántos usuarios del dataset tienen entre $0$ y $50$ interacciones.\n",
    "\n",
    "Observe estos datos y comente acerca de la forma de los gráficos y qué significa esta forma en el contexto, tanto para los usuarios como para los ítems. ¿Qué problema podría significar esto para un sistema recomendador?"
   ]
  },
  {
   "cell_type": "markdown",
   "metadata": {
    "id": "pYlDw0v4yqqX"
   },
   "source": [
    "#### Respuesta:\n",
    "\n",
    "* Distribución de interacciones por usuario: Como se observa, la mayoría de los usuarios tienen un número relativamente bajo de interacciones, esto podría indicar que algunos usuarios son muy activos en el sistema, mientras que otros solo han interactuado con unas pocas películas. Esta distribución puede ser problemática para un sistema recomendador, ya que los usuarios con pocas interacciones pueden tener perfiles más difíciles de entender y, por lo tanto, hacer recomendaciones precisas para ellos podría ser complicado.\r\n",
    "* \r\n",
    "Distribución de interacciones por ítemSimilar al histograma de usuarios, se ve que n una cantidad significativamente mayor de interacciones que otra), esto podría indicar que algunos ítems son muy populares y tienden a ser consumidos por la mayoría de los usuarios, mientras que otros son menos populares y pueden no haber sido descubiertos por muchos usuarios. Esta distribución puede llevar a problemas de \"sesgo popular\", donde los ítems populares dominan las recomendaciones y los ítems menos populares tienden a ser pasados por alto.\r\n",
    "\r\n",
    "Ambas distribuciones pueden presentar desafíos para un sistema recomendador. En el caso de los usuarios con pocas interacciones, podría haber dificultades para comprender sus preferencias y hacer recomendaciones relevantes. En el caso de los ítems populares, las recomendaciones podrían ser sesgadas y limitar la diversidad de recomendaciciones."
   ]
  },
  {
   "cell_type": "markdown",
   "metadata": {
    "id": "vcYNPcJ5y3YM"
   },
   "source": [
    "## Como ver la información de una o más películas"
   ]
  },
  {
   "cell_type": "markdown",
   "metadata": {
    "id": "RnqkwSlSAxQ7"
   },
   "source": [
    "Ahora vamos a aprender algunos métodos de la biblioteca de Pandas que nos permiten ver los detalles de algunas interacciones"
   ]
  },
  {
   "cell_type": "code",
   "execution_count": 9,
   "metadata": {
    "colab": {
     "base_uri": "https://localhost:8080/",
     "height": 175
    },
    "id": "wi4TSVE3atjZ",
    "outputId": "62a0a928-b25d-479f-f4d9-f9e23b87ff8c"
   },
   "outputs": [
    {
     "data": {
      "text/html": [
       "<div>\n",
       "<style scoped>\n",
       "    .dataframe tbody tr th:only-of-type {\n",
       "        vertical-align: middle;\n",
       "    }\n",
       "\n",
       "    .dataframe tbody tr th {\n",
       "        vertical-align: top;\n",
       "    }\n",
       "\n",
       "    .dataframe thead th {\n",
       "        text-align: right;\n",
       "    }\n",
       "</style>\n",
       "<table border=\"1\" class=\"dataframe\">\n",
       "  <thead>\n",
       "    <tr style=\"text-align: right;\">\n",
       "      <th></th>\n",
       "      <th>userid</th>\n",
       "      <th>itemid</th>\n",
       "      <th>rating</th>\n",
       "      <th>timestamp</th>\n",
       "    </tr>\n",
       "  </thead>\n",
       "  <tbody>\n",
       "    <tr>\n",
       "      <th>17949</th>\n",
       "      <td>310</td>\n",
       "      <td>50</td>\n",
       "      <td>5</td>\n",
       "      <td>879436177</td>\n",
       "    </tr>\n",
       "    <tr>\n",
       "      <th>17950</th>\n",
       "      <td>310</td>\n",
       "      <td>294</td>\n",
       "      <td>1</td>\n",
       "      <td>879436712</td>\n",
       "    </tr>\n",
       "    <tr>\n",
       "      <th>17951</th>\n",
       "      <td>310</td>\n",
       "      <td>1142</td>\n",
       "      <td>5</td>\n",
       "      <td>879436467</td>\n",
       "    </tr>\n",
       "    <tr>\n",
       "      <th>17952</th>\n",
       "      <td>310</td>\n",
       "      <td>1386</td>\n",
       "      <td>1</td>\n",
       "      <td>879436177</td>\n",
       "    </tr>\n",
       "  </tbody>\n",
       "</table>\n",
       "</div>"
      ],
      "text/plain": [
       "       userid  itemid  rating  timestamp\n",
       "17949     310      50       5  879436177\n",
       "17950     310     294       1  879436712\n",
       "17951     310    1142       5  879436467\n",
       "17952     310    1386       1  879436177"
      ]
     },
     "execution_count": 9,
     "metadata": {},
     "output_type": "execute_result"
    }
   ],
   "source": [
    "# Ver la o las filas específicas del usuario con id = 310\n",
    "train_file[train_file['userid'] == 310]"
   ]
  },
  {
   "cell_type": "markdown",
   "metadata": {
    "id": "iC8fe_QdBW-b"
   },
   "source": [
    "Podemos ver que el usuario con ID $310$ tiene $4$ interacciones en el set de entrenamiento"
   ]
  },
  {
   "cell_type": "markdown",
   "metadata": {
    "id": "BKOrcfaiEdqM"
   },
   "source": [
    "El archivo *u.item* contiene información adicional de cada película, tal como *título*, *fecha de lanzamiento*, *género*, etc.\n",
    "\n",
    "La columna *movieid* corresponde a la columna *itemid* de nuestra tabla *train_file*, lo que nos permite conectar la información de esta tabla con nuestro dataset original."
   ]
  },
  {
   "cell_type": "code",
   "execution_count": 10,
   "metadata": {
    "colab": {
     "base_uri": "https://localhost:8080/",
     "height": 440
    },
    "id": "bVtvxJnr_yeK",
    "outputId": "13839acb-ca59-4f77-f48d-10043265eac6"
   },
   "outputs": [
    {
     "data": {
      "text/html": [
       "<div>\n",
       "<style scoped>\n",
       "    .dataframe tbody tr th:only-of-type {\n",
       "        vertical-align: middle;\n",
       "    }\n",
       "\n",
       "    .dataframe tbody tr th {\n",
       "        vertical-align: top;\n",
       "    }\n",
       "\n",
       "    .dataframe thead th {\n",
       "        text-align: right;\n",
       "    }\n",
       "</style>\n",
       "<table border=\"1\" class=\"dataframe\">\n",
       "  <thead>\n",
       "    <tr style=\"text-align: right;\">\n",
       "      <th></th>\n",
       "      <th>title</th>\n",
       "      <th>release_date</th>\n",
       "      <th>video_release_date</th>\n",
       "      <th>IMDb_URL</th>\n",
       "      <th>unknown</th>\n",
       "      <th>Action</th>\n",
       "      <th>Adventure</th>\n",
       "      <th>Animation</th>\n",
       "      <th>Children</th>\n",
       "      <th>Comedy</th>\n",
       "      <th>Crime</th>\n",
       "      <th>Documentary</th>\n",
       "      <th>Drama</th>\n",
       "      <th>Fantasy</th>\n",
       "      <th>Film-Noir</th>\n",
       "      <th>Horror</th>\n",
       "      <th>Musical</th>\n",
       "      <th>Mystery</th>\n",
       "      <th>Romance</th>\n",
       "      <th>Sci-Fi</th>\n",
       "      <th>Thriller</th>\n",
       "      <th>War</th>\n",
       "      <th>Western</th>\n",
       "    </tr>\n",
       "    <tr>\n",
       "      <th>movieid</th>\n",
       "      <th></th>\n",
       "      <th></th>\n",
       "      <th></th>\n",
       "      <th></th>\n",
       "      <th></th>\n",
       "      <th></th>\n",
       "      <th></th>\n",
       "      <th></th>\n",
       "      <th></th>\n",
       "      <th></th>\n",
       "      <th></th>\n",
       "      <th></th>\n",
       "      <th></th>\n",
       "      <th></th>\n",
       "      <th></th>\n",
       "      <th></th>\n",
       "      <th></th>\n",
       "      <th></th>\n",
       "      <th></th>\n",
       "      <th></th>\n",
       "      <th></th>\n",
       "      <th></th>\n",
       "      <th></th>\n",
       "    </tr>\n",
       "  </thead>\n",
       "  <tbody>\n",
       "    <tr>\n",
       "      <th>1</th>\n",
       "      <td>Toy Story (1995)</td>\n",
       "      <td>01-Jan-1995</td>\n",
       "      <td>NaN</td>\n",
       "      <td>http://us.imdb.com/M/title-exact?Toy%20Story%2...</td>\n",
       "      <td>0</td>\n",
       "      <td>0</td>\n",
       "      <td>0</td>\n",
       "      <td>1</td>\n",
       "      <td>1</td>\n",
       "      <td>1</td>\n",
       "      <td>0</td>\n",
       "      <td>0</td>\n",
       "      <td>0</td>\n",
       "      <td>0</td>\n",
       "      <td>0</td>\n",
       "      <td>0</td>\n",
       "      <td>0</td>\n",
       "      <td>0</td>\n",
       "      <td>0</td>\n",
       "      <td>0</td>\n",
       "      <td>0</td>\n",
       "      <td>0</td>\n",
       "      <td>0</td>\n",
       "    </tr>\n",
       "    <tr>\n",
       "      <th>2</th>\n",
       "      <td>GoldenEye (1995)</td>\n",
       "      <td>01-Jan-1995</td>\n",
       "      <td>NaN</td>\n",
       "      <td>http://us.imdb.com/M/title-exact?GoldenEye%20(...</td>\n",
       "      <td>0</td>\n",
       "      <td>1</td>\n",
       "      <td>1</td>\n",
       "      <td>0</td>\n",
       "      <td>0</td>\n",
       "      <td>0</td>\n",
       "      <td>0</td>\n",
       "      <td>0</td>\n",
       "      <td>0</td>\n",
       "      <td>0</td>\n",
       "      <td>0</td>\n",
       "      <td>0</td>\n",
       "      <td>0</td>\n",
       "      <td>0</td>\n",
       "      <td>0</td>\n",
       "      <td>0</td>\n",
       "      <td>1</td>\n",
       "      <td>0</td>\n",
       "      <td>0</td>\n",
       "    </tr>\n",
       "    <tr>\n",
       "      <th>3</th>\n",
       "      <td>Four Rooms (1995)</td>\n",
       "      <td>01-Jan-1995</td>\n",
       "      <td>NaN</td>\n",
       "      <td>http://us.imdb.com/M/title-exact?Four%20Rooms%...</td>\n",
       "      <td>0</td>\n",
       "      <td>0</td>\n",
       "      <td>0</td>\n",
       "      <td>0</td>\n",
       "      <td>0</td>\n",
       "      <td>0</td>\n",
       "      <td>0</td>\n",
       "      <td>0</td>\n",
       "      <td>0</td>\n",
       "      <td>0</td>\n",
       "      <td>0</td>\n",
       "      <td>0</td>\n",
       "      <td>0</td>\n",
       "      <td>0</td>\n",
       "      <td>0</td>\n",
       "      <td>0</td>\n",
       "      <td>1</td>\n",
       "      <td>0</td>\n",
       "      <td>0</td>\n",
       "    </tr>\n",
       "    <tr>\n",
       "      <th>4</th>\n",
       "      <td>Get Shorty (1995)</td>\n",
       "      <td>01-Jan-1995</td>\n",
       "      <td>NaN</td>\n",
       "      <td>http://us.imdb.com/M/title-exact?Get%20Shorty%...</td>\n",
       "      <td>0</td>\n",
       "      <td>1</td>\n",
       "      <td>0</td>\n",
       "      <td>0</td>\n",
       "      <td>0</td>\n",
       "      <td>1</td>\n",
       "      <td>0</td>\n",
       "      <td>0</td>\n",
       "      <td>1</td>\n",
       "      <td>0</td>\n",
       "      <td>0</td>\n",
       "      <td>0</td>\n",
       "      <td>0</td>\n",
       "      <td>0</td>\n",
       "      <td>0</td>\n",
       "      <td>0</td>\n",
       "      <td>0</td>\n",
       "      <td>0</td>\n",
       "      <td>0</td>\n",
       "    </tr>\n",
       "    <tr>\n",
       "      <th>5</th>\n",
       "      <td>Copycat (1995)</td>\n",
       "      <td>01-Jan-1995</td>\n",
       "      <td>NaN</td>\n",
       "      <td>http://us.imdb.com/M/title-exact?Copycat%20(1995)</td>\n",
       "      <td>0</td>\n",
       "      <td>0</td>\n",
       "      <td>0</td>\n",
       "      <td>0</td>\n",
       "      <td>0</td>\n",
       "      <td>0</td>\n",
       "      <td>1</td>\n",
       "      <td>0</td>\n",
       "      <td>1</td>\n",
       "      <td>0</td>\n",
       "      <td>0</td>\n",
       "      <td>0</td>\n",
       "      <td>0</td>\n",
       "      <td>0</td>\n",
       "      <td>0</td>\n",
       "      <td>0</td>\n",
       "      <td>1</td>\n",
       "      <td>0</td>\n",
       "      <td>0</td>\n",
       "    </tr>\n",
       "  </tbody>\n",
       "</table>\n",
       "</div>"
      ],
      "text/plain": [
       "                     title release_date  video_release_date  \\\n",
       "movieid                                                       \n",
       "1         Toy Story (1995)  01-Jan-1995                 NaN   \n",
       "2         GoldenEye (1995)  01-Jan-1995                 NaN   \n",
       "3        Four Rooms (1995)  01-Jan-1995                 NaN   \n",
       "4        Get Shorty (1995)  01-Jan-1995                 NaN   \n",
       "5           Copycat (1995)  01-Jan-1995                 NaN   \n",
       "\n",
       "                                                  IMDb_URL  unknown  Action  \\\n",
       "movieid                                                                       \n",
       "1        http://us.imdb.com/M/title-exact?Toy%20Story%2...        0       0   \n",
       "2        http://us.imdb.com/M/title-exact?GoldenEye%20(...        0       1   \n",
       "3        http://us.imdb.com/M/title-exact?Four%20Rooms%...        0       0   \n",
       "4        http://us.imdb.com/M/title-exact?Get%20Shorty%...        0       1   \n",
       "5        http://us.imdb.com/M/title-exact?Copycat%20(1995)        0       0   \n",
       "\n",
       "         Adventure  Animation  Children  Comedy  Crime  Documentary  Drama  \\\n",
       "movieid                                                                      \n",
       "1                0          1         1       1      0            0      0   \n",
       "2                1          0         0       0      0            0      0   \n",
       "3                0          0         0       0      0            0      0   \n",
       "4                0          0         0       1      0            0      1   \n",
       "5                0          0         0       0      1            0      1   \n",
       "\n",
       "         Fantasy  Film-Noir  Horror  Musical  Mystery  Romance  Sci-Fi  \\\n",
       "movieid                                                                  \n",
       "1              0          0       0        0        0        0       0   \n",
       "2              0          0       0        0        0        0       0   \n",
       "3              0          0       0        0        0        0       0   \n",
       "4              0          0       0        0        0        0       0   \n",
       "5              0          0       0        0        0        0       0   \n",
       "\n",
       "         Thriller  War  Western  \n",
       "movieid                          \n",
       "1               0    0        0  \n",
       "2               1    0        0  \n",
       "3               1    0        0  \n",
       "4               0    0        0  \n",
       "5               1    0        0  "
      ]
     },
     "execution_count": 10,
     "metadata": {},
     "output_type": "execute_result"
    }
   ],
   "source": [
    "info_cols = [ 'movieid', 'title', 'release_date', 'video_release_date', 'IMDb_URL', \\\n",
    "              'unknown', 'Action', 'Adventure', 'Animation', 'Children', 'Comedy', \\\n",
    "              'Crime', 'Documentary', 'Drama', 'Fantasy', 'Film-Noir', 'Horror', \\\n",
    "              'Musical', 'Mystery', 'Romance', 'Sci-Fi', 'Thriller', 'War', 'Western' ]\n",
    "\n",
    "pd.options.display.max_columns = None\n",
    "\n",
    "info_file = pd.read_csv('ml-100k/u.item', sep='|', index_col = 0, names = info_cols, header=None, encoding='latin-1')\n",
    "\n",
    "info_file.head()"
   ]
  },
  {
   "cell_type": "markdown",
   "metadata": {
    "id": "LW3ngD1aXffG"
   },
   "source": [
    "El comando `pd.options.display.max_columns = None` permite que la tabla se pueda mostrar completamente de forma horizontal, es decir, que muestre todas sus columnas."
   ]
  },
  {
   "cell_type": "code",
   "execution_count": 11,
   "metadata": {
    "colab": {
     "base_uri": "https://localhost:8080/"
    },
    "id": "nHxPjm-hXffH",
    "outputId": "b524d2d5-42e2-42d0-cf8b-73458191dba1"
   },
   "outputs": [
    {
     "name": "stdout",
     "output_type": "stream",
     "text": [
      "<class 'pandas.core.frame.DataFrame'>\n",
      "Index: 1682 entries, 1 to 1682\n",
      "Data columns (total 23 columns):\n",
      " #   Column              Non-Null Count  Dtype  \n",
      "---  ------              --------------  -----  \n",
      " 0   title               1682 non-null   object \n",
      " 1   release_date        1681 non-null   object \n",
      " 2   video_release_date  0 non-null      float64\n",
      " 3   IMDb_URL            1679 non-null   object \n",
      " 4   unknown             1682 non-null   int64  \n",
      " 5   Action              1682 non-null   int64  \n",
      " 6   Adventure           1682 non-null   int64  \n",
      " 7   Animation           1682 non-null   int64  \n",
      " 8   Children            1682 non-null   int64  \n",
      " 9   Comedy              1682 non-null   int64  \n",
      " 10  Crime               1682 non-null   int64  \n",
      " 11  Documentary         1682 non-null   int64  \n",
      " 12  Drama               1682 non-null   int64  \n",
      " 13  Fantasy             1682 non-null   int64  \n",
      " 14  Film-Noir           1682 non-null   int64  \n",
      " 15  Horror              1682 non-null   int64  \n",
      " 16  Musical             1682 non-null   int64  \n",
      " 17  Mystery             1682 non-null   int64  \n",
      " 18  Romance             1682 non-null   int64  \n",
      " 19  Sci-Fi              1682 non-null   int64  \n",
      " 20  Thriller            1682 non-null   int64  \n",
      " 21  War                 1682 non-null   int64  \n",
      " 22  Western             1682 non-null   int64  \n",
      "dtypes: float64(1), int64(19), object(3)\n",
      "memory usage: 315.4+ KB\n"
     ]
    }
   ],
   "source": [
    "info_file.info()"
   ]
  },
  {
   "cell_type": "code",
   "execution_count": 12,
   "metadata": {
    "colab": {
     "base_uri": "https://localhost:8080/",
     "height": 364
    },
    "id": "Ktd24wI4XffJ",
    "outputId": "7c652a8c-2a58-48ca-aa4f-ca1b756e82e1"
   },
   "outputs": [
    {
     "data": {
      "text/html": [
       "<div>\n",
       "<style scoped>\n",
       "    .dataframe tbody tr th:only-of-type {\n",
       "        vertical-align: middle;\n",
       "    }\n",
       "\n",
       "    .dataframe tbody tr th {\n",
       "        vertical-align: top;\n",
       "    }\n",
       "\n",
       "    .dataframe thead th {\n",
       "        text-align: right;\n",
       "    }\n",
       "</style>\n",
       "<table border=\"1\" class=\"dataframe\">\n",
       "  <thead>\n",
       "    <tr style=\"text-align: right;\">\n",
       "      <th></th>\n",
       "      <th>video_release_date</th>\n",
       "      <th>unknown</th>\n",
       "      <th>Action</th>\n",
       "      <th>Adventure</th>\n",
       "      <th>Animation</th>\n",
       "      <th>Children</th>\n",
       "      <th>Comedy</th>\n",
       "      <th>Crime</th>\n",
       "      <th>Documentary</th>\n",
       "      <th>Drama</th>\n",
       "      <th>Fantasy</th>\n",
       "      <th>Film-Noir</th>\n",
       "      <th>Horror</th>\n",
       "      <th>Musical</th>\n",
       "      <th>Mystery</th>\n",
       "      <th>Romance</th>\n",
       "      <th>Sci-Fi</th>\n",
       "      <th>Thriller</th>\n",
       "      <th>War</th>\n",
       "      <th>Western</th>\n",
       "    </tr>\n",
       "  </thead>\n",
       "  <tbody>\n",
       "    <tr>\n",
       "      <th>count</th>\n",
       "      <td>0.0</td>\n",
       "      <td>1682.000000</td>\n",
       "      <td>1682.000000</td>\n",
       "      <td>1682.000000</td>\n",
       "      <td>1682.000000</td>\n",
       "      <td>1682.000000</td>\n",
       "      <td>1682.000000</td>\n",
       "      <td>1682.000000</td>\n",
       "      <td>1682.000000</td>\n",
       "      <td>1682.000000</td>\n",
       "      <td>1682.00000</td>\n",
       "      <td>1682.000000</td>\n",
       "      <td>1682.000000</td>\n",
       "      <td>1682.000000</td>\n",
       "      <td>1682.000000</td>\n",
       "      <td>1682.000000</td>\n",
       "      <td>1682.000000</td>\n",
       "      <td>1682.000000</td>\n",
       "      <td>1682.000000</td>\n",
       "      <td>1682.000000</td>\n",
       "    </tr>\n",
       "    <tr>\n",
       "      <th>mean</th>\n",
       "      <td>NaN</td>\n",
       "      <td>0.001189</td>\n",
       "      <td>0.149227</td>\n",
       "      <td>0.080262</td>\n",
       "      <td>0.024970</td>\n",
       "      <td>0.072533</td>\n",
       "      <td>0.300238</td>\n",
       "      <td>0.064804</td>\n",
       "      <td>0.029727</td>\n",
       "      <td>0.431034</td>\n",
       "      <td>0.01308</td>\n",
       "      <td>0.014269</td>\n",
       "      <td>0.054697</td>\n",
       "      <td>0.033294</td>\n",
       "      <td>0.036266</td>\n",
       "      <td>0.146849</td>\n",
       "      <td>0.060048</td>\n",
       "      <td>0.149227</td>\n",
       "      <td>0.042212</td>\n",
       "      <td>0.016052</td>\n",
       "    </tr>\n",
       "    <tr>\n",
       "      <th>std</th>\n",
       "      <td>NaN</td>\n",
       "      <td>0.034473</td>\n",
       "      <td>0.356418</td>\n",
       "      <td>0.271779</td>\n",
       "      <td>0.156081</td>\n",
       "      <td>0.259445</td>\n",
       "      <td>0.458498</td>\n",
       "      <td>0.246253</td>\n",
       "      <td>0.169882</td>\n",
       "      <td>0.495368</td>\n",
       "      <td>0.11365</td>\n",
       "      <td>0.118632</td>\n",
       "      <td>0.227455</td>\n",
       "      <td>0.179456</td>\n",
       "      <td>0.187008</td>\n",
       "      <td>0.354061</td>\n",
       "      <td>0.237646</td>\n",
       "      <td>0.356418</td>\n",
       "      <td>0.201131</td>\n",
       "      <td>0.125714</td>\n",
       "    </tr>\n",
       "    <tr>\n",
       "      <th>min</th>\n",
       "      <td>NaN</td>\n",
       "      <td>0.000000</td>\n",
       "      <td>0.000000</td>\n",
       "      <td>0.000000</td>\n",
       "      <td>0.000000</td>\n",
       "      <td>0.000000</td>\n",
       "      <td>0.000000</td>\n",
       "      <td>0.000000</td>\n",
       "      <td>0.000000</td>\n",
       "      <td>0.000000</td>\n",
       "      <td>0.00000</td>\n",
       "      <td>0.000000</td>\n",
       "      <td>0.000000</td>\n",
       "      <td>0.000000</td>\n",
       "      <td>0.000000</td>\n",
       "      <td>0.000000</td>\n",
       "      <td>0.000000</td>\n",
       "      <td>0.000000</td>\n",
       "      <td>0.000000</td>\n",
       "      <td>0.000000</td>\n",
       "    </tr>\n",
       "    <tr>\n",
       "      <th>25%</th>\n",
       "      <td>NaN</td>\n",
       "      <td>0.000000</td>\n",
       "      <td>0.000000</td>\n",
       "      <td>0.000000</td>\n",
       "      <td>0.000000</td>\n",
       "      <td>0.000000</td>\n",
       "      <td>0.000000</td>\n",
       "      <td>0.000000</td>\n",
       "      <td>0.000000</td>\n",
       "      <td>0.000000</td>\n",
       "      <td>0.00000</td>\n",
       "      <td>0.000000</td>\n",
       "      <td>0.000000</td>\n",
       "      <td>0.000000</td>\n",
       "      <td>0.000000</td>\n",
       "      <td>0.000000</td>\n",
       "      <td>0.000000</td>\n",
       "      <td>0.000000</td>\n",
       "      <td>0.000000</td>\n",
       "      <td>0.000000</td>\n",
       "    </tr>\n",
       "    <tr>\n",
       "      <th>50%</th>\n",
       "      <td>NaN</td>\n",
       "      <td>0.000000</td>\n",
       "      <td>0.000000</td>\n",
       "      <td>0.000000</td>\n",
       "      <td>0.000000</td>\n",
       "      <td>0.000000</td>\n",
       "      <td>0.000000</td>\n",
       "      <td>0.000000</td>\n",
       "      <td>0.000000</td>\n",
       "      <td>0.000000</td>\n",
       "      <td>0.00000</td>\n",
       "      <td>0.000000</td>\n",
       "      <td>0.000000</td>\n",
       "      <td>0.000000</td>\n",
       "      <td>0.000000</td>\n",
       "      <td>0.000000</td>\n",
       "      <td>0.000000</td>\n",
       "      <td>0.000000</td>\n",
       "      <td>0.000000</td>\n",
       "      <td>0.000000</td>\n",
       "    </tr>\n",
       "    <tr>\n",
       "      <th>75%</th>\n",
       "      <td>NaN</td>\n",
       "      <td>0.000000</td>\n",
       "      <td>0.000000</td>\n",
       "      <td>0.000000</td>\n",
       "      <td>0.000000</td>\n",
       "      <td>0.000000</td>\n",
       "      <td>1.000000</td>\n",
       "      <td>0.000000</td>\n",
       "      <td>0.000000</td>\n",
       "      <td>1.000000</td>\n",
       "      <td>0.00000</td>\n",
       "      <td>0.000000</td>\n",
       "      <td>0.000000</td>\n",
       "      <td>0.000000</td>\n",
       "      <td>0.000000</td>\n",
       "      <td>0.000000</td>\n",
       "      <td>0.000000</td>\n",
       "      <td>0.000000</td>\n",
       "      <td>0.000000</td>\n",
       "      <td>0.000000</td>\n",
       "    </tr>\n",
       "    <tr>\n",
       "      <th>max</th>\n",
       "      <td>NaN</td>\n",
       "      <td>1.000000</td>\n",
       "      <td>1.000000</td>\n",
       "      <td>1.000000</td>\n",
       "      <td>1.000000</td>\n",
       "      <td>1.000000</td>\n",
       "      <td>1.000000</td>\n",
       "      <td>1.000000</td>\n",
       "      <td>1.000000</td>\n",
       "      <td>1.000000</td>\n",
       "      <td>1.00000</td>\n",
       "      <td>1.000000</td>\n",
       "      <td>1.000000</td>\n",
       "      <td>1.000000</td>\n",
       "      <td>1.000000</td>\n",
       "      <td>1.000000</td>\n",
       "      <td>1.000000</td>\n",
       "      <td>1.000000</td>\n",
       "      <td>1.000000</td>\n",
       "      <td>1.000000</td>\n",
       "    </tr>\n",
       "  </tbody>\n",
       "</table>\n",
       "</div>"
      ],
      "text/plain": [
       "       video_release_date      unknown       Action    Adventure    Animation  \\\n",
       "count                 0.0  1682.000000  1682.000000  1682.000000  1682.000000   \n",
       "mean                  NaN     0.001189     0.149227     0.080262     0.024970   \n",
       "std                   NaN     0.034473     0.356418     0.271779     0.156081   \n",
       "min                   NaN     0.000000     0.000000     0.000000     0.000000   \n",
       "25%                   NaN     0.000000     0.000000     0.000000     0.000000   \n",
       "50%                   NaN     0.000000     0.000000     0.000000     0.000000   \n",
       "75%                   NaN     0.000000     0.000000     0.000000     0.000000   \n",
       "max                   NaN     1.000000     1.000000     1.000000     1.000000   \n",
       "\n",
       "          Children       Comedy        Crime  Documentary        Drama  \\\n",
       "count  1682.000000  1682.000000  1682.000000  1682.000000  1682.000000   \n",
       "mean      0.072533     0.300238     0.064804     0.029727     0.431034   \n",
       "std       0.259445     0.458498     0.246253     0.169882     0.495368   \n",
       "min       0.000000     0.000000     0.000000     0.000000     0.000000   \n",
       "25%       0.000000     0.000000     0.000000     0.000000     0.000000   \n",
       "50%       0.000000     0.000000     0.000000     0.000000     0.000000   \n",
       "75%       0.000000     1.000000     0.000000     0.000000     1.000000   \n",
       "max       1.000000     1.000000     1.000000     1.000000     1.000000   \n",
       "\n",
       "          Fantasy    Film-Noir       Horror      Musical      Mystery  \\\n",
       "count  1682.00000  1682.000000  1682.000000  1682.000000  1682.000000   \n",
       "mean      0.01308     0.014269     0.054697     0.033294     0.036266   \n",
       "std       0.11365     0.118632     0.227455     0.179456     0.187008   \n",
       "min       0.00000     0.000000     0.000000     0.000000     0.000000   \n",
       "25%       0.00000     0.000000     0.000000     0.000000     0.000000   \n",
       "50%       0.00000     0.000000     0.000000     0.000000     0.000000   \n",
       "75%       0.00000     0.000000     0.000000     0.000000     0.000000   \n",
       "max       1.00000     1.000000     1.000000     1.000000     1.000000   \n",
       "\n",
       "           Romance       Sci-Fi     Thriller          War      Western  \n",
       "count  1682.000000  1682.000000  1682.000000  1682.000000  1682.000000  \n",
       "mean      0.146849     0.060048     0.149227     0.042212     0.016052  \n",
       "std       0.354061     0.237646     0.356418     0.201131     0.125714  \n",
       "min       0.000000     0.000000     0.000000     0.000000     0.000000  \n",
       "25%       0.000000     0.000000     0.000000     0.000000     0.000000  \n",
       "50%       0.000000     0.000000     0.000000     0.000000     0.000000  \n",
       "75%       0.000000     0.000000     0.000000     0.000000     0.000000  \n",
       "max       1.000000     1.000000     1.000000     1.000000     1.000000  "
      ]
     },
     "execution_count": 12,
     "metadata": {},
     "output_type": "execute_result"
    }
   ],
   "source": [
    "info_file.describe()"
   ]
  },
  {
   "cell_type": "markdown",
   "metadata": {
    "id": "X4Gm60h1XffL"
   },
   "source": [
    "Con las funciones `info` y `describe` de ***pandas*** es una buena forma de analizar a grandes rasgos un dataset."
   ]
  },
  {
   "cell_type": "markdown",
   "metadata": {
    "id": "jqXxj773Foo8"
   },
   "source": [
    "\n",
    "Para ver la información de más de una película, se realizan los siguientes pasos\n",
    "1. Determinar los índices de las películas\n",
    "2. Pedir a `info_file` las columnas\n",
    "3. (adicional) Indicar alguna columna en específico"
   ]
  },
  {
   "cell_type": "markdown",
   "metadata": {
    "id": "VnX9yeFcCpu7"
   },
   "source": [
    "Por ejemplo, veamos cuáles fueron las $4$ películas que vio el usuario $310$"
   ]
  },
  {
   "cell_type": "code",
   "execution_count": 13,
   "metadata": {
    "colab": {
     "base_uri": "https://localhost:8080/",
     "height": 461
    },
    "id": "3JsjHzBFGqQI",
    "outputId": "7274ec85-6f97-431c-a8c9-db2e5b9af0d5"
   },
   "outputs": [
    {
     "data": {
      "text/html": [
       "<div>\n",
       "<style scoped>\n",
       "    .dataframe tbody tr th:only-of-type {\n",
       "        vertical-align: middle;\n",
       "    }\n",
       "\n",
       "    .dataframe tbody tr th {\n",
       "        vertical-align: top;\n",
       "    }\n",
       "\n",
       "    .dataframe thead th {\n",
       "        text-align: right;\n",
       "    }\n",
       "</style>\n",
       "<table border=\"1\" class=\"dataframe\">\n",
       "  <thead>\n",
       "    <tr style=\"text-align: right;\">\n",
       "      <th></th>\n",
       "      <th>title</th>\n",
       "      <th>release_date</th>\n",
       "      <th>video_release_date</th>\n",
       "      <th>IMDb_URL</th>\n",
       "      <th>unknown</th>\n",
       "      <th>Action</th>\n",
       "      <th>Adventure</th>\n",
       "      <th>Animation</th>\n",
       "      <th>Children</th>\n",
       "      <th>Comedy</th>\n",
       "      <th>Crime</th>\n",
       "      <th>Documentary</th>\n",
       "      <th>Drama</th>\n",
       "      <th>Fantasy</th>\n",
       "      <th>Film-Noir</th>\n",
       "      <th>Horror</th>\n",
       "      <th>Musical</th>\n",
       "      <th>Mystery</th>\n",
       "      <th>Romance</th>\n",
       "      <th>Sci-Fi</th>\n",
       "      <th>Thriller</th>\n",
       "      <th>War</th>\n",
       "      <th>Western</th>\n",
       "    </tr>\n",
       "    <tr>\n",
       "      <th>movieid</th>\n",
       "      <th></th>\n",
       "      <th></th>\n",
       "      <th></th>\n",
       "      <th></th>\n",
       "      <th></th>\n",
       "      <th></th>\n",
       "      <th></th>\n",
       "      <th></th>\n",
       "      <th></th>\n",
       "      <th></th>\n",
       "      <th></th>\n",
       "      <th></th>\n",
       "      <th></th>\n",
       "      <th></th>\n",
       "      <th></th>\n",
       "      <th></th>\n",
       "      <th></th>\n",
       "      <th></th>\n",
       "      <th></th>\n",
       "      <th></th>\n",
       "      <th></th>\n",
       "      <th></th>\n",
       "      <th></th>\n",
       "    </tr>\n",
       "  </thead>\n",
       "  <tbody>\n",
       "    <tr>\n",
       "      <th>50</th>\n",
       "      <td>Star Wars (1977)</td>\n",
       "      <td>01-Jan-1977</td>\n",
       "      <td>NaN</td>\n",
       "      <td>http://us.imdb.com/M/title-exact?Star%20Wars%2...</td>\n",
       "      <td>0</td>\n",
       "      <td>1</td>\n",
       "      <td>1</td>\n",
       "      <td>0</td>\n",
       "      <td>0</td>\n",
       "      <td>0</td>\n",
       "      <td>0</td>\n",
       "      <td>0</td>\n",
       "      <td>0</td>\n",
       "      <td>0</td>\n",
       "      <td>0</td>\n",
       "      <td>0</td>\n",
       "      <td>0</td>\n",
       "      <td>0</td>\n",
       "      <td>1</td>\n",
       "      <td>1</td>\n",
       "      <td>0</td>\n",
       "      <td>1</td>\n",
       "      <td>0</td>\n",
       "    </tr>\n",
       "    <tr>\n",
       "      <th>294</th>\n",
       "      <td>Liar Liar (1997)</td>\n",
       "      <td>21-Mar-1997</td>\n",
       "      <td>NaN</td>\n",
       "      <td>http://us.imdb.com/Title?Liar+Liar+(1997)</td>\n",
       "      <td>0</td>\n",
       "      <td>0</td>\n",
       "      <td>0</td>\n",
       "      <td>0</td>\n",
       "      <td>0</td>\n",
       "      <td>1</td>\n",
       "      <td>0</td>\n",
       "      <td>0</td>\n",
       "      <td>0</td>\n",
       "      <td>0</td>\n",
       "      <td>0</td>\n",
       "      <td>0</td>\n",
       "      <td>0</td>\n",
       "      <td>0</td>\n",
       "      <td>0</td>\n",
       "      <td>0</td>\n",
       "      <td>0</td>\n",
       "      <td>0</td>\n",
       "      <td>0</td>\n",
       "    </tr>\n",
       "    <tr>\n",
       "      <th>1142</th>\n",
       "      <td>When We Were Kings (1996)</td>\n",
       "      <td>14-Feb-1997</td>\n",
       "      <td>NaN</td>\n",
       "      <td>http://us.imdb.com/M/title-exact?When%20We%20W...</td>\n",
       "      <td>0</td>\n",
       "      <td>0</td>\n",
       "      <td>0</td>\n",
       "      <td>0</td>\n",
       "      <td>0</td>\n",
       "      <td>0</td>\n",
       "      <td>0</td>\n",
       "      <td>1</td>\n",
       "      <td>0</td>\n",
       "      <td>0</td>\n",
       "      <td>0</td>\n",
       "      <td>0</td>\n",
       "      <td>0</td>\n",
       "      <td>0</td>\n",
       "      <td>0</td>\n",
       "      <td>0</td>\n",
       "      <td>0</td>\n",
       "      <td>0</td>\n",
       "      <td>0</td>\n",
       "    </tr>\n",
       "    <tr>\n",
       "      <th>1386</th>\n",
       "      <td>Tetsuo II: Body Hammer (1992)</td>\n",
       "      <td>20-Jun-1997</td>\n",
       "      <td>NaN</td>\n",
       "      <td>http://us.imdb.com/M/title-exact?Tetsuo+II%3A+...</td>\n",
       "      <td>0</td>\n",
       "      <td>0</td>\n",
       "      <td>0</td>\n",
       "      <td>0</td>\n",
       "      <td>0</td>\n",
       "      <td>0</td>\n",
       "      <td>0</td>\n",
       "      <td>0</td>\n",
       "      <td>0</td>\n",
       "      <td>0</td>\n",
       "      <td>0</td>\n",
       "      <td>0</td>\n",
       "      <td>0</td>\n",
       "      <td>0</td>\n",
       "      <td>0</td>\n",
       "      <td>1</td>\n",
       "      <td>0</td>\n",
       "      <td>0</td>\n",
       "      <td>0</td>\n",
       "    </tr>\n",
       "  </tbody>\n",
       "</table>\n",
       "</div>"
      ],
      "text/plain": [
       "                                 title release_date  video_release_date  \\\n",
       "movieid                                                                   \n",
       "50                    Star Wars (1977)  01-Jan-1977                 NaN   \n",
       "294                   Liar Liar (1997)  21-Mar-1997                 NaN   \n",
       "1142         When We Were Kings (1996)  14-Feb-1997                 NaN   \n",
       "1386     Tetsuo II: Body Hammer (1992)  20-Jun-1997                 NaN   \n",
       "\n",
       "                                                  IMDb_URL  unknown  Action  \\\n",
       "movieid                                                                       \n",
       "50       http://us.imdb.com/M/title-exact?Star%20Wars%2...        0       1   \n",
       "294              http://us.imdb.com/Title?Liar+Liar+(1997)        0       0   \n",
       "1142     http://us.imdb.com/M/title-exact?When%20We%20W...        0       0   \n",
       "1386     http://us.imdb.com/M/title-exact?Tetsuo+II%3A+...        0       0   \n",
       "\n",
       "         Adventure  Animation  Children  Comedy  Crime  Documentary  Drama  \\\n",
       "movieid                                                                      \n",
       "50               1          0         0       0      0            0      0   \n",
       "294              0          0         0       1      0            0      0   \n",
       "1142             0          0         0       0      0            1      0   \n",
       "1386             0          0         0       0      0            0      0   \n",
       "\n",
       "         Fantasy  Film-Noir  Horror  Musical  Mystery  Romance  Sci-Fi  \\\n",
       "movieid                                                                  \n",
       "50             0          0       0        0        0        1       1   \n",
       "294            0          0       0        0        0        0       0   \n",
       "1142           0          0       0        0        0        0       0   \n",
       "1386           0          0       0        0        0        0       1   \n",
       "\n",
       "         Thriller  War  Western  \n",
       "movieid                          \n",
       "50              0    1        0  \n",
       "294             0    0        0  \n",
       "1142            0    0        0  \n",
       "1386            0    0        0  "
      ]
     },
     "execution_count": 13,
     "metadata": {},
     "output_type": "execute_result"
    }
   ],
   "source": [
    "# Ejemplo de cómo visualizar titulos de peliculas en base a sus IDs\n",
    "\n",
    "# Paso 1\n",
    "pelis = [50,294,1142,1386]\n",
    "# Paso 2\n",
    "info_file.loc[pelis]"
   ]
  },
  {
   "cell_type": "markdown",
   "metadata": {
    "id": "2YDbWo18GwAT"
   },
   "source": [
    "Para éste código:\n",
    "1. `pelis = [50,294,1142,1386]` indica que queremos imprimir los detalles de las películas con estos índices. (En este caso, el índice corresponde al movieid)\n",
    "2. `info_file.loc[pelis]` el método `loc` permite acceder a esas columna\n",
    "A continuación se verá como obtener una columna en específico. Para esto solo es necesario agregar corchetes y el nombre de la columna"
   ]
  },
  {
   "cell_type": "code",
   "execution_count": 14,
   "metadata": {
    "colab": {
     "base_uri": "https://localhost:8080/"
    },
    "id": "gZZ3g-n7G9EY",
    "outputId": "acb0c1ea-ef52-4005-f826-2edb37e8d50d"
   },
   "outputs": [
    {
     "data": {
      "text/plain": [
       "movieid\n",
       "50                   Star Wars (1977)\n",
       "294                  Liar Liar (1997)\n",
       "1142        When We Were Kings (1996)\n",
       "1386    Tetsuo II: Body Hammer (1992)\n",
       "Name: title, dtype: object"
      ]
     },
     "execution_count": 14,
     "metadata": {},
     "output_type": "execute_result"
    }
   ],
   "source": [
    "# Paso 3, acceder solo a columnas específicas\n",
    "info_file.loc[pelis]['title']"
   ]
  },
  {
   "cell_type": "markdown",
   "metadata": {
    "id": "P3K5VPZoGSYX"
   },
   "source": [
    "## Preparar entorno\n",
    "Para generar los modelos recomendadores, utilizaremos la librería [***Surprise***](https://github.com/NicolasHug/Surprise) desarrollada por Nicolas Hug."
   ]
  },
  {
   "cell_type": "code",
   "execution_count": 15,
   "metadata": {
    "colab": {
     "base_uri": "https://localhost:8080/"
    },
    "id": "nbtrMHvG6uIt",
    "outputId": "96c0325a-bb36-4f84-f702-0b2d716b1743"
   },
   "outputs": [
    {
     "name": "stdout",
     "output_type": "stream",
     "text": [
      "Collecting scikit-surprise==1.1.3\n",
      "  Downloading scikit-surprise-1.1.3.tar.gz (771 kB)\n",
      "\u001b[2K     \u001b[90m━━━━━━━━━━━━━━━━━━━━━━━━━━━━━━━━━━━━━━\u001b[0m \u001b[32m772.0/772.0 kB\u001b[0m \u001b[31m18.9 MB/s\u001b[0m eta \u001b[36m0:00:00\u001b[0m00:01\u001b[0m\n",
      "\u001b[?25h  Preparing metadata (setup.py) ... \u001b[?25ldone\n",
      "\u001b[?25hRequirement already satisfied: joblib>=1.0.0 in /opt/conda/lib/python3.11/site-packages (from scikit-surprise==1.1.3) (1.3.2)\n",
      "Requirement already satisfied: numpy>=1.17.3 in /opt/conda/lib/python3.11/site-packages (from scikit-surprise==1.1.3) (1.24.4)\n",
      "Requirement already satisfied: scipy>=1.3.2 in /opt/conda/lib/python3.11/site-packages (from scikit-surprise==1.1.3) (1.11.1)\n",
      "Building wheels for collected packages: scikit-surprise\n",
      "  Building wheel for scikit-surprise (setup.py) ... \u001b[?25ldone\n",
      "\u001b[?25h  Created wheel for scikit-surprise: filename=scikit_surprise-1.1.3-cp311-cp311-linux_x86_64.whl size=1368643 sha256=e44fe0e304818c9629a43359d9fb42cb28b3af6fd483563df63081c8345172ab\n",
      "  Stored in directory: /home/jovyan/.cache/pip/wheels/f4/2b/26/e2a5eae55d3b7688995e66abe7f40473aac6c95ddd8ee174a8\n",
      "Successfully built scikit-surprise\n",
      "Installing collected packages: scikit-surprise\n",
      "Successfully installed scikit-surprise-1.1.3\n"
     ]
    }
   ],
   "source": [
    "!pip install scikit-surprise==1.1.3"
   ]
  },
  {
   "cell_type": "markdown",
   "metadata": {
    "id": "8xjAMaNz-4dO"
   },
   "source": [
    "Luego necesitamos importar Surprise y numpy, librerías que utilizaremos en esta tarea"
   ]
  },
  {
   "cell_type": "code",
   "execution_count": 16,
   "metadata": {
    "id": "nv7g1e_i6wBY"
   },
   "outputs": [
    {
     "name": "stdout",
     "output_type": "stream",
     "text": [
      "1.1.3\n"
     ]
    }
   ],
   "source": [
    "import surprise\n",
    "print(surprise.__version__)\n",
    "from surprise.model_selection import PredefinedKFold\n",
    "import numpy as np\n",
    "from collections import defaultdict"
   ]
  },
  {
   "cell_type": "markdown",
   "metadata": {
    "id": "2e0ZeZXzMhU3"
   },
   "source": [
    "## UserKNN\n",
    "\n",
    "Probar método de recomendación basado en ***UserKNN***"
   ]
  },
  {
   "cell_type": "markdown",
   "metadata": {
    "id": "OUf74KsDM9Z0"
   },
   "source": [
    "Antes de generar el recomendador, hay que convertir los datos a un formato que sea soportado por la librería Surprise. Para esto, utilizamos la función Reader que convierte una base de datos de un archivo al formato deseado."
   ]
  },
  {
   "cell_type": "code",
   "execution_count": 17,
   "metadata": {
    "id": "ePh4orfJNe12"
   },
   "outputs": [],
   "source": [
    "reader = surprise.Reader(line_format='user item rating timestamp', sep='\\t', rating_scale=(1,5))\n",
    "data = surprise.Dataset.load_from_folds([(train_dir, test_dir)], reader=reader)\n",
    "pkf = PredefinedKFold()\n",
    "trainset, testset = next(pkf.split(data))"
   ]
  },
  {
   "cell_type": "markdown",
   "metadata": {
    "id": "0GDTGMWENkQ8"
   },
   "source": [
    "Se puede ver que al objeto Reader le estamos entregando:\n",
    "* ***line_format:*** El orden de las columnas que representan cada elemento del dataset (debe tener el formato que se muestra y estar separadas por espacios).\n",
    "* ***sep:*** El delimitador del archivo, en este caso las columnas estan separadas por un tab (\\t)\n",
    "* ***rating_scale:*** La escala usada en los ratings (en este caso los ratings van del $1$ al $5$)"
   ]
  },
  {
   "cell_type": "markdown",
   "metadata": {
    "id": "DgzvLQunO13c"
   },
   "source": [
    "Luego, usamos el módulo Dataset de Surprise para usar el objeto Reader para leer los datos de un archivo. En este caso, ya que tenemos el set de entrenamiento y testeo en archivos separados, usamos la función ***load_from_folds*** que recibe una lista de tuplas con los nombres de los archivos de entrenamiento y testeo. Existen también funciones que permiten leer todos los items de un solo archivo, cargar datasets predefinidos o importarlos desde un dataframe de Pandas. Pueden leer estas aplicaciones en la [_documentación_](https://surprise.readthedocs.io/en/stable/dataset.html#surprise.dataset.Dataset.load_builtin).\n",
    "\n",
    "Finalmente, la función ***pkf.split*** entrega un generador que itera sobre los archivos de entrenamiento y testeo que definimos en la lista que le entregamos a ***load_from_folds***. En este caso, como solo contamos con un archivo de entrenamiento y uno de testeo, invocamos la función ***next*** para definir los datasets como el primer output del generador."
   ]
  },
  {
   "cell_type": "markdown",
   "metadata": {
    "id": "KtIh8S9JQCUv"
   },
   "source": [
    "Finalmente declaramos el objeto recomendador que vamos a usar:"
   ]
  },
  {
   "cell_type": "code",
   "execution_count": 18,
   "metadata": {
    "id": "ONuL2UkwaqPH"
   },
   "outputs": [],
   "source": [
    "# Declarar el objeto recomendador UserKnn\n",
    "myUserKnn = surprise.KNNBasic(k=7, sim_options={'name': 'pearson', 'user_based': True})"
   ]
  },
  {
   "cell_type": "markdown",
   "metadata": {
    "id": "yA1wZymAZtjR"
   },
   "source": [
    "Se puede ver que al objeto recomendador le estamos entregando:\n",
    "* ***k***: La cantidad de vecinos que se considerarán.\n",
    "* ***sim_options:*** Diccionario que contiene los detalles de la función de similaridad que se usará. Dentro de este, definimos:\n",
    "  * ***name:*** La función de similitud. Puede ser Pearson, Cosine, etc.\n",
    "  * ***user_based:*** Booleano que define si el método será basado en usuarios o items."
   ]
  },
  {
   "cell_type": "code",
   "execution_count": 19,
   "metadata": {
    "colab": {
     "base_uri": "https://localhost:8080/"
    },
    "id": "uhjC9eRYaqPK",
    "outputId": "99976b50-299e-4ec3-b05b-9d25397cd3d0"
   },
   "outputs": [
    {
     "name": "stdout",
     "output_type": "stream",
     "text": [
      "Computing the pearson similarity matrix...\n",
      "Done computing similarity matrix.\n"
     ]
    },
    {
     "data": {
      "text/plain": [
       "<surprise.prediction_algorithms.knns.KNNBasic at 0x7f2fbaf9e8d0>"
      ]
     },
     "execution_count": 19,
     "metadata": {},
     "output_type": "execute_result"
    }
   ],
   "source": [
    "# Entrenamos el modelo con los datos existentes usando la función fit del objeto recomendador.\n",
    "\n",
    "myUserKnn.fit(trainset)"
   ]
  },
  {
   "cell_type": "markdown",
   "metadata": {
    "id": "lEx2TVc1B5wk"
   },
   "source": [
    "## Predecir el rating que le dará un usuario a un cierto item"
   ]
  },
  {
   "cell_type": "markdown",
   "metadata": {
    "id": "I-iqQvAdTTCP"
   },
   "source": [
    "Según el modelo de recomendación UserKnn, qué rating le dará el usuario 457 al item 37?\n",
    "\n"
   ]
  },
  {
   "cell_type": "code",
   "execution_count": 20,
   "metadata": {
    "colab": {
     "base_uri": "https://localhost:8080/"
    },
    "id": "rGrmht_6JfFG",
    "outputId": "beaa26a2-7f00-4090-d883-5731ce03b519"
   },
   "outputs": [
    {
     "data": {
      "text/plain": [
       "Prediction(uid='457', iid='37', r_ui=None, est=2.4420114287810444, details={'actual_k': 6, 'was_impossible': False})"
      ]
     },
     "execution_count": 20,
     "metadata": {},
     "output_type": "execute_result"
    }
   ],
   "source": [
    "myUserKnn.predict(\"457\", \"37\")"
   ]
  },
  {
   "cell_type": "markdown",
   "metadata": {
    "id": "fMgObtdvbjfN"
   },
   "source": [
    "El valor de `est` es la estimación que el modelo hace para el usuario y objeto correspondiente. En este caso, el modelo predice que el usuario $457$ le daría una calificación de $2.44$ al item $37$.\n",
    "\n",
    "El valor de `r_ui` es el valor real que el usuario le dio al objeto. Si en el set de entrenamiento, existiera un registro de la calificación que le dio el usuario $457$ al item $37$, esta se vería reflejada en ese valor, el cual no necesariamente será el mismo que el valor predicho por el agente. En eeste caso, como el usuario $457$ no ha visto el item $37$, este valor es `None`"
   ]
  },
  {
   "cell_type": "markdown",
   "metadata": {
    "id": "dIVXNsQ8CCJV"
   },
   "source": [
    "## Generar una lista de recomendaciones para un usuario"
   ]
  },
  {
   "cell_type": "markdown",
   "metadata": {
    "id": "Wp-2JLSBJhPv"
   },
   "source": [
    "Generar lista de 10 recomendaciones para el usuario con ID 457. Indique qué películas son con todas sus columnas. (Recuerde el comando `loc` vista anteriormete)"
   ]
  },
  {
   "cell_type": "markdown",
   "metadata": {
    "id": "0iOjLv3-FJNv"
   },
   "source": [
    "Para obtener las predicciones de una lista de elementos, se debe llamar a la función ***.test()*** de el objeto recomendador. Sin embargo, esta función solo recibe objetos del tipo testset de la misma librería.\n",
    "\n",
    "Para esto, se usa la función ***.build_anti_testset()*** a partir de un objeto trainset que entrega un objeto ***testset*** con todos los pares usuario-item que no tengan un valor fijado en el trainset."
   ]
  },
  {
   "cell_type": "code",
   "execution_count": 21,
   "metadata": {
    "id": "xgco7a1tFHaY"
   },
   "outputs": [],
   "source": [
    "a_testset = trainset.build_anti_testset()\n",
    "predictions = myUserKnn.test(a_testset)"
   ]
  },
  {
   "cell_type": "markdown",
   "metadata": {
    "id": "zb-sXkn7GRMd"
   },
   "source": [
    "Luego, usamos la función ***get_top_n*** sugerida en la [documentación](https://surprise.readthedocs.io/en/stable/FAQ.html) la cual recibe todas las predicciones para cada item-usuario desconocido (que tenemos guardado en la variable ***predictions***) y retorna un diccionario que recibe de llave el *id* de un usuario y retorna una lista de tuplas con el id de los items recomendados y su rating predicho."
   ]
  },
  {
   "cell_type": "code",
   "execution_count": 22,
   "metadata": {
    "id": "2td2vyiRvPdL"
   },
   "outputs": [],
   "source": [
    "def get_top_n(predictions, n=10):\n",
    "    \"\"\"Devuelve las N-mejores recomendaciones para cada usuario de un set de predicción.\n",
    "\n",
    "    Args:\n",
    "        predictions(lista de objetos Prediction): La lista de predicción obtenida del método test.\n",
    "        n(int): El número de recomendaciónes por usuario\n",
    "\n",
    "    Returns:\n",
    "    Un diccionario donde las llaves son ids de usuario y los valores son listas de tuplas:\n",
    "        [(item id, rating estimation), ...] de tamaño n.\n",
    "    \"\"\"\n",
    "\n",
    "    # First map the predictions to each user.\n",
    "    top_n = defaultdict(list)\n",
    "    for uid, iid, true_r, est, _ in predictions:\n",
    "        top_n[uid].append((iid, est))\n",
    "\n",
    "    # Then sort the predictions for each user and retrieve the k highest ones.\n",
    "    for uid, user_ratings in top_n.items():\n",
    "        user_ratings.sort(key=lambda x: x[1], reverse=True)\n",
    "        top_n[uid] = user_ratings[:n]\n",
    "\n",
    "    return top_n"
   ]
  },
  {
   "cell_type": "code",
   "execution_count": 23,
   "metadata": {
    "colab": {
     "base_uri": "https://localhost:8080/"
    },
    "id": "otr7zq1jaqPR",
    "outputId": "087ea56f-2f2f-49e4-b374-be42a84d5b32"
   },
   "outputs": [
    {
     "name": "stdout",
     "output_type": "stream",
     "text": [
      "[('1122', 5), ('1201', 5), ('1293', 5), ('1467', 5), ('1347', 5), ('1599', 5), ('1653', 5), ('1656', 5), ('1500', 5), ('1189', 4.999999999999999)]\n"
     ]
    }
   ],
   "source": [
    "top_n = get_top_n(predictions, n=10)\n",
    "print(top_n[\"457\"])"
   ]
  },
  {
   "cell_type": "markdown",
   "metadata": {
    "id": "UVNTYc-jj0JP"
   },
   "source": [
    "Cada item de la lista `top_n` representa una tupla de el ID del ítem recomendado y su calificación predicha."
   ]
  },
  {
   "cell_type": "markdown",
   "metadata": {
    "id": "4_bmhO_2kD3j"
   },
   "source": [
    "Usemos ahora la función `.loc` para analizar las películas recomendadas."
   ]
  },
  {
   "cell_type": "code",
   "execution_count": 24,
   "metadata": {
    "colab": {
     "base_uri": "https://localhost:8080/",
     "height": 926
    },
    "id": "MIDZpLd-5EsQ",
    "outputId": "e088cd53-db1c-4bca-9bba-03e0e12965ce"
   },
   "outputs": [
    {
     "data": {
      "text/html": [
       "<div>\n",
       "<style scoped>\n",
       "    .dataframe tbody tr th:only-of-type {\n",
       "        vertical-align: middle;\n",
       "    }\n",
       "\n",
       "    .dataframe tbody tr th {\n",
       "        vertical-align: top;\n",
       "    }\n",
       "\n",
       "    .dataframe thead th {\n",
       "        text-align: right;\n",
       "    }\n",
       "</style>\n",
       "<table border=\"1\" class=\"dataframe\">\n",
       "  <thead>\n",
       "    <tr style=\"text-align: right;\">\n",
       "      <th></th>\n",
       "      <th>title</th>\n",
       "      <th>release_date</th>\n",
       "      <th>video_release_date</th>\n",
       "      <th>IMDb_URL</th>\n",
       "      <th>unknown</th>\n",
       "      <th>Action</th>\n",
       "      <th>Adventure</th>\n",
       "      <th>Animation</th>\n",
       "      <th>Children</th>\n",
       "      <th>Comedy</th>\n",
       "      <th>Crime</th>\n",
       "      <th>Documentary</th>\n",
       "      <th>Drama</th>\n",
       "      <th>Fantasy</th>\n",
       "      <th>Film-Noir</th>\n",
       "      <th>Horror</th>\n",
       "      <th>Musical</th>\n",
       "      <th>Mystery</th>\n",
       "      <th>Romance</th>\n",
       "      <th>Sci-Fi</th>\n",
       "      <th>Thriller</th>\n",
       "      <th>War</th>\n",
       "      <th>Western</th>\n",
       "    </tr>\n",
       "    <tr>\n",
       "      <th>movieid</th>\n",
       "      <th></th>\n",
       "      <th></th>\n",
       "      <th></th>\n",
       "      <th></th>\n",
       "      <th></th>\n",
       "      <th></th>\n",
       "      <th></th>\n",
       "      <th></th>\n",
       "      <th></th>\n",
       "      <th></th>\n",
       "      <th></th>\n",
       "      <th></th>\n",
       "      <th></th>\n",
       "      <th></th>\n",
       "      <th></th>\n",
       "      <th></th>\n",
       "      <th></th>\n",
       "      <th></th>\n",
       "      <th></th>\n",
       "      <th></th>\n",
       "      <th></th>\n",
       "      <th></th>\n",
       "      <th></th>\n",
       "    </tr>\n",
       "  </thead>\n",
       "  <tbody>\n",
       "    <tr>\n",
       "      <th>1122</th>\n",
       "      <td>They Made Me a Criminal (1939)</td>\n",
       "      <td>01-Jan-1939</td>\n",
       "      <td>NaN</td>\n",
       "      <td>http://us.imdb.com/M/title-exact?They%20Made%2...</td>\n",
       "      <td>0</td>\n",
       "      <td>0</td>\n",
       "      <td>0</td>\n",
       "      <td>0</td>\n",
       "      <td>0</td>\n",
       "      <td>0</td>\n",
       "      <td>1</td>\n",
       "      <td>0</td>\n",
       "      <td>1</td>\n",
       "      <td>0</td>\n",
       "      <td>0</td>\n",
       "      <td>0</td>\n",
       "      <td>0</td>\n",
       "      <td>0</td>\n",
       "      <td>0</td>\n",
       "      <td>0</td>\n",
       "      <td>0</td>\n",
       "      <td>0</td>\n",
       "      <td>0</td>\n",
       "    </tr>\n",
       "    <tr>\n",
       "      <th>1201</th>\n",
       "      <td>Marlene Dietrich: Shadow and Light (1996)</td>\n",
       "      <td>02-Apr-1996</td>\n",
       "      <td>NaN</td>\n",
       "      <td>http://us.imdb.com/M/title-exact?Marlene%20Die...</td>\n",
       "      <td>0</td>\n",
       "      <td>0</td>\n",
       "      <td>0</td>\n",
       "      <td>0</td>\n",
       "      <td>0</td>\n",
       "      <td>0</td>\n",
       "      <td>0</td>\n",
       "      <td>1</td>\n",
       "      <td>0</td>\n",
       "      <td>0</td>\n",
       "      <td>0</td>\n",
       "      <td>0</td>\n",
       "      <td>0</td>\n",
       "      <td>0</td>\n",
       "      <td>0</td>\n",
       "      <td>0</td>\n",
       "      <td>0</td>\n",
       "      <td>0</td>\n",
       "      <td>0</td>\n",
       "    </tr>\n",
       "    <tr>\n",
       "      <th>1293</th>\n",
       "      <td>Star Kid (1997)</td>\n",
       "      <td>16-Jan-1998</td>\n",
       "      <td>NaN</td>\n",
       "      <td>http://us.imdb.com/M/title-exact?imdb-title-12...</td>\n",
       "      <td>0</td>\n",
       "      <td>0</td>\n",
       "      <td>1</td>\n",
       "      <td>0</td>\n",
       "      <td>1</td>\n",
       "      <td>0</td>\n",
       "      <td>0</td>\n",
       "      <td>0</td>\n",
       "      <td>0</td>\n",
       "      <td>1</td>\n",
       "      <td>0</td>\n",
       "      <td>0</td>\n",
       "      <td>0</td>\n",
       "      <td>0</td>\n",
       "      <td>0</td>\n",
       "      <td>1</td>\n",
       "      <td>0</td>\n",
       "      <td>0</td>\n",
       "      <td>0</td>\n",
       "    </tr>\n",
       "    <tr>\n",
       "      <th>1467</th>\n",
       "      <td>Saint of Fort Washington, The (1993)</td>\n",
       "      <td>01-Jan-1993</td>\n",
       "      <td>NaN</td>\n",
       "      <td>http://us.imdb.com/M/title-exact?Saint%20of%20...</td>\n",
       "      <td>0</td>\n",
       "      <td>0</td>\n",
       "      <td>0</td>\n",
       "      <td>0</td>\n",
       "      <td>0</td>\n",
       "      <td>0</td>\n",
       "      <td>0</td>\n",
       "      <td>0</td>\n",
       "      <td>1</td>\n",
       "      <td>0</td>\n",
       "      <td>0</td>\n",
       "      <td>0</td>\n",
       "      <td>0</td>\n",
       "      <td>0</td>\n",
       "      <td>0</td>\n",
       "      <td>0</td>\n",
       "      <td>0</td>\n",
       "      <td>0</td>\n",
       "      <td>0</td>\n",
       "    </tr>\n",
       "    <tr>\n",
       "      <th>1347</th>\n",
       "      <td>Ballad of Narayama, The (Narayama Bushiko) (1958)</td>\n",
       "      <td>01-Jan-1958</td>\n",
       "      <td>NaN</td>\n",
       "      <td>http://us.imdb.com/M/title-exact?Narayama%20Bu...</td>\n",
       "      <td>0</td>\n",
       "      <td>0</td>\n",
       "      <td>0</td>\n",
       "      <td>0</td>\n",
       "      <td>0</td>\n",
       "      <td>0</td>\n",
       "      <td>0</td>\n",
       "      <td>0</td>\n",
       "      <td>1</td>\n",
       "      <td>0</td>\n",
       "      <td>0</td>\n",
       "      <td>0</td>\n",
       "      <td>0</td>\n",
       "      <td>0</td>\n",
       "      <td>0</td>\n",
       "      <td>0</td>\n",
       "      <td>0</td>\n",
       "      <td>0</td>\n",
       "      <td>0</td>\n",
       "    </tr>\n",
       "    <tr>\n",
       "      <th>1599</th>\n",
       "      <td>Someone Else's America (1995)</td>\n",
       "      <td>10-May-1996</td>\n",
       "      <td>NaN</td>\n",
       "      <td>http://us.imdb.com/M/title-exact?Someone%20Els...</td>\n",
       "      <td>0</td>\n",
       "      <td>0</td>\n",
       "      <td>0</td>\n",
       "      <td>0</td>\n",
       "      <td>0</td>\n",
       "      <td>0</td>\n",
       "      <td>0</td>\n",
       "      <td>0</td>\n",
       "      <td>1</td>\n",
       "      <td>0</td>\n",
       "      <td>0</td>\n",
       "      <td>0</td>\n",
       "      <td>0</td>\n",
       "      <td>0</td>\n",
       "      <td>0</td>\n",
       "      <td>0</td>\n",
       "      <td>0</td>\n",
       "      <td>0</td>\n",
       "      <td>0</td>\n",
       "    </tr>\n",
       "    <tr>\n",
       "      <th>1653</th>\n",
       "      <td>Entertaining Angels: The Dorothy Day Story (1996)</td>\n",
       "      <td>27-Sep-1996</td>\n",
       "      <td>NaN</td>\n",
       "      <td>http://us.imdb.com/M/title-exact?Entertaining%...</td>\n",
       "      <td>0</td>\n",
       "      <td>0</td>\n",
       "      <td>0</td>\n",
       "      <td>0</td>\n",
       "      <td>0</td>\n",
       "      <td>0</td>\n",
       "      <td>0</td>\n",
       "      <td>0</td>\n",
       "      <td>1</td>\n",
       "      <td>0</td>\n",
       "      <td>0</td>\n",
       "      <td>0</td>\n",
       "      <td>0</td>\n",
       "      <td>0</td>\n",
       "      <td>0</td>\n",
       "      <td>0</td>\n",
       "      <td>0</td>\n",
       "      <td>0</td>\n",
       "      <td>0</td>\n",
       "    </tr>\n",
       "    <tr>\n",
       "      <th>1656</th>\n",
       "      <td>Little City (1998)</td>\n",
       "      <td>20-Feb-1998</td>\n",
       "      <td>NaN</td>\n",
       "      <td>http://us.imdb.com/M/title-exact?Little+City+(...</td>\n",
       "      <td>0</td>\n",
       "      <td>0</td>\n",
       "      <td>0</td>\n",
       "      <td>0</td>\n",
       "      <td>0</td>\n",
       "      <td>1</td>\n",
       "      <td>0</td>\n",
       "      <td>0</td>\n",
       "      <td>0</td>\n",
       "      <td>0</td>\n",
       "      <td>0</td>\n",
       "      <td>0</td>\n",
       "      <td>0</td>\n",
       "      <td>0</td>\n",
       "      <td>1</td>\n",
       "      <td>0</td>\n",
       "      <td>0</td>\n",
       "      <td>0</td>\n",
       "      <td>0</td>\n",
       "    </tr>\n",
       "    <tr>\n",
       "      <th>1500</th>\n",
       "      <td>Santa with Muscles (1996)</td>\n",
       "      <td>08-Nov-1996</td>\n",
       "      <td>NaN</td>\n",
       "      <td>http://us.imdb.com/M/title-exact?Santa%20with%...</td>\n",
       "      <td>0</td>\n",
       "      <td>0</td>\n",
       "      <td>0</td>\n",
       "      <td>0</td>\n",
       "      <td>0</td>\n",
       "      <td>1</td>\n",
       "      <td>0</td>\n",
       "      <td>0</td>\n",
       "      <td>0</td>\n",
       "      <td>0</td>\n",
       "      <td>0</td>\n",
       "      <td>0</td>\n",
       "      <td>0</td>\n",
       "      <td>0</td>\n",
       "      <td>0</td>\n",
       "      <td>0</td>\n",
       "      <td>0</td>\n",
       "      <td>0</td>\n",
       "      <td>0</td>\n",
       "    </tr>\n",
       "    <tr>\n",
       "      <th>1189</th>\n",
       "      <td>Prefontaine (1997)</td>\n",
       "      <td>24-Jan-1997</td>\n",
       "      <td>NaN</td>\n",
       "      <td>http://us.imdb.com/M/title-exact?Prefontaine%2...</td>\n",
       "      <td>0</td>\n",
       "      <td>0</td>\n",
       "      <td>0</td>\n",
       "      <td>0</td>\n",
       "      <td>0</td>\n",
       "      <td>0</td>\n",
       "      <td>0</td>\n",
       "      <td>0</td>\n",
       "      <td>1</td>\n",
       "      <td>0</td>\n",
       "      <td>0</td>\n",
       "      <td>0</td>\n",
       "      <td>0</td>\n",
       "      <td>0</td>\n",
       "      <td>0</td>\n",
       "      <td>0</td>\n",
       "      <td>0</td>\n",
       "      <td>0</td>\n",
       "      <td>0</td>\n",
       "    </tr>\n",
       "  </tbody>\n",
       "</table>\n",
       "</div>"
      ],
      "text/plain": [
       "                                                     title release_date  \\\n",
       "movieid                                                                   \n",
       "1122                        They Made Me a Criminal (1939)  01-Jan-1939   \n",
       "1201            Marlene Dietrich: Shadow and Light (1996)   02-Apr-1996   \n",
       "1293                                       Star Kid (1997)  16-Jan-1998   \n",
       "1467                  Saint of Fort Washington, The (1993)  01-Jan-1993   \n",
       "1347     Ballad of Narayama, The (Narayama Bushiko) (1958)  01-Jan-1958   \n",
       "1599                         Someone Else's America (1995)  10-May-1996   \n",
       "1653     Entertaining Angels: The Dorothy Day Story (1996)  27-Sep-1996   \n",
       "1656                                    Little City (1998)  20-Feb-1998   \n",
       "1500                             Santa with Muscles (1996)  08-Nov-1996   \n",
       "1189                                    Prefontaine (1997)  24-Jan-1997   \n",
       "\n",
       "         video_release_date  \\\n",
       "movieid                       \n",
       "1122                    NaN   \n",
       "1201                    NaN   \n",
       "1293                    NaN   \n",
       "1467                    NaN   \n",
       "1347                    NaN   \n",
       "1599                    NaN   \n",
       "1653                    NaN   \n",
       "1656                    NaN   \n",
       "1500                    NaN   \n",
       "1189                    NaN   \n",
       "\n",
       "                                                  IMDb_URL  unknown  Action  \\\n",
       "movieid                                                                       \n",
       "1122     http://us.imdb.com/M/title-exact?They%20Made%2...        0       0   \n",
       "1201     http://us.imdb.com/M/title-exact?Marlene%20Die...        0       0   \n",
       "1293     http://us.imdb.com/M/title-exact?imdb-title-12...        0       0   \n",
       "1467     http://us.imdb.com/M/title-exact?Saint%20of%20...        0       0   \n",
       "1347     http://us.imdb.com/M/title-exact?Narayama%20Bu...        0       0   \n",
       "1599     http://us.imdb.com/M/title-exact?Someone%20Els...        0       0   \n",
       "1653     http://us.imdb.com/M/title-exact?Entertaining%...        0       0   \n",
       "1656     http://us.imdb.com/M/title-exact?Little+City+(...        0       0   \n",
       "1500     http://us.imdb.com/M/title-exact?Santa%20with%...        0       0   \n",
       "1189     http://us.imdb.com/M/title-exact?Prefontaine%2...        0       0   \n",
       "\n",
       "         Adventure  Animation  Children  Comedy  Crime  Documentary  Drama  \\\n",
       "movieid                                                                      \n",
       "1122             0          0         0       0      1            0      1   \n",
       "1201             0          0         0       0      0            1      0   \n",
       "1293             1          0         1       0      0            0      0   \n",
       "1467             0          0         0       0      0            0      1   \n",
       "1347             0          0         0       0      0            0      1   \n",
       "1599             0          0         0       0      0            0      1   \n",
       "1653             0          0         0       0      0            0      1   \n",
       "1656             0          0         0       1      0            0      0   \n",
       "1500             0          0         0       1      0            0      0   \n",
       "1189             0          0         0       0      0            0      1   \n",
       "\n",
       "         Fantasy  Film-Noir  Horror  Musical  Mystery  Romance  Sci-Fi  \\\n",
       "movieid                                                                  \n",
       "1122           0          0       0        0        0        0       0   \n",
       "1201           0          0       0        0        0        0       0   \n",
       "1293           1          0       0        0        0        0       1   \n",
       "1467           0          0       0        0        0        0       0   \n",
       "1347           0          0       0        0        0        0       0   \n",
       "1599           0          0       0        0        0        0       0   \n",
       "1653           0          0       0        0        0        0       0   \n",
       "1656           0          0       0        0        0        1       0   \n",
       "1500           0          0       0        0        0        0       0   \n",
       "1189           0          0       0        0        0        0       0   \n",
       "\n",
       "         Thriller  War  Western  \n",
       "movieid                          \n",
       "1122            0    0        0  \n",
       "1201            0    0        0  \n",
       "1293            0    0        0  \n",
       "1467            0    0        0  \n",
       "1347            0    0        0  \n",
       "1599            0    0        0  \n",
       "1653            0    0        0  \n",
       "1656            0    0        0  \n",
       "1500            0    0        0  \n",
       "1189            0    0        0  "
      ]
     },
     "execution_count": 24,
     "metadata": {},
     "output_type": "execute_result"
    }
   ],
   "source": [
    "info_file.loc[[int(m[0]) for m in top_n[\"457\"]]]"
   ]
  },
  {
   "cell_type": "markdown",
   "metadata": {
    "id": "6_Kp3zRwJ9gv"
   },
   "source": [
    "## Explorar los hiperparámetros del modelo UserKnn"
   ]
  },
  {
   "cell_type": "markdown",
   "metadata": {
    "id": "yl2F77nHCcws"
   },
   "source": [
    "Uno de los parámetros que vamos a explorar es el número de vecinos escogidos (Usuarios), para esto calculamos el error del modelo con varios valores de vecinos y observamos cómo es el comportamiento del error."
   ]
  },
  {
   "cell_type": "markdown",
   "metadata": {
    "id": "9OAu4nWor7sT"
   },
   "source": [
    "La biblioteca Surprise tiene un modulo `accuracy` que permite calcular distintas métricas de error, entre ellas el RMSE y el MAE.\n",
    "\n",
    "Para evaluar un modelo entrenado, utilizamos la función `.test()` sobre el testset, lo que nos permite calcular la diferencia entre los valores predichos y los valores reales para los elementos del set de testeo."
   ]
  },
  {
   "cell_type": "code",
   "execution_count": 25,
   "metadata": {
    "colab": {
     "base_uri": "https://localhost:8080/"
    },
    "id": "C-te1p0oaUU_",
    "outputId": "9bee666a-9144-4ea6-944f-66a8eacfe1ff"
   },
   "outputs": [
    {
     "name": "stdout",
     "output_type": "stream",
     "text": [
      "Computing the cosine similarity matrix...\n",
      "Done computing similarity matrix.\n",
      "RMSE: 1.0880\n",
      "MAE:  0.8587\n",
      "Computing the cosine similarity matrix...\n",
      "Done computing similarity matrix.\n",
      "RMSE: 1.0470\n",
      "MAE:  0.8291\n",
      "Computing the cosine similarity matrix...\n",
      "Done computing similarity matrix.\n",
      "RMSE: 1.0347\n",
      "MAE:  0.8197\n",
      "RMSE: [1.0880066691561228, 1.0470099288376837, 1.034653750064812]\n",
      "MAE: [0.8586799408942337, 0.8290726382845803, 0.8197339697540738]\n"
     ]
    }
   ],
   "source": [
    "from surprise import accuracy\n",
    "\n",
    "k_values = [5, 10, 15] # definir distintos valores de vecinos (k)\n",
    "mae_values = [] # para almacenar resultados de MAE\n",
    "rmse_values = [] # para almacenar valores de RMSE\n",
    "\n",
    "for k in k_values:\n",
    "  myUserKnn = surprise.KNNBasic(k=k, sim_options={'name': 'cosine', 'user_based': True})\n",
    "  myUserKnn.fit(trainset)\n",
    "  predictions = myUserKnn.test(testset)\n",
    "  rmse_values.append(accuracy.rmse(predictions))\n",
    "  mae_values.append(accuracy.mae(predictions))\n",
    "\n",
    "print('RMSE:', rmse_values)\n",
    "print('MAE:', mae_values)"
   ]
  },
  {
   "cell_type": "markdown",
   "metadata": {
    "id": "g55SDLmqCpUo"
   },
   "source": [
    "### Evaluar en base a error de prediccion (RMSE y MAE)"
   ]
  },
  {
   "cell_type": "code",
   "execution_count": 26,
   "metadata": {
    "colab": {
     "base_uri": "https://localhost:8080/",
     "height": 451
    },
    "id": "q9E0YClOjPGb",
    "outputId": "0947f4c1-0eae-4fc5-8f74-c9ce32c9f6b4"
   },
   "outputs": [
    {
     "data": {
      "image/png": "[encoded data removed]",
      "text/plain": [
       "<Figure size 640x480 with 1 Axes>"
      ]
     },
     "metadata": {},
     "output_type": "display_data"
    }
   ],
   "source": [
    "import matplotlib.pyplot as plt\n",
    "%matplotlib inline\n",
    "\n",
    "plt.plot(k_values, rmse_values, 'r-')\n",
    "plt.plot(k_values, rmse_values, 'bo')\n",
    "plt.xlabel(\"k\")\n",
    "plt.ylabel(\"RMSE\")\n",
    "plt.show()"
   ]
  },
  {
   "cell_type": "code",
   "execution_count": 27,
   "metadata": {
    "colab": {
     "base_uri": "https://localhost:8080/",
     "height": 449
    },
    "id": "5Mdf79WsDfWX",
    "outputId": "8fbb892b-0848-4c17-d02d-bc5c4a313aa0"
   },
   "outputs": [
    {
     "data": {
      "image/png": "[encoded data removed]",
      "text/plain": [
       "<Figure size 640x480 with 1 Axes>"
      ]
     },
     "metadata": {},
     "output_type": "display_data"
    }
   ],
   "source": [
    "plt.plot(k_values, mae_values, 'y-')\n",
    "plt.plot(k_values, mae_values, 'go')\n",
    "plt.xlabel(\"k\")\n",
    "plt.ylabel(\"MAE\")\n",
    "plt.show()"
   ]
  },
  {
   "cell_type": "markdown",
   "metadata": {
    "id": "jrjMzM5zioaP"
   },
   "source": [
    "Entrenamos un nuevo agente con valores de `k = 5, 10, 15` y podemos observar que tanto el valor del RMSE y del MAE disminuyeron con un mayor valor de `k`."
   ]
  },
  {
   "cell_type": "markdown",
   "metadata": {
    "id": "kzndG2b1uBeC"
   },
   "source": [
    "### Pregunta 3 (12 puntos):\n",
    "\n",
    "Continúe el estudio de los hiperparámetros para los valores de `k = 5, 10, 30, 50, 70, 100 y 150`. Grafique sus resultados y conteste:\n",
    "\n",
    "* Explique, en sus propias palabras, qué se mide con las métricas de RMSE y MAE.\n",
    "* Qué valor de `k` entrega los mejores resultados.\n",
    "* Comente acerca de la forma del gráfico y explique por qué se obtiene un gráfico de esta forma."
   ]
  },
  {
   "cell_type": "markdown",
   "metadata": {},
   "source": [
    "#### Respuesta:"
   ]
  },
  {
   "cell_type": "code",
   "execution_count": 39,
   "metadata": {
    "id": "f-86Djz6vIKu"
   },
   "outputs": [
    {
     "name": "stdout",
     "output_type": "stream",
     "text": [
      "Computing the cosine similarity matrix...\n",
      "Done computing similarity matrix.\n",
      "RMSE: 1.0880\n",
      "MAE:  0.8587\n",
      "Computing the cosine similarity matrix...\n",
      "Done computing similarity matrix.\n",
      "RMSE: 1.0470\n",
      "MAE:  0.8291\n",
      "Computing the cosine similarity matrix...\n",
      "Done computing similarity matrix.\n",
      "RMSE: 1.0248\n",
      "MAE:  0.8139\n",
      "Computing the cosine similarity matrix...\n",
      "Done computing similarity matrix.\n",
      "RMSE: 1.0223\n",
      "MAE:  0.8125\n",
      "Computing the cosine similarity matrix...\n",
      "Done computing similarity matrix.\n",
      "RMSE: 1.0227\n",
      "MAE:  0.8136\n",
      "Computing the cosine similarity matrix...\n",
      "Done computing similarity matrix.\n",
      "RMSE: 1.0249\n",
      "MAE:  0.8164\n",
      "RMSE: [1.0880066691561228, 1.0470099288376837, 1.0248339991369078, 1.0223262772265247, 1.0226955364341241, 1.0249250212627894]\n",
      "MAE: [0.8586799408942337, 0.8290726382845803, 0.8138754558513105, 0.8125053209390201, 0.8135933998242796, 0.8164173443106846]\n"
     ]
    }
   ],
   "source": [
    "k_values = [5, 10, 30, 50, 70, 100] # definir distintos valores de vecinos (k)\n",
    "mae_values = [] # para almacenar resultados de MAE\n",
    "rmse_values = [] # para almacenar valores de RMSE\n",
    "\n",
    "for k in k_values:\n",
    "    \n",
    "  myUserKnn = surprise.KNNBasic(k=k, sim_options={'name': 'cosine', 'user_based': True})\n",
    "  myUserKnn.fit(trainset)\n",
    "  predictions = myUserKnn.test(testset)\n",
    "  rmse_values.append(accuracy.rmse(predictions))\n",
    "  mae_values.append(accuracy.mae(predictions))\n",
    "\n",
    "print('RMSE:', rmse_values)\n",
    "print('MAE:', mae_values)"
   ]
  },
  {
   "cell_type": "code",
   "execution_count": 30,
   "metadata": {},
   "outputs": [
    {
     "data": {
      "image/png": "[encoded data removed]",
      "text/plain": [
       "<Figure size 640x480 with 1 Axes>"
      ]
     },
     "metadata": {},
     "output_type": "display_data"
    }
   ],
   "source": [
    "import matplotlib.pyplot as plt\n",
    "%matplotlib inline\n",
    "\n",
    "plt.plot(k_values, rmse_values, 'r-')\n",
    "plt.plot(k_values, rmse_values, 'bo')\n",
    "plt.xlabel(\"k\")\n",
    "plt.ylabel(\"RMSE\")\n",
    "plt.show()"
   ]
  },
  {
   "cell_type": "code",
   "execution_count": 31,
   "metadata": {},
   "outputs": [
    {
     "data": {
      "image/png": "[encoded data removed]",
      "text/plain": [
       "<Figure size 640x480 with 1 Axes>"
      ]
     },
     "metadata": {},
     "output_type": "display_data"
    }
   ],
   "source": [
    "plt.plot(k_values, mae_values, 'y-')\n",
    "plt.plot(k_values, mae_values, 'go')\n",
    "plt.xlabel(\"k\")\n",
    "plt.ylabel(\"MAE\")\n",
    "plt.show()"
   ]
  },
  {
   "cell_type": "markdown",
   "metadata": {},
   "source": [
    "* Explique, en sus propias palabras, qué se mide con las métricas de RMSE y MAE.\n",
    " \n",
    "RMSE (Root Mean Squared Error): En este contexto, el RMSE calcula la raíz cuadrada del promedio de los errores al cuadrado entre las calificaciones reales y las predicciones del modelo KNNBasic. Esto refleja la precisión general del modelo al predecir las calificaciones de los usuarios para las películas. Valores más bajos de RMSE indican que el modelo hace predicciones más cercanas a las calificaciones reales.\n",
    "\n",
    "MAE (Mean Absolute Error): En este caso, el MAE calcula el promedio de los valores absolutos de los errores entre las calificaciones reales y las predicciones del modelo KNNBasic. Al igual que el RMSE, el MAE también mide la precisión del modelo, pero trata todos los errores por igual sin magnificar errores grandes.\n",
    "\n",
    "* Qué valor de `k` entrega los mejores resultados.\n",
    "  \n",
    "Al observar los resultados vemos que un K  igual a 50 entrega los mejores resultados minimizando el error tanto de la metrica RMSE y MAE.\n",
    "\n",
    "* Comente acerca de la forma del gráfico y explique por qué se obtiene un gráfico de esta forma.\n",
    "  \n",
    "Ocurre que al llegar a un punto igual a 50 el modelo se sobreajusta a los datos de entrenamiento y pierde su poder de generalizar las predicciones que realice por fuere de este dataset.\n",
    "s."
   ]
  },
  {
   "cell_type": "markdown",
   "metadata": {
    "id": "VYUq3kSJz0AK"
   },
   "source": [
    "### Pregunta 4 (12 puntos):\n",
    "\n",
    "Repita el experimento anterior, pero utilizando los algoritmos de IKNN y [FunkSVD](https://surprise.readthedocs.io/en/stable/matrix_factorization.html#surprise.prediction_algorithms.matrix_factorization.SVD) de la biblioteca Surprise. Recuerde evaluar el rendimiento de sus modelos para las métricas de RMSE y MAE\n",
    "\n",
    "* Para el caso de IKnn vuelva a realizar un análisis con los valores de `k = 5, 10, 30, 50, 70, 100` e identifique el valor que entrega el mejor resultado."
   ]
  },
  {
   "cell_type": "markdown",
   "metadata": {},
   "source": [
    "#### IKNN (ItemKNN):\n"
   ]
  },
  {
   "cell_type": "code",
   "execution_count": 37,
   "metadata": {
    "scrolled": true
   },
   "outputs": [
    {
     "name": "stdout",
     "output_type": "stream",
     "text": [
      "Computing the cosine similarity matrix...\n",
      "Done computing similarity matrix.\n",
      "RMSE: 1.2026\n",
      "MAE:  0.9458\n",
      "Computing the cosine similarity matrix...\n",
      "Done computing similarity matrix.\n",
      "RMSE: 1.1183\n",
      "MAE:  0.8810\n",
      "Computing the cosine similarity matrix...\n",
      "Done computing similarity matrix.\n",
      "RMSE: 1.0535\n",
      "MAE:  0.8310\n",
      "Computing the cosine similarity matrix...\n",
      "Done computing similarity matrix.\n",
      "RMSE: 1.0474\n",
      "MAE:  0.8257\n",
      "Computing the cosine similarity matrix...\n",
      "Done computing similarity matrix.\n",
      "RMSE: 1.0489\n",
      "MAE:  0.8294\n",
      "Computing the cosine similarity matrix...\n",
      "Done computing similarity matrix.\n",
      "RMSE: 1.0528\n",
      "MAE:  0.8364\n",
      "Best k based on RMSE: 50\n",
      "Best k based on MAE: 50\n",
      "RMSE: [1.2026497014602677, 1.1182690148176855, 1.053528288892625, 1.0474114308369047, 1.0488827603028315, 1.0527804024208793]\n",
      "MAE: [0.9458074771899645, 0.8809797919490109, 0.830956196694298, 0.8257379441539587, 0.8293620137533942, 0.8363912329141866]\n"
     ]
    }
   ],
   "source": [
    "k_values = [5, 10, 30, 50, 70, 100]\n",
    "mae_values_i = []\n",
    "rmse_values_i = []\n",
    "\n",
    "for k in k_values:\n",
    "    myItemKnn = surprise.KNNBasic(k=k, sim_options={'name': 'cosine', 'user_based': False})\n",
    "    myItemKnn.fit(trainset)\n",
    "    predictions = myItemKnn.test(testset)\n",
    "    rmse_values_i.append(accuracy.rmse(predictions))\n",
    "    mae_values_i.append(accuracy.mae(predictions))\n",
    "\n",
    "# Identificar el mejor valor de k basado en RMSE o MAE más bajo\n",
    "best_k_rmse = k_values[rmse_values.index(min(rmse_values_i))]\n",
    "best_k_mae = k_values[mae_values.index(min(mae_values_i))]\n",
    "\n",
    "print('Best k based on RMSE:', best_k_rmse)\n",
    "print('Best k based on MAE:', best_k_mae)\n",
    "print('RMSE:', rmse_values_i)\n",
    "print('MAE:', mae_values_i)"
   ]
  },
  {
   "cell_type": "code",
   "execution_count": 38,
   "metadata": {},
   "outputs": [
    {
     "data": {
      "text/plain": [
       "1.0474114308369047"
      ]
     },
     "execution_count": 38,
     "metadata": {},
     "output_type": "execute_result"
    }
   ],
   "source": [
    "min(rmse_values_i)"
   ]
  },
  {
   "cell_type": "code",
   "execution_count": 33,
   "metadata": {},
   "outputs": [
    {
     "data": {
      "image/png": "[encoded data removed]",
      "text/plain": [
       "<Figure size 640x480 with 1 Axes>"
      ]
     },
     "metadata": {},
     "output_type": "display_data"
    }
   ],
   "source": [
    "import matplotlib.pyplot as plt\n",
    "%matplotlib inline\n",
    "\n",
    "plt.plot(k_values, rmse_values_i, 'r-')\n",
    "plt.plot(k_values, rmse_values_i, 'bo')\n",
    "plt.xlabel(\"k\")\n",
    "plt.ylabel(\"RMSE\")\n",
    "plt.show()"
   ]
  },
  {
   "cell_type": "code",
   "execution_count": 34,
   "metadata": {},
   "outputs": [
    {
     "data": {
      "image/png": "[encoded data removed]",
      "text/plain": [
       "<Figure size 640x480 with 1 Axes>"
      ]
     },
     "metadata": {},
     "output_type": "display_data"
    }
   ],
   "source": [
    "plt.plot(k_values, mae_values_i, 'y-')\n",
    "plt.plot(k_values, mae_values_i, 'go')\n",
    "plt.xlabel(\"k\")\n",
    "plt.ylabel(\"MAE\")\n",
    "plt.show()"
   ]
  },
  {
   "cell_type": "markdown",
   "metadata": {},
   "source": [
    "### FunkSVD (SVD):\n"
   ]
  },
  {
   "cell_type": "code",
   "execution_count": 35,
   "metadata": {},
   "outputs": [
    {
     "name": "stdout",
     "output_type": "stream",
     "text": [
      "RMSE: 0.9511\n",
      "MAE:  0.7480\n",
      "RMSE (FunkSVD): 0.9510715270183461\n",
      "MAE (FunkSVD): 0.7479780906418138\n"
     ]
    }
   ],
   "source": [
    "funk_svd = surprise.SVD()\n",
    "funk_svd.fit(trainset)\n",
    "predictions = funk_svd.test(testset)\n",
    "rmse_funk_svd = accuracy.rmse(predictions)\n",
    "mae_funk_svd = accuracy.mae(predictions)\n",
    "\n",
    "print('RMSE (FunkSVD):', rmse_funk_svd)\n",
    "print('MAE (FunkSVD):', mae_funk_svd)"
   ]
  },
  {
   "cell_type": "markdown",
   "metadata": {},
   "source": [
    "#### Respuesta: \n",
    "\n",
    "* Dado que el modelo de items (IKNN) estima que el mejor valor de k es 50, significa que después de evaluar el modelo utilizando diferentes valores de k (5, 10, 30, 50, 70, 100), se ha encontrado que k=50 resulta en el rendimiento más óptimo según las métricas de evaluación (RMSE y MAE) para el conjunto de datos y el modelo en cuestión.\n",
    "\n",
    "* Adicional, el modelo FunkSVD tiene un RMSE de 0.95 y un MAE de 0.74. Esto indica que el modelo está haciendo predicciones con una precisión moderada en relación con las calificaciones reales de los usuarios en el conjunto de datos MovieLens-100k."
   ]
  },
  {
   "cell_type": "markdown",
   "metadata": {
    "id": "DQBfzM_nw3vn"
   },
   "source": [
    "### Pregunta 5 (12 puntos):\n",
    "\n",
    "Genere una tabla que compare los resultados de los métodos de UKnn, IKnn y FunkSVD tanto para RMSE como para MAE. En el caso de IKnn y UKnn, solo utilice el modelo con el valor de `k` que haya entregado los mejores resultados. Identifique qué método logró el mejor resultado para ambas métricas.\n",
    "\n",
    "Comente acerca de estos resultados. Explique por qué cree que se obtuvieron estos resultados utilizando la materia aprendida en el curso respecto al funcionamiento de cada método."
   ]
  },
  {
   "cell_type": "code",
   "execution_count": 45,
   "metadata": {},
   "outputs": [
    {
     "data": {
      "text/plain": [
       "1.0474114308369047"
      ]
     },
     "execution_count": 45,
     "metadata": {},
     "output_type": "execute_result"
    }
   ],
   "source": [
    "rmse_values_i[3]"
   ]
  },
  {
   "cell_type": "code",
   "execution_count": 50,
   "metadata": {},
   "outputs": [
    {
     "data": {
      "text/html": [
       "<div>\n",
       "<style scoped>\n",
       "    .dataframe tbody tr th:only-of-type {\n",
       "        vertical-align: middle;\n",
       "    }\n",
       "\n",
       "    .dataframe tbody tr th {\n",
       "        vertical-align: top;\n",
       "    }\n",
       "\n",
       "    .dataframe thead th {\n",
       "        text-align: right;\n",
       "    }\n",
       "</style>\n",
       "<table border=\"1\" class=\"dataframe\">\n",
       "  <thead>\n",
       "    <tr style=\"text-align: right;\">\n",
       "      <th></th>\n",
       "      <th>K=50</th>\n",
       "    </tr>\n",
       "  </thead>\n",
       "  <tbody>\n",
       "    <tr>\n",
       "      <th>RMSE (IKNN)</th>\n",
       "      <td>1.047411</td>\n",
       "    </tr>\n",
       "    <tr>\n",
       "      <th>MAE (IKNN)</th>\n",
       "      <td>0.825738</td>\n",
       "    </tr>\n",
       "    <tr>\n",
       "      <th>RMSE (UKNN)</th>\n",
       "      <td>1.022326</td>\n",
       "    </tr>\n",
       "    <tr>\n",
       "      <th>MAE (UKNN)</th>\n",
       "      <td>0.812505</td>\n",
       "    </tr>\n",
       "    <tr>\n",
       "      <th>RMSE (FunkSVD)</th>\n",
       "      <td>0.951072</td>\n",
       "    </tr>\n",
       "    <tr>\n",
       "      <th>MAE (FunkSVD)</th>\n",
       "      <td>0.747978</td>\n",
       "    </tr>\n",
       "  </tbody>\n",
       "</table>\n",
       "</div>"
      ],
      "text/plain": [
       "                    K=50\n",
       "RMSE (IKNN)     1.047411\n",
       "MAE (IKNN)      0.825738\n",
       "RMSE (UKNN)     1.022326\n",
       "MAE (UKNN)      0.812505\n",
       "RMSE (FunkSVD)  0.951072\n",
       "MAE (FunkSVD)   0.747978"
      ]
     },
     "execution_count": 50,
     "metadata": {},
     "output_type": "execute_result"
    }
   ],
   "source": [
    "# Valores de RMSE y MAE para los modelos\n",
    "# Crear DataFraame\n",
    "data = {\n",
    "    'RMSE (IKNN)': rmse_values_i,\n",
    "    'MAE (IKNN)': mae_values_i,\n",
    "    'RMSE (UKNN)': rmse_values,\n",
    "    'MAE (UKNN)': mae_values,\n",
    "    'RMSE (FunkSVD)': rmse_funk_svd,\n",
    "    'MAE (FunkSVD)': mae_funk_svd\n",
    "}\n",
    "\n",
    "df_results = pd.DataFrame(data)\n",
    "\n",
    "# Mostrar DataFrame con los resultados\n",
    "df_results.iloc[3].to_frame().rename(columns = {3:\"K=50\"})"
   ]
  },
  {
   "cell_type": "markdown",
   "metadata": {},
   "source": [
    "#### Respuesta:\n",
    "\n",
    "Según el RMSE, FunkSVD (SVD) ha obtenido el mejor resultado, con un valor de 0.9511, lo que indica que este método tiene las predicciones más cercanas a las calificaciones reales.\r\n",
    "\n",
    "Según el MAE, también FunkSVD (SVD) ha obtenido el mejor resultado, con un valor de 0.7480, lo que sugiere que este método tiene la menor diferencia promedio entre las predicciones y las calificaciones reales.\n",
    "\r\n",
    "En relación lo aprendidoda en el curso\n",
    "\r\n",
    "\r\n",
    "IKNN y UKNN: Estos son métodos de filtrado colaborativo basados en vecindario, que utilizan similitud entre usuarios o ítems para hacer predicciones. Los resultados pueden variar según el valor de k, que determina cuántos vecinos se consideran. Los mejores valores de k son aquellos que encuentran un equilibrio entre la complejidad del modelo y la capacidad de generalización. En este caso, k=50 fue identificado como el mejor valor para ambos métodos basados en el análisis de RMSE y \n",
    "\n",
    "E.\r\n",
    "\r\n",
    "FunkSVD: Este es un método de factorización matricial que modela las calificaciones como productos de factores latentes. FunkSVD busca encontrar estos factores que representan características latentes en los datos. En este caso, FunkSVD obtuvo los mejores resultados en ambas métricas, lo que sugiere que el modelo de factorización matricial fue capaz de capturar patrones y relaciones subyacentes en los datos de manera efectiva."
   ]
  },
  {
   "cell_type": "markdown",
   "metadata": {
    "id": "H94h1l5mxZKW"
   },
   "source": [
    "### Pregunta 6 (12 puntos):\n",
    "\n",
    "Escoja un usuario del set de datos e imprima los títulos de las películas que ha visto (según el set de entrenamiento) y su calificación. Luego, imprima una lista de 5 recomendaciones entregadas para este usuario por cada uno de los $3$ modelos entrenados y compare estas listas. Comparando los gustos en la historia del usuario y las recomendaciones entregadas por los modelos, le hacen sentido estas recomendaciones. (Su respuesta no necesariamente debe coincidir con las conclusiones finales de la sección experimental).\n",
    "\n",
    "Evite usar a los usuarios 457 y 310 que ya fueron estudiados en la tarea. Recuerde imprimir al menos los títulos de cada película, tanto en la historia del usuario como en las recomendaciones para poder identificarlas correctamente."
   ]
  },
  {
   "cell_type": "markdown",
   "metadata": {},
   "source": [
    "#### Respuesta:"
   ]
  }
 ],
 "metadata": {
  "accelerator": "GPU",
  "colab": {
   "provenance": []
  },
  "kernelspec": {
   "display_name": "Python 3 (ipykernel)",
   "language": "python",
   "name": "python3"
  },
  "language_info": {
   "codemirror_mode": {
    "name": "ipython",
    "version": 3
   },
   "file_extension": ".py",
   "mimetype": "text/x-python",
   "name": "python",
   "nbconvert_exporter": "python",
   "pygments_lexer": "ipython3",
   "version": "3.11.4"
  },
  "varInspector": {
   "cols": {
    "lenName": 16,
    "lenType": 16,
    "lenVar": 40
   },
   "kernels_config": {
    "python": {
     "delete_cmd_postfix": "",
     "delete_cmd_prefix": "del ",
     "library": "var_list.py",
     "varRefreshCmd": "print(var_dic_list())"
    },
    "r": {
     "delete_cmd_postfix": ") ",
     "delete_cmd_prefix": "rm(",
     "library": "var_list.r",
     "varRefreshCmd": "cat(var_dic_list()) "
    }
   },
   "types_to_exclude": [
    "module",
    "function",
    "builtin_function_or_method",
    "instance",
    "_Feature"
   ],
   "window_display": false
  }
 },
 "nbformat": 4,
 "nbformat_minor": 4
}
